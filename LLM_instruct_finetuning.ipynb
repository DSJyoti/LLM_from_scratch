{
  "cells": [
    {
      "cell_type": "markdown",
      "metadata": {
        "id": "7HX1TGK08HMG"
      },
      "source": [
        "## Reading in a short story as text sample into Python."
      ]
    },
    {
      "cell_type": "markdown",
      "metadata": {
        "id": "cfypfYva8HMI"
      },
      "source": [
        "## Step 1: Creating Tokens"
      ]
    },
    {
      "cell_type": "markdown",
      "metadata": {
        "id": "9hI_ccMt8HMJ"
      },
      "source": [
        "<div class=\"alert alert-block alert-success\">\n",
        "\n",
        "The print command prints the total number of characters followed by the first 100\n",
        "characters of this file for illustration purposes. </div>"
      ]
    },
    {
      "cell_type": "code",
      "execution_count": null,
      "metadata": {
        "id": "rDuM_LZk8HMJ"
      },
      "outputs": [],
      "source": [
        "with open(\"the-verdict.txt\", \"r\", encoding=\"utf-8\") as f:\n",
        "    raw_text = f.read()\n",
        "\n",
        "print(\"Total number of character:\", len(raw_text))\n",
        "print(raw_text[:99])"
      ]
    },
    {
      "cell_type": "markdown",
      "metadata": {
        "id": "7K_aPMHl8HML"
      },
      "source": [
        "<div class=\"alert alert-block alert-success\">\n",
        "\n",
        "Our goal is to tokenize this 20,479-character short story into individual words and special\n",
        "characters that we can then turn into embeddings for LLM training  </div>"
      ]
    },
    {
      "cell_type": "markdown",
      "metadata": {
        "id": "wYCT3SH78HMM"
      },
      "source": [
        "<div class=\"alert alert-block alert-warning\">\n",
        "\n",
        "Note that it's common to process millions of articles and hundreds of thousands of\n",
        "books -- many gigabytes of text -- when working with LLMs. However, for educational\n",
        "purposes, it's sufficient to work with smaller text samples like a single book to\n",
        "illustrate the main ideas behind the text processing steps and to make it possible to\n",
        "run it in reasonable time on consumer hardware. </div>"
      ]
    },
    {
      "cell_type": "markdown",
      "metadata": {
        "id": "ArfX6mgr8HMM"
      },
      "source": [
        "<div class=\"alert alert-block alert-success\">\n",
        "\n",
        "How can we best split this text to obtain a list of tokens? For this, we go on a small\n",
        "excursion and use Python's regular expression library re for illustration purposes. (Note\n",
        "that you don't have to learn or memorize any regular expression syntax since we will\n",
        "transition to a pre-built tokenizer later in this chapter.) </div>"
      ]
    },
    {
      "cell_type": "markdown",
      "metadata": {
        "id": "9Vh8I_HU8HMM"
      },
      "source": [
        "<div class=\"alert alert-block alert-warning\">\n",
        "\n",
        "Using some simple example text, we can use the re.split command with the following\n",
        "syntax to split a text on whitespace characters:</div>"
      ]
    },
    {
      "cell_type": "code",
      "execution_count": null,
      "metadata": {
        "id": "vvTARIQ58HMM"
      },
      "outputs": [],
      "source": [
        "import re\n",
        "\n",
        "text = \"Hello, world. This, is a test.\"\n",
        "result = re.split(r'(\\s)', text)\n",
        "\n",
        "print(result)"
      ]
    },
    {
      "cell_type": "markdown",
      "metadata": {
        "id": "UcCb2ZQY8HMN"
      },
      "source": [
        "<div class=\"alert alert-block alert-info\">\n",
        "The result is a list of individual words, whitespaces, and punctuation characters:\n",
        "</div>\n"
      ]
    },
    {
      "cell_type": "markdown",
      "metadata": {
        "id": "M9bUEllI8HMN"
      },
      "source": [
        "<div class=\"alert alert-block alert-warning\">\n",
        "\n",
        "Let's modify the regular expression splits on whitespaces (\\s) and commas, and periods\n",
        "([,.]):</div>"
      ]
    },
    {
      "cell_type": "code",
      "execution_count": null,
      "metadata": {
        "id": "H0nx_6-m8HMO"
      },
      "outputs": [],
      "source": [
        "result = re.split(r'([,.]|\\s)', text)\n",
        "\n",
        "print(result)"
      ]
    },
    {
      "cell_type": "markdown",
      "metadata": {
        "id": "17f6RjQV8HMO"
      },
      "source": [
        "<div class=\"alert alert-block alert-info\">\n",
        "We can see that the words and punctuation characters are now separate list entries just as\n",
        "we wanted\n",
        "</div>\n"
      ]
    },
    {
      "cell_type": "markdown",
      "metadata": {
        "id": "7iJvnXqt8HMO"
      },
      "source": [
        "<div class=\"alert alert-block alert-warning\">\n",
        "\n",
        "A small remaining issue is that the list still includes whitespace characters. Optionally, we\n",
        "can remove these redundant characters safely as follows:</div>"
      ]
    },
    {
      "cell_type": "code",
      "execution_count": null,
      "metadata": {
        "id": "58msapi_8HMO"
      },
      "outputs": [],
      "source": [
        "result = [item for item in result if item.strip()]\n",
        "print(result)"
      ]
    },
    {
      "cell_type": "markdown",
      "metadata": {
        "id": "NVKglMuh8HMP"
      },
      "source": [
        "<div class=\"alert alert-block alert-success\">\n",
        "\n",
        "REMOVING WHITESPACES OR NOT\n",
        "\n",
        "\n",
        "When developing a simple tokenizer, whether we should encode whitespaces as\n",
        "separate characters or just remove them depends on our application and its\n",
        "requirements. Removing whitespaces reduces the memory and computing\n",
        "requirements. However, keeping whitespaces can be useful if we train models that\n",
        "are sensitive to the exact structure of the text (for example, Python code, which is\n",
        "sensitive to indentation and spacing). Here, we remove whitespaces for simplicity\n",
        "and brevity of the tokenized outputs. Later, we will switch to a tokenization scheme\n",
        "that includes whitespaces.\n",
        "\n",
        "</div>"
      ]
    },
    {
      "cell_type": "markdown",
      "metadata": {
        "id": "ui0ZVsaM8HMP"
      },
      "source": [
        "<div class=\"alert alert-block alert-warning\">\n",
        "\n",
        "The tokenization scheme we devised above works well on the simple sample text. Let's\n",
        "modify it a bit further so that it can also handle other types of punctuation, such as\n",
        "question marks, quotation marks, and the double-dashes we have seen earlier in the first\n",
        "100 characters of Edith Wharton's short story, along with additional special characters: </div>"
      ]
    },
    {
      "cell_type": "code",
      "execution_count": null,
      "metadata": {
        "id": "9AhReo6X8HMQ"
      },
      "outputs": [],
      "source": [
        "text = \"Hello, world. Is this-- a test?\"\n",
        "result = re.split(r'([,.:;?_!\"()\\']|--|\\s)', text)\n",
        "result = [item.strip() for item in result if item.strip()]\n",
        "print(result)"
      ]
    },
    {
      "cell_type": "code",
      "execution_count": null,
      "metadata": {
        "id": "PruCFtA68HMR"
      },
      "outputs": [],
      "source": [
        "# Strip whitespace from each item and then filter out any empty strings.\n",
        "result = [item for item in result if item.strip()]\n",
        "print(result)"
      ]
    },
    {
      "cell_type": "code",
      "execution_count": null,
      "metadata": {
        "id": "5069abco8HMS"
      },
      "outputs": [],
      "source": [
        "text = \"Hello, world. Is this-- a test?\"\n",
        "\n",
        "result = re.split(r'([,.:;?_!\"()\\']|--|\\s)', text)\n",
        "result = [item.strip() for item in result if item.strip()]\n",
        "print(result)"
      ]
    },
    {
      "cell_type": "markdown",
      "metadata": {
        "id": "iZOzeW798HMT"
      },
      "source": [
        "<div class=\"alert alert-block alert-success\">\n",
        "\n",
        "Now that we got a basic tokenizer working, let's apply it to Edith Wharton's entire short\n",
        "story:\n",
        "\n",
        "</div>"
      ]
    },
    {
      "cell_type": "code",
      "execution_count": null,
      "metadata": {
        "id": "gl2b7tIw8HMT"
      },
      "outputs": [],
      "source": [
        "preprocessed = re.split(r'([,.:;?_!\"()\\']|--|\\s)', raw_text)\n",
        "preprocessed = [item.strip() for item in preprocessed if item.strip()]\n",
        "print(preprocessed[:30])"
      ]
    },
    {
      "cell_type": "code",
      "execution_count": null,
      "metadata": {
        "id": "4nolxbaQ8HMU"
      },
      "outputs": [],
      "source": [
        "print(len(preprocessed))\n"
      ]
    },
    {
      "cell_type": "markdown",
      "metadata": {
        "id": "xXh6ZcXV8HMU"
      },
      "source": [
        "## Step 2: Creating Token IDs"
      ]
    },
    {
      "cell_type": "markdown",
      "metadata": {
        "id": "in6EcFWv8HMV"
      },
      "source": [
        "<div class=\"alert alert-block alert-warning\">\n",
        "\n",
        "In the previous section, we tokenized Edith Wharton's short story and assigned it to a\n",
        "Python variable called preprocessed. Let's now create a list of all unique tokens and sort\n",
        "them alphabetically to determine the vocabulary size:</div>"
      ]
    },
    {
      "cell_type": "code",
      "execution_count": null,
      "metadata": {
        "id": "yy2g_M7G8HMV"
      },
      "outputs": [],
      "source": [
        "all_words = sorted(set(preprocessed))\n",
        "vocab_size = len(all_words)\n",
        "\n",
        "print(vocab_size)"
      ]
    },
    {
      "cell_type": "markdown",
      "metadata": {
        "id": "PQzMzfzN8HMV"
      },
      "source": [
        "<div class=\"alert alert-block alert-success\">\n",
        "\n",
        "After determining that the vocabulary size is 1,130 via the above code, we create the\n",
        "vocabulary and print its first 51 entries for illustration purposes:\n",
        "\n",
        "</div>"
      ]
    },
    {
      "cell_type": "code",
      "execution_count": null,
      "metadata": {
        "id": "Nz3shD338HMW"
      },
      "outputs": [],
      "source": [
        "vocab = {token:integer for integer,token in enumerate(all_words)}\n"
      ]
    },
    {
      "cell_type": "code",
      "execution_count": null,
      "metadata": {
        "id": "Qohj4kW48HMX"
      },
      "outputs": [],
      "source": [
        "for i, item in enumerate(vocab.items()):\n",
        "    print(item)\n",
        "    if i >= 50:\n",
        "        break"
      ]
    },
    {
      "cell_type": "markdown",
      "metadata": {
        "id": "kYV8zbHT8HMX"
      },
      "source": [
        "<div class=\"alert alert-block alert-info\">\n",
        "As we can see, based on the output above, the dictionary contains individual tokens\n",
        "associated with unique integer labels.\n",
        "</div>"
      ]
    },
    {
      "cell_type": "markdown",
      "metadata": {
        "id": "d3_9rfau8HMX"
      },
      "source": [
        "<div class=\"alert alert-block alert-success\">\n",
        "\n",
        "Later in this book, when we want to convert the outputs of an LLM from numbers back into\n",
        "text, we also need a way to turn token IDs into text.\n",
        "\n",
        "For this, we can create an inverse\n",
        "version of the vocabulary that maps token IDs back to corresponding text tokens.\n",
        "\n",
        "</div>"
      ]
    },
    {
      "cell_type": "markdown",
      "metadata": {
        "id": "OHTxjat78HMX"
      },
      "source": [
        "<div class=\"alert alert-block alert-success\">\n",
        "\n",
        "Let's implement a complete tokenizer class in Python.\n",
        "\n",
        "The class will have an encode method that splits\n",
        "text into tokens and carries out the string-to-integer mapping to produce token IDs via the\n",
        "vocabulary.\n",
        "\n",
        "In addition, we implement a decode method that carries out the reverse\n",
        "integer-to-string mapping to convert the token IDs back into text.\n",
        "\n",
        "</div>"
      ]
    },
    {
      "cell_type": "markdown",
      "metadata": {
        "id": "CCP83b3-8HMX"
      },
      "source": [
        "<div class=\"alert alert-block alert-info\">\n",
        "    \n",
        "Step 1: Store the vocabulary as a class attribute for access in the encode and decode methods\n",
        "    \n",
        "Step 2: Create an inverse vocabulary that maps token IDs back to the original text tokens\n",
        "\n",
        "Step 3: Process input text into token IDs\n",
        "\n",
        "Step 4: Convert token IDs back into text\n",
        "\n",
        "Step 5: Replace spaces before the specified punctuation\n",
        "\n",
        "</div>\n",
        "\n"
      ]
    },
    {
      "cell_type": "code",
      "execution_count": null,
      "metadata": {
        "id": "kRJBlNpx8HMY"
      },
      "outputs": [],
      "source": [
        "class SimpleTokenizerV1:\n",
        "    def __init__(self, vocab):\n",
        "        self.str_to_int = vocab\n",
        "        self.int_to_str = {i:s for s,i in vocab.items()}\n",
        "\n",
        "    def encode(self, text):\n",
        "        preprocessed = re.split(r'([,.:;?_!\"()\\']|--|\\s)', text)\n",
        "\n",
        "        preprocessed = [\n",
        "            item.strip() for item in preprocessed if item.strip()\n",
        "        ]\n",
        "        ids = [self.str_to_int[s] for s in preprocessed]\n",
        "        return ids\n",
        "\n",
        "    def decode(self, ids):\n",
        "        text = \" \".join([self.int_to_str[i] for i in ids])\n",
        "        # Replace spaces before the specified punctuations\n",
        "        text = re.sub(r'\\s+([,.?!\"()\\'])', r'\\1', text)\n",
        "        return text"
      ]
    },
    {
      "cell_type": "markdown",
      "metadata": {
        "id": "Jys7vDFv8HMY"
      },
      "source": [
        "<div class=\"alert alert-block alert-success\">\n",
        "\n",
        "Let's instantiate a new tokenizer object from the SimpleTokenizerV1 class and tokenize a\n",
        "passage from Edith Wharton's short story to try it out in practice:\n",
        "</div>"
      ]
    },
    {
      "cell_type": "code",
      "execution_count": null,
      "metadata": {
        "id": "Zl0cDnGU8HMY"
      },
      "outputs": [],
      "source": [
        "tokenizer = SimpleTokenizerV1(vocab)\n",
        "\n",
        "text = \"\"\"\"It's the last he painted, you know,\"\n",
        "           Mrs. Gisburn said with pardonable pride.\"\"\"\n",
        "ids = tokenizer.encode(text)\n",
        "print(ids)"
      ]
    },
    {
      "cell_type": "markdown",
      "metadata": {
        "id": "cUFLYMoU8HMY"
      },
      "source": [
        "<div class=\"alert alert-block alert-info\">\n",
        "    \n",
        "The code above prints the following token IDs:\n",
        "Next, let's see if we can turn these token IDs back into text using the decode method:\n",
        "</div>"
      ]
    },
    {
      "cell_type": "code",
      "execution_count": null,
      "metadata": {
        "id": "XuowdwXk8HMZ"
      },
      "outputs": [],
      "source": [
        "tokenizer.decode(ids)\n"
      ]
    },
    {
      "cell_type": "markdown",
      "metadata": {
        "id": "fEKTJjzX8HMZ"
      },
      "source": [
        "<div class=\"alert alert-block alert-info\">\n",
        "    \n",
        "Based on the output above, we can see that the decode method successfully converted the\n",
        "token IDs back into the original text.\n",
        "</div>"
      ]
    },
    {
      "cell_type": "markdown",
      "metadata": {
        "id": "VtUrrK8g8HMh"
      },
      "source": [
        "<div class=\"alert alert-block alert-success\">\n",
        "\n",
        "So far, so good. We implemented a tokenizer capable of tokenizing and de-tokenizing\n",
        "text based on a snippet from the training set.\n",
        "\n",
        "Let's now apply it to a new text sample that\n",
        "is not contained in the training set:\n",
        "</div>"
      ]
    },
    {
      "cell_type": "code",
      "execution_count": null,
      "metadata": {
        "id": "hp_tq7UZ8HMi"
      },
      "outputs": [],
      "source": [
        "text = \"Hello, do you like tea?\"\n",
        "print(tokenizer.encode(text))"
      ]
    },
    {
      "cell_type": "markdown",
      "metadata": {
        "id": "A0FHLRGs8HMj"
      },
      "source": [
        "<div class=\"alert alert-block alert-info\">\n",
        "    \n",
        "The problem is that the word \"Hello\" was not used in the The Verdict short story.\n",
        "\n",
        "Hence, it\n",
        "is not contained in the vocabulary.\n",
        "\n",
        "This highlights the need to consider large and diverse\n",
        "training sets to extend the vocabulary when working on LLMs.\n",
        "\n",
        "</div>"
      ]
    },
    {
      "cell_type": "markdown",
      "metadata": {
        "id": "_poswZZt8HMk"
      },
      "source": [
        "### ADDING SPECIAL CONTEXT TOKENS\n",
        "\n",
        "In the previous section, we implemented a simple tokenizer and applied it to a passage\n",
        "from the training set.\n",
        "\n",
        "In this section, we will modify this tokenizer to handle unknown\n",
        "words.\n",
        "\n",
        "\n",
        "In particular, we will modify the vocabulary and tokenizer we implemented in the\n",
        "previous section, SimpleTokenizerV2, to support two new tokens, <|unk|> and\n",
        "<|endoftext|>"
      ]
    },
    {
      "cell_type": "markdown",
      "metadata": {
        "id": "yvFaz1UC8HMk"
      },
      "source": [
        "<div class=\"alert alert-block alert-warning\">\n",
        "\n",
        "We can modify the tokenizer to use an <|unk|> token if it\n",
        "encounters a word that is not part of the vocabulary.\n",
        "\n",
        "Furthermore, we add a token between\n",
        "unrelated texts.\n",
        "\n",
        "For example, when training GPT-like LLMs on multiple independent\n",
        "documents or books, it is common to insert a token before each document or book that\n",
        "follows a previous text source\n",
        "\n",
        "</div>\n",
        "\n"
      ]
    },
    {
      "cell_type": "markdown",
      "metadata": {
        "id": "_cOeOZMD8HMl"
      },
      "source": [
        "<div class=\"alert alert-block alert-success\">\n",
        "\n",
        "Let's now modify the vocabulary to include these two special tokens, <unk> and\n",
        "<|endoftext|>, by adding these to the list of all unique words that we created in the\n",
        "previous section:\n",
        "</div>"
      ]
    },
    {
      "cell_type": "code",
      "execution_count": null,
      "metadata": {
        "id": "-ohtC21V8HMl"
      },
      "outputs": [],
      "source": [
        "all_tokens = sorted(list(set(preprocessed)))\n",
        "all_tokens.extend([\"<|endoftext|>\", \"<|unk|>\"])\n",
        "\n",
        "vocab = {token:integer for integer,token in enumerate(all_tokens)}"
      ]
    },
    {
      "cell_type": "code",
      "execution_count": null,
      "metadata": {
        "id": "lfmrofTV8HMl"
      },
      "outputs": [],
      "source": [
        "len(vocab.items())\n"
      ]
    },
    {
      "cell_type": "markdown",
      "metadata": {
        "id": "xz10rCGl8HMm"
      },
      "source": [
        "<div class=\"alert alert-block alert-info\">\n",
        "    \n",
        "Based on the output of the print statement above, the new vocabulary size is 1132 (the\n",
        "vocabulary size in the previous section was 1130).\n",
        "\n",
        "</div>\n",
        "\n"
      ]
    },
    {
      "cell_type": "markdown",
      "metadata": {
        "id": "SgDKkojb8HMm"
      },
      "source": [
        "<div class=\"alert alert-block alert-success\">\n",
        "\n",
        "As an additional quick check, let's print the last 5 entries of the updated vocabulary:\n",
        "</div>"
      ]
    },
    {
      "cell_type": "code",
      "execution_count": null,
      "metadata": {
        "id": "0ylF6hDO8HMm"
      },
      "outputs": [],
      "source": [
        "for i, item in enumerate(list(vocab.items())[-5:]):\n",
        "    print(item)"
      ]
    },
    {
      "cell_type": "markdown",
      "metadata": {
        "id": "Udwf3td58HMm"
      },
      "source": [
        "<div class=\"alert alert-block alert-success\">\n",
        "\n",
        "A simple text tokenizer that handles unknown words</div>\n",
        "\n"
      ]
    },
    {
      "cell_type": "markdown",
      "metadata": {
        "id": "rVLRQ_ry8HMm"
      },
      "source": [
        "<div class=\"alert alert-block alert-info\">\n",
        "    \n",
        "Step 1: Replace unknown words by <|unk|> tokens\n",
        "    \n",
        "Step 2: Replace spaces before the specified punctuations\n",
        "\n",
        "</div>\n"
      ]
    },
    {
      "cell_type": "code",
      "execution_count": null,
      "metadata": {
        "id": "7s-Z7SAb8HMn"
      },
      "outputs": [],
      "source": [
        "class SimpleTokenizerV2:\n",
        "    def __init__(self, vocab):\n",
        "        self.str_to_int = vocab\n",
        "        self.int_to_str = { i:s for s,i in vocab.items()}\n",
        "\n",
        "    def encode(self, text):\n",
        "        preprocessed = re.split(r'([,.:;?_!\"()\\']|--|\\s)', text)\n",
        "        preprocessed = [item.strip() for item in preprocessed if item.strip()]\n",
        "        preprocessed = [\n",
        "            item if item in self.str_to_int\n",
        "            else \"<|unk|>\" for item in preprocessed\n",
        "        ]\n",
        "\n",
        "        ids = [self.str_to_int[s] for s in preprocessed]\n",
        "        return ids\n",
        "\n",
        "    def decode(self, ids):\n",
        "        text = \" \".join([self.int_to_str[i] for i in ids])\n",
        "        # Replace spaces before the specified punctuations\n",
        "        text = re.sub(r'\\s+([,.:;?!\"()\\'])', r'\\1', text)\n",
        "        return text"
      ]
    },
    {
      "cell_type": "code",
      "execution_count": null,
      "metadata": {
        "id": "7pZG6fhD8HMn"
      },
      "outputs": [],
      "source": [
        "tokenizer = SimpleTokenizerV2(vocab)\n",
        "\n",
        "text1 = \"Hello, do you like tea?\"\n",
        "text2 = \"In the sunlit terraces of the palace.\"\n",
        "\n",
        "text = \" <|endoftext|> \".join((text1, text2))\n",
        "\n",
        "print(text)"
      ]
    },
    {
      "cell_type": "code",
      "execution_count": null,
      "metadata": {
        "id": "FAQzfTAx8HMn"
      },
      "outputs": [],
      "source": [
        "tokenizer.encode(text)\n"
      ]
    },
    {
      "cell_type": "code",
      "execution_count": null,
      "metadata": {
        "id": "Svm7HhLn8HMo"
      },
      "outputs": [],
      "source": [
        "tokenizer.decode(tokenizer.encode(text))"
      ]
    },
    {
      "cell_type": "markdown",
      "metadata": {
        "id": "GmedO8bf8HMo"
      },
      "source": [
        "\n",
        "<div class=\"alert alert-block alert-info\">\n",
        "    \n",
        "Based on comparing the de-tokenized text above with the original input text, we know that\n",
        "the training dataset, Edith Wharton's short story The Verdict, did not contain the words\n",
        "\"Hello\" and \"palace.\"\n",
        "\n",
        "</div>\n"
      ]
    },
    {
      "cell_type": "markdown",
      "metadata": {
        "id": "qDu7cv1u8HMo"
      },
      "source": [
        "<div class=\"alert alert-block alert-warning\">\n",
        "\n",
        "So far, we have discussed tokenization as an essential step in processing text as input to\n",
        "LLMs. Depending on the LLM, some researchers also consider additional special tokens such\n",
        "as the following:\n",
        "\n",
        "[BOS] (beginning of sequence): This token marks the start of a text. It\n",
        "signifies to the LLM where a piece of content begins.\n",
        "\n",
        "[EOS] (end of sequence): This token is positioned at the end of a text,\n",
        "and is especially useful when concatenating multiple unrelated texts,\n",
        "similar to <|endoftext|>. For instance, when combining two different\n",
        "Wikipedia articles or books, the [EOS] token indicates where one article\n",
        "ends and the next one begins.\n",
        "\n",
        "[PAD] (padding): When training LLMs with batch sizes larger than one,\n",
        "the batch might contain texts of varying lengths. To ensure all texts have\n",
        "the same length, the shorter texts are extended or \"padded\" using the\n",
        "[PAD] token, up to the length of the longest text in the batch.\n",
        "\n",
        "</div>\n"
      ]
    },
    {
      "cell_type": "markdown",
      "metadata": {
        "id": "Wn4ie-jY8HMp"
      },
      "source": [
        "<div class=\"alert alert-block alert-warning\">\n",
        "\n",
        "Note that the tokenizer used for GPT models does not need any of these tokens mentioned\n",
        "above but only uses an <|endoftext|> token for simplicity\n",
        "\n",
        "</div>"
      ]
    },
    {
      "cell_type": "markdown",
      "metadata": {
        "id": "EXGV15xB8HMp"
      },
      "source": [
        "<div class=\"alert alert-block alert-warning\">\n",
        "\n",
        "the tokenizer used for GPT models also doesn't use an <|unk|> token for outof-vocabulary words. Instead, GPT models use a byte pair encoding tokenizer, which breaks\n",
        "down words into subword units\n",
        "</div>"
      ]
    },
    {
      "cell_type": "markdown",
      "metadata": {
        "id": "rgJRM9p58HMp"
      },
      "source": [
        "### BYTE PAIR ENCODING (BPE)\n"
      ]
    },
    {
      "cell_type": "markdown",
      "metadata": {
        "id": "4_jjmiku8HMp"
      },
      "source": [
        "<div class=\"alert alert-block alert-success\">\n",
        "\n",
        "We implemented a simple tokenization scheme in the previous sections for illustration\n",
        "purposes.\n",
        "\n",
        "This section covers a more sophisticated tokenization scheme based on a concept\n",
        "called byte pair encoding (BPE).\n",
        "\n",
        "The BPE tokenizer covered in this section was used to train\n",
        "LLMs such as GPT-2, GPT-3, and the original model used in ChatGPT.</div>"
      ]
    },
    {
      "cell_type": "code",
      "execution_count": null,
      "metadata": {
        "id": "R1gQVcrN8HMp"
      },
      "outputs": [],
      "source": [
        "! pip3 install tiktoken"
      ]
    },
    {
      "cell_type": "code",
      "execution_count": null,
      "metadata": {
        "id": "WqF6ShjO8HMq"
      },
      "outputs": [],
      "source": [
        "import importlib\n",
        "import tiktoken\n",
        "\n",
        "print(\"tiktoken version:\", importlib.metadata.version(\"tiktoken\"))"
      ]
    },
    {
      "cell_type": "markdown",
      "metadata": {
        "id": "me1XgCPG8HMq"
      },
      "source": [
        "<div class=\"alert alert-block alert-success\">\n",
        "Once installed, we can instantiate the BPE tokenizer from tiktoken as follows:</div>\n"
      ]
    },
    {
      "cell_type": "code",
      "execution_count": null,
      "metadata": {
        "id": "5ahxF4_t8HMq"
      },
      "outputs": [],
      "source": [
        "tokenizer = tiktoken.get_encoding(\"gpt2\")"
      ]
    },
    {
      "cell_type": "markdown",
      "metadata": {
        "id": "VhPrRCqS8HMr"
      },
      "source": [
        "<div class=\"alert alert-block alert-success\">\n",
        "The usage of this tokenizer is similar to SimpleTokenizerV2 we implemented previously via\n",
        "an encode method:</div>\n",
        "\n"
      ]
    },
    {
      "cell_type": "code",
      "execution_count": null,
      "metadata": {
        "id": "mXJwkaUV8HMr"
      },
      "outputs": [],
      "source": [
        "text = (\n",
        "    \"Hello, do you like tea? <|endoftext|> In the sunlit terraces\"\n",
        "     \"of someunknownPlace.\"\n",
        ")\n",
        "\n",
        "integers = tokenizer.encode(text, allowed_special={\"<|endoftext|>\"})\n",
        "\n",
        "print(integers)"
      ]
    },
    {
      "cell_type": "markdown",
      "metadata": {
        "id": "3-HqdQ-H8HMr"
      },
      "source": [
        "<div class=\"alert alert-block alert-info\">\n",
        "    \n",
        "The code above prints the following token IDs:\n",
        "\n",
        "</div>"
      ]
    },
    {
      "cell_type": "markdown",
      "metadata": {
        "id": "UVVJ8eZI8HMr"
      },
      "source": [
        "<div class=\"alert alert-block alert-success\">\n",
        "We can then convert the token IDs back into text using the decode method, similar to our\n",
        "SimpleTokenizerV2 earlier:</div>\n"
      ]
    },
    {
      "cell_type": "code",
      "execution_count": null,
      "metadata": {
        "id": "v7KqaE-A8HMs"
      },
      "outputs": [],
      "source": [
        "strings = tokenizer.decode(integers)\n",
        "\n",
        "print(strings)"
      ]
    },
    {
      "cell_type": "markdown",
      "metadata": {
        "id": "NrbCHV4Q8HMs"
      },
      "source": [
        "<div class=\"alert alert-block alert-warning\">\n",
        "\n",
        "We can make two noteworthy observations based on the token IDs and decoded text\n",
        "above.\n",
        "\n",
        "First, the <|endoftext|> token is assigned a relatively large token ID, namely,\n",
        "50256.\n",
        "\n",
        "In fact, the BPE tokenizer, which was used to train models such as GPT-2, GPT-3,\n",
        "and the original model used in ChatGPT, has a total vocabulary size of 50,257, with\n",
        "<|endoftext|> being assigned the largest token ID.\n",
        "    \n",
        "\n",
        "\n",
        "</div>"
      ]
    },
    {
      "cell_type": "markdown",
      "metadata": {
        "id": "SDoZ0fgi8HMs"
      },
      "source": [
        "<div class=\"alert alert-block alert-warning\">\n",
        "\n",
        "Second, the BPE tokenizer above encodes and decodes unknown words, such as\n",
        "\"someunknownPlace\" correctly.\n",
        "\n",
        "The BPE tokenizer can handle any unknown word. How does\n",
        "it achieve this without using <|unk|> tokens?\n",
        "    \n",
        "\n",
        "\n",
        "</div>"
      ]
    },
    {
      "cell_type": "markdown",
      "metadata": {
        "id": "hylTnT1a8HMs"
      },
      "source": [
        "<div class=\"alert alert-block alert-warning\">\n",
        "\n",
        "The algorithm underlying BPE breaks down words that aren't in its predefined vocabulary\n",
        "into smaller subword units or even individual characters.\n",
        "\n",
        "The enables it to handle out-ofvocabulary words.\n",
        "\n",
        "So, thanks to the BPE algorithm, if the tokenizer encounters an\n",
        "unfamiliar word during tokenization, it can represent it as a sequence of subword tokens or\n",
        "characters\n",
        "    \n",
        "\n",
        "\n",
        "</div>"
      ]
    },
    {
      "cell_type": "markdown",
      "metadata": {
        "id": "Lm_a8hz08HMt"
      },
      "source": [
        "**Let us take another simple example to illustrate how the BPE tokenizer deals with unknown tokens**"
      ]
    },
    {
      "cell_type": "code",
      "execution_count": null,
      "metadata": {
        "id": "BHNTW8yu8HMt"
      },
      "outputs": [],
      "source": [
        "integers = tokenizer.encode(\"Akwirw ier\")\n",
        "print(integers)\n",
        "\n",
        "strings = tokenizer.decode(integers)\n",
        "print(strings)"
      ]
    },
    {
      "cell_type": "code",
      "execution_count": null,
      "metadata": {
        "id": "tdLNi4Vl8HMt"
      },
      "outputs": [],
      "source": [
        "import tiktoken\n",
        "\n",
        "# Initialize the encodings for GPT-2, GPT-3, and GPT-4\n",
        "encodings = {\n",
        "    \"gpt2\": tiktoken.get_encoding(\"gpt2\"),\n",
        "    \"gpt3\": tiktoken.get_encoding(\"p50k_base\"),  # Commonly associated with GPT-3 models\n",
        "    \"gpt4\": tiktoken.get_encoding(\"cl100k_base\")  # Used for GPT-4 and later versions\n",
        "}\n",
        "\n",
        "# Get the vocabulary size for each encoding\n",
        "vocab_sizes = {model: encoding.n_vocab for model, encoding in encodings.items()}\n",
        "\n",
        "# Print the vocabulary sizes\n",
        "for model, size in vocab_sizes.items():\n",
        "    print(f\"The vocabulary size for {model.upper()} is: {size}\")\n"
      ]
    },
    {
      "cell_type": "markdown",
      "metadata": {
        "id": "ftKTRFbU8HMt"
      },
      "source": [
        "### CREATING INPUT-TARGET PAIRS"
      ]
    },
    {
      "cell_type": "markdown",
      "metadata": {
        "id": "pmghVRge8HMu"
      },
      "source": [
        "<div class=\"alert alert-block alert-success\">\n",
        "In this section we implement a data loader that fetches the input-target pairs using a sliding window approach.</div>"
      ]
    },
    {
      "cell_type": "markdown",
      "metadata": {
        "id": "yl2000bG8HMu"
      },
      "source": [
        "<div class=\"alert alert-block alert-success\">\n",
        "To get started, we will first tokenize the whole The Verdict short story we worked with\n",
        "earlier using the BPE tokenizer introduced in the previous section:</div>\n",
        "\n"
      ]
    },
    {
      "cell_type": "code",
      "execution_count": null,
      "metadata": {
        "id": "j5yBvafd8HMu"
      },
      "outputs": [],
      "source": [
        "with open(\"the-verdict.txt\", \"r\", encoding=\"utf-8\") as f:\n",
        "    raw_text = f.read()\n",
        "\n",
        "enc_text = tokenizer.encode(raw_text)\n",
        "print(len(enc_text))"
      ]
    },
    {
      "cell_type": "markdown",
      "metadata": {
        "id": "kl_OiwlG8HMu"
      },
      "source": [
        "<div class=\"alert alert-block alert-info\">\n",
        "    \n",
        "Executing the code above will return 5145, the total number of tokens in the training set,\n",
        "after applying the BPE tokenizer.\n",
        "\n",
        "</div>"
      ]
    },
    {
      "cell_type": "markdown",
      "metadata": {
        "id": "w3TSBSgp8HMv"
      },
      "source": [
        "<div class=\"alert alert-block alert-success\">\n",
        "Next, we remove the first 50 tokens from the dataset for demonstration purposes as it\n",
        "results in a slightly more interesting text passage in the next steps:</div>"
      ]
    },
    {
      "cell_type": "code",
      "execution_count": null,
      "metadata": {
        "id": "ec9PnxV_8HMv"
      },
      "outputs": [],
      "source": [
        "enc_sample = enc_text[50:]\n"
      ]
    },
    {
      "cell_type": "markdown",
      "metadata": {
        "id": "jRwYbAV88HMv"
      },
      "source": [
        "<div class=\"alert alert-block alert-success\">\n",
        "One of the easiest and most intuitive ways to create the input-target pairs for the nextword prediction task is to create two variables, x and y, where x contains the input tokens\n",
        "and y contains the targets, which are the inputs shifted by 1:</div>"
      ]
    },
    {
      "cell_type": "markdown",
      "metadata": {
        "id": "8zz7L8278HMv"
      },
      "source": [
        "<div class=\"alert alert-block alert-info\">\n",
        "The context size determines how many tokens are included in the input\n",
        "\n",
        "</div>\n",
        "\n"
      ]
    },
    {
      "cell_type": "code",
      "execution_count": null,
      "metadata": {
        "id": "Ym1ZMDPb8HMw"
      },
      "outputs": [],
      "source": [
        "context_size = 4 #length of the input\n",
        "#The context_size of 4 means that the model is trained to look at a sequence of 4 words (or tokens)\n",
        "#to predict the next word in the sequence.\n",
        "#The input x is the first 4 tokens [1, 2, 3, 4], and the target y is the next 4 tokens [2, 3, 4, 5]\n",
        "\n",
        "x = enc_sample[:context_size]\n",
        "y = enc_sample[1:context_size+1]\n",
        "\n",
        "print(f\"x: {x}\")\n",
        "print(f\"y:      {y}\")"
      ]
    },
    {
      "cell_type": "markdown",
      "metadata": {
        "id": "ZQ3yJKGq8HMw"
      },
      "source": [
        "<div class=\"alert alert-block alert-success\">\n",
        "Processing the inputs along with the targets, which are the inputs shifted by one position,\n",
        "we can then create the next-word prediction tasks as\n",
        "follows:</div>"
      ]
    },
    {
      "cell_type": "code",
      "execution_count": null,
      "metadata": {
        "id": "mFWn86Po8HMw"
      },
      "outputs": [],
      "source": [
        "for i in range(1, context_size+1):\n",
        "    context = enc_sample[:i]\n",
        "    desired = enc_sample[i]\n",
        "\n",
        "    print(context, \"---->\", desired)"
      ]
    },
    {
      "cell_type": "markdown",
      "metadata": {
        "id": "U3vgx2f_8HMx"
      },
      "source": [
        "<div class=\"alert alert-block alert-info\">\n",
        "Everything left of the arrow (---->) refers to the input an LLM would receive, and the token\n",
        "ID on the right side of the arrow represents the target token ID that the LLM is supposed to\n",
        "predict.\n",
        "</div>"
      ]
    },
    {
      "cell_type": "markdown",
      "metadata": {
        "id": "KgQnuKJN8HMx"
      },
      "source": [
        "<div class=\"alert alert-block alert-success\">\n",
        "For illustration purposes, let's repeat the previous code but convert the token IDs into\n",
        "text:</div>"
      ]
    },
    {
      "cell_type": "code",
      "execution_count": null,
      "metadata": {
        "id": "BxcIB20Q8HMx"
      },
      "outputs": [],
      "source": [
        "for i in range(1, context_size+1):\n",
        "    context = enc_sample[:i]\n",
        "    desired = enc_sample[i]\n",
        "\n",
        "    print(tokenizer.decode(context), \"---->\", tokenizer.decode([desired]))"
      ]
    },
    {
      "cell_type": "markdown",
      "metadata": {
        "id": "YHa5knAn8HMy"
      },
      "source": [
        "<div class=\"alert alert-block alert-warning\">\n",
        "\n",
        "We've now created the input-target pairs that we can turn into use for the LLM training in\n",
        "upcoming chapters.\n",
        "    \n",
        "</div>"
      ]
    },
    {
      "cell_type": "markdown",
      "metadata": {
        "id": "37vwiThY8HMy"
      },
      "source": [
        "<div class=\"alert alert-block alert-warning\">\n",
        "\n",
        "There's only one more task before we can turn the tokens into embeddings:implementing an efficient data loader that\n",
        "iterates over the input dataset and returns the inputs and targets as PyTorch tensors, which\n",
        "can be thought of as multidimensional arrays.\n",
        "    \n",
        "</div>"
      ]
    },
    {
      "cell_type": "markdown",
      "metadata": {
        "id": "3KxYu-yG8HMy"
      },
      "source": [
        "<div class=\"alert alert-block alert-warning\">\n",
        "\n",
        "In particular, we are interested in returning two tensors: an input tensor containing the\n",
        "text that the LLM sees and a target tensor that includes the targets for the LLM to predict,\n",
        "    \n",
        "</div>"
      ]
    },
    {
      "cell_type": "markdown",
      "metadata": {
        "id": "62aOcTVe8HMy"
      },
      "source": [
        "### IMPLEMENTING A DATA LOADER"
      ]
    },
    {
      "cell_type": "markdown",
      "metadata": {
        "id": "BfDGydHR8HMy"
      },
      "source": [
        "<div class=\"alert alert-block alert-success\">\n",
        "For the efficient data loader implementation, we will use PyTorch's built-in Dataset and\n",
        "DataLoader classes.</div>"
      ]
    },
    {
      "cell_type": "markdown",
      "metadata": {
        "id": "HlohvRT88HMy"
      },
      "source": [
        "<div class=\"alert alert-block alert-info\">\n",
        "    \n",
        "Step 1: Tokenize the entire text\n",
        "    \n",
        "Step 2: Use a sliding window to chunk the book into overlapping sequences of max_length\n",
        "\n",
        "Step 3: Return the total number of rows in the dataset\n",
        "\n",
        "Step 4: Return a single row from the dataset\n",
        "</div>"
      ]
    },
    {
      "cell_type": "code",
      "execution_count": null,
      "metadata": {
        "id": "2sw9Jhbm8HMy"
      },
      "outputs": [],
      "source": [
        "from torch.utils.data import Dataset, DataLoader\n",
        "\n",
        "\n",
        "class GPTDatasetV1(Dataset):\n",
        "    def __init__(self, txt, tokenizer, max_length, stride):\n",
        "        self.input_ids = []\n",
        "        self.target_ids = []\n",
        "\n",
        "        # Tokenize the entire text\n",
        "        token_ids = tokenizer.encode(txt, allowed_special={\"<|endoftext|>\"})\n",
        "\n",
        "        # Use a sliding window to chunk the book into overlapping sequences of max_length\n",
        "        for i in range(0, len(token_ids) - max_length, stride):\n",
        "            input_chunk = token_ids[i:i + max_length]\n",
        "            target_chunk = token_ids[i + 1: i + max_length + 1]\n",
        "            self.input_ids.append(torch.tensor(input_chunk))\n",
        "            self.target_ids.append(torch.tensor(target_chunk))\n",
        "\n",
        "    def __len__(self):\n",
        "        return len(self.input_ids)\n",
        "\n",
        "    def __getitem__(self, idx):\n",
        "        return self.input_ids[idx], self.target_ids[idx]"
      ]
    },
    {
      "cell_type": "markdown",
      "metadata": {
        "id": "VIg3yTBZ8HMz"
      },
      "source": [
        "<div class=\"alert alert-block alert-warning\">\n",
        "\n",
        "The GPTDatasetV1 class in listing 2.5 is based on the PyTorch Dataset class.\n",
        "\n",
        "It defines how individual rows are fetched from the dataset.\n",
        "\n",
        "Each row consists of a number of\n",
        "token IDs (based on a max_length) assigned to an input_chunk tensor.\n",
        "\n",
        "The target_chunk\n",
        "tensor contains the corresponding targets.\n",
        "\n",
        "I recommend reading on to see how the data\n",
        "returned from this dataset looks like when we combine the dataset with a PyTorch\n",
        "DataLoader -- this will bring additional intuition and clarity.\n",
        "    \n",
        "</div>"
      ]
    },
    {
      "cell_type": "markdown",
      "metadata": {
        "id": "nyNQNtbr8HMz"
      },
      "source": [
        "<div class=\"alert alert-block alert-success\">\n",
        "The following code will use the GPTDatasetV1 to load the inputs in batches via a PyTorch\n",
        "DataLoader:</div>"
      ]
    },
    {
      "cell_type": "markdown",
      "metadata": {
        "id": "ikj3Iozx8HMz"
      },
      "source": [
        "<div class=\"alert alert-block alert-info\">\n",
        "    \n",
        "Step 1: Initialize the tokenizer\n",
        "\n",
        "Step 2: Create dataset\n",
        "\n",
        "Step 3: drop_last=True drops the last batch if it is shorter than the specified batch_size to prevent loss spikes\n",
        "during training\n",
        "\n",
        "Step 4: The number of CPU processes to use for preprocessing\n",
        "    \n",
        "</div>"
      ]
    },
    {
      "cell_type": "code",
      "execution_count": null,
      "metadata": {
        "id": "ofOx1pm-8HMz"
      },
      "outputs": [],
      "source": [
        "def create_dataloader_v1(txt, batch_size=4, max_length=256,\n",
        "                         stride=128, shuffle=True, drop_last=True,\n",
        "                         num_workers=0):\n",
        "\n",
        "    # Initialize the tokenizer\n",
        "    tokenizer = tiktoken.get_encoding(\"gpt2\")\n",
        "\n",
        "    # Create dataset\n",
        "    dataset = GPTDatasetV1(txt, tokenizer, max_length, stride)\n",
        "\n",
        "    # Create dataloader\n",
        "    dataloader = DataLoader(\n",
        "        dataset,\n",
        "        batch_size=batch_size,\n",
        "        shuffle=shuffle,\n",
        "        drop_last=drop_last,\n",
        "        num_workers=num_workers\n",
        "    )\n",
        "\n",
        "    return dataloader"
      ]
    },
    {
      "cell_type": "markdown",
      "metadata": {
        "id": "gJoYM2pU8HM0"
      },
      "source": [
        "<div class=\"alert alert-block alert-success\">\n",
        "    \n",
        "Let's test the dataloader with a batch size of 1 for an LLM with a context size of 4,\n",
        "\n",
        "This will develop an intuition of how the GPTDatasetV1 class and the\n",
        "create_dataloader_v1 function work together: </div>"
      ]
    },
    {
      "cell_type": "code",
      "execution_count": null,
      "metadata": {
        "id": "N3SPt9-b8HM0"
      },
      "outputs": [],
      "source": [
        "with open(\"the-verdict.txt\", \"r\", encoding=\"utf-8\") as f:\n",
        "    raw_text = f.read()"
      ]
    },
    {
      "cell_type": "markdown",
      "metadata": {
        "id": "tY2x_-gF8HM0"
      },
      "source": [
        "<div class=\"alert alert-block alert-info\">\n",
        "    \n",
        "Convert dataloader into a Python iterator to fetch the next entry via Python's built-in next() function\n",
        "    \n",
        "</div>"
      ]
    },
    {
      "cell_type": "code",
      "execution_count": null,
      "metadata": {
        "id": "NQa1wsMF8HM0"
      },
      "outputs": [],
      "source": [
        "import torch\n",
        "print(\"PyTorch version:\", torch.__version__)\n",
        "dataloader = create_dataloader_v1(\n",
        "    raw_text, batch_size=1, max_length=4, stride=1, shuffle=False\n",
        ")\n",
        "\n",
        "data_iter = iter(dataloader)\n",
        "first_batch = next(data_iter)\n",
        "print(first_batch)"
      ]
    },
    {
      "cell_type": "markdown",
      "metadata": {
        "id": "1AeBQIox8HM0"
      },
      "source": [
        "<div class=\"alert alert-block alert-warning\">\n",
        "\n",
        "The first_batch variable contains two tensors: the first tensor stores the input token IDs,\n",
        "and the second tensor stores the target token IDs.\n",
        "\n",
        "Since the max_length is set to 4, each of the two tensors contains 4 token IDs.\n",
        "\n",
        "Note that an input size of 4 is relatively small and only chosen for illustration purposes. It is common to train LLMs with input sizes of at least\n",
        "256.\n",
        "    \n",
        "</div>"
      ]
    },
    {
      "cell_type": "markdown",
      "metadata": {
        "id": "A-8GYMZE8HM0"
      },
      "source": [
        "<div class=\"alert alert-block alert-success\">\n",
        "    \n",
        "To illustrate the meaning of stride=1, let's fetch another batch from this dataset: </div>"
      ]
    },
    {
      "cell_type": "code",
      "execution_count": null,
      "metadata": {
        "id": "K_HCPw2k8HM1"
      },
      "outputs": [],
      "source": [
        "second_batch = next(data_iter)\n",
        "print(second_batch)"
      ]
    },
    {
      "cell_type": "markdown",
      "metadata": {
        "id": "Wf96nMPc8HM1"
      },
      "source": [
        "<div class=\"alert alert-block alert-warning\">\n",
        "\n",
        "If we compare the first with the second batch, we can see that the second batch's token\n",
        "IDs are shifted by one position compared to the first batch.\n",
        "\n",
        "For example, the second ID in\n",
        "the first batch's input is 367, which is the first ID of the second batch's input.\n",
        "\n",
        "The stride\n",
        "setting dictates the number of positions the inputs shift across batches, emulating a sliding\n",
        "window approach\n",
        "    \n",
        "</div>"
      ]
    },
    {
      "cell_type": "markdown",
      "metadata": {
        "id": "49MQ1QSr8HM1"
      },
      "source": [
        "<div class=\"alert alert-block alert-warning\">\n",
        "\n",
        "Batch sizes of 1, such as we have sampled from the data loader so far, are useful for\n",
        "illustration purposes.\n",
        "                                                                                 \n",
        "If you have previous experience with deep learning, you may know\n",
        "that small batch sizes require less memory during training but lead to more noisy model\n",
        "updates.\n",
        "\n",
        "Just like in regular deep learning, the batch size is a trade-off and hyperparameter\n",
        "to experiment with when training LLMs.\n",
        "    \n",
        "</div>"
      ]
    },
    {
      "cell_type": "markdown",
      "metadata": {
        "id": "PEku5CGv8HM1"
      },
      "source": [
        "<div class=\"alert alert-block alert-success\">\n",
        "    \n",
        "Before we move on to the two final sections of this chapter that are focused on creating\n",
        "the embedding vectors from the token IDs, let's have a brief look at how we can use the\n",
        "data loader to sample with a batch size greater than 1: </div>"
      ]
    },
    {
      "cell_type": "code",
      "execution_count": null,
      "metadata": {
        "id": "Af71W3HO8HM1"
      },
      "outputs": [],
      "source": [
        "dataloader = create_dataloader_v1(raw_text, batch_size=8, max_length=4, stride=4, shuffle=False)\n",
        "\n",
        "data_iter = iter(dataloader)\n",
        "inputs, targets = next(data_iter)\n",
        "print(\"Inputs:\\n\", inputs)\n",
        "print(\"\\nTargets:\\n\", targets)"
      ]
    },
    {
      "cell_type": "markdown",
      "metadata": {
        "id": "IUZmJY818HM2"
      },
      "source": [
        "<div class=\"alert alert-block alert-info\">\n",
        "    \n",
        "Note that we increase the stride to 4. This is to utilize the data set fully (we don't skip a\n",
        "single word) but also avoid any overlap between the batches, since more overlap could lead\n",
        "to increased overfitting.\n",
        "    \n",
        "</div>"
      ]
    },
    {
      "cell_type": "markdown",
      "metadata": {
        "id": "NQlrXjPh8HM2"
      },
      "source": [
        "### CREATING TOKEN EMBEDDINGS"
      ]
    },
    {
      "cell_type": "markdown",
      "metadata": {
        "id": "7YpecGhU8HM2"
      },
      "source": [
        "<div class=\"alert alert-block alert-success\">\n",
        "    \n",
        "Let's illustrate how the token ID to embedding vector conversion works with a hands-on\n",
        "example. Suppose we have the following four input tokens with IDs 2, 3, 5, and 1:</div>"
      ]
    },
    {
      "cell_type": "code",
      "execution_count": null,
      "metadata": {
        "id": "NQA8wdfD8HM2"
      },
      "outputs": [],
      "source": [
        "input_ids = torch.tensor([2, 3, 5, 1])\n"
      ]
    },
    {
      "cell_type": "markdown",
      "metadata": {
        "id": "VKnTDTiL8HM2"
      },
      "source": [
        "<div class=\"alert alert-block alert-success\">\n",
        "    \n",
        "For the sake of simplicity and illustration purposes, suppose we have a small vocabulary of\n",
        "only 6 words (instead of the 50,257 words in the BPE tokenizer vocabulary), and we want\n",
        "to create embeddings of size 3 (in GPT-3, the embedding size is 12,288 dimensions):\n",
        "\n",
        "</div>"
      ]
    },
    {
      "cell_type": "markdown",
      "metadata": {
        "id": "CnsIeA5u8HM3"
      },
      "source": [
        "<div class=\"alert alert-block alert-success\">\n",
        "    \n",
        "Using the vocab_size and output_dim, we can instantiate an embedding layer in PyTorch,\n",
        "setting the random seed to 123 for reproducibility purposes:\n",
        "\n",
        "</div>"
      ]
    },
    {
      "cell_type": "code",
      "execution_count": null,
      "metadata": {
        "id": "bSg4u6Sp8HM3"
      },
      "outputs": [],
      "source": [
        "vocab_size = 6\n",
        "output_dim = 3\n",
        "\n",
        "torch.manual_seed(123)\n",
        "embedding_layer = torch.nn.Embedding(vocab_size, output_dim)"
      ]
    },
    {
      "cell_type": "markdown",
      "metadata": {
        "id": "cCXlJ6At8HM3"
      },
      "source": [
        "<div class=\"alert alert-block alert-info\">\n",
        "    \n",
        "The print statement in the code prints the embedding layer's underlying\n",
        "weight matrix:\n",
        "    \n",
        "</div>"
      ]
    },
    {
      "cell_type": "code",
      "execution_count": null,
      "metadata": {
        "id": "N82rbmhb8HM3"
      },
      "outputs": [],
      "source": [
        "print(embedding_layer.weight)\n"
      ]
    },
    {
      "cell_type": "markdown",
      "metadata": {
        "id": "KesCdZsc8HM3"
      },
      "source": [
        "<div class=\"alert alert-block alert-info\">\n",
        "    \n",
        "We can see that the weight matrix of the embedding layer contains small, random values.\n",
        "These values are optimized during LLM training as part of the LLM optimization itself, as we\n",
        "will see in upcoming chapters. Moreover, we can see that the weight matrix has six rows\n",
        "and three columns. There is one row for each of the six possible tokens in the vocabulary.\n",
        "And there is one column for each of the three embedding dimensions.\n",
        "    \n",
        "</div>"
      ]
    },
    {
      "cell_type": "markdown",
      "metadata": {
        "id": "npGMrYCV8HM4"
      },
      "source": [
        "<div class=\"alert alert-block alert-success\">\n",
        "    \n",
        "After we instantiated the embedding layer, let's now apply it to a token ID to obtain the\n",
        "embedding vector:\n",
        "\n",
        "</div>"
      ]
    },
    {
      "cell_type": "code",
      "execution_count": null,
      "metadata": {
        "id": "8NOoN9qP8HM4"
      },
      "outputs": [],
      "source": [
        "print(embedding_layer(torch.tensor([3])))\n"
      ]
    },
    {
      "cell_type": "markdown",
      "metadata": {
        "id": "y2tyY3XH8HM4"
      },
      "source": [
        "<div class=\"alert alert-block alert-info\">\n",
        "    \n",
        "If we compare the embedding vector for token ID 3 to the previous embedding matrix, we\n",
        "see that it is identical to the 4th row (Python starts with a zero index, so it's the row\n",
        "corresponding to index 3). In other words, the embedding layer is essentially a look-up\n",
        "operation that retrieves rows from the embedding layer's weight matrix via a token ID.\n",
        "    \n",
        "</div>"
      ]
    },
    {
      "cell_type": "markdown",
      "metadata": {
        "id": "0Vr3DTgn8HM4"
      },
      "source": [
        "<div class=\"alert alert-block alert-success\">\n",
        "    \n",
        "Previously, we have seen how to convert a single token ID into a three-dimensional\n",
        "embedding vector. Let's now apply that to all four input IDs we defined earlier\n",
        "(torch.tensor([2, 3, 5, 1])):\n",
        "\n",
        "</div>"
      ]
    },
    {
      "cell_type": "code",
      "execution_count": null,
      "metadata": {
        "id": "mOTvZd438HM5"
      },
      "outputs": [],
      "source": [
        "print(embedding_layer(input_ids))\n"
      ]
    },
    {
      "cell_type": "markdown",
      "metadata": {
        "id": "rLWTPLCN8HM5"
      },
      "source": [
        "<div class=\"alert alert-block alert-info\">\n",
        "    \n",
        "Each row in this output matrix is obtained via a lookup operation from the embedding\n",
        "weight matrix\n",
        "    \n",
        "</div>"
      ]
    },
    {
      "cell_type": "markdown",
      "metadata": {
        "id": "AwKAjAfu8HM5"
      },
      "source": [
        "### POSITIONAL EMBEDDINGS (ENCODING WORD POSITIONS)"
      ]
    },
    {
      "cell_type": "markdown",
      "metadata": {
        "id": "4AXZm_vk8HM5"
      },
      "source": [
        "<div class=\"alert alert-block alert-success\">\n",
        "\n",
        "Previously, we focused on very small embedding sizes in this chapter for illustration\n",
        "purposes.\n",
        "\n",
        "We now consider more realistic and useful embedding sizes and encode the input\n",
        "tokens into a 256-dimensional vector representation.\n",
        "\n",
        "This is smaller than what the original\n",
        "GPT-3 model used (in GPT-3, the embedding size is 12,288 dimensions) but still reasonable\n",
        "for experimentation.\n",
        "\n",
        "Furthermore, we assume that the token IDs were created by the BPE\n",
        "tokenizer that we implemented earlier, which has a vocabulary size of 50,257:\n",
        "\n",
        "</div>"
      ]
    },
    {
      "cell_type": "code",
      "execution_count": null,
      "metadata": {
        "id": "ERrAdUFq8HM5"
      },
      "outputs": [],
      "source": [
        "vocab_size = 50257\n",
        "output_dim = 256\n",
        "\n",
        "token_embedding_layer = torch.nn.Embedding(vocab_size, output_dim)"
      ]
    },
    {
      "cell_type": "markdown",
      "metadata": {
        "id": "7iUxhGBZ8HM6"
      },
      "source": [
        "<div class=\"alert alert-block alert-info\">\n",
        "    \n",
        "Using the token_embedding_layer above, if we sample data from the data loader, we\n",
        "embed each token in each batch into a 256-dimensional vector. If we have a batch size of 8\n",
        "with four tokens each, the result will be an 8 x 4 x 256 tensor.\n",
        "    \n",
        "</div>"
      ]
    },
    {
      "cell_type": "markdown",
      "metadata": {
        "id": "1paa2Szw8HM6"
      },
      "source": [
        "<div class=\"alert alert-block alert-success\">\n",
        "\n",
        "Let's instantiate the data loader ( Data sampling with a sliding window),\n",
        "first:\n",
        "\n",
        "</div>"
      ]
    },
    {
      "cell_type": "code",
      "execution_count": null,
      "metadata": {
        "id": "pFaTMPqj8HM6"
      },
      "outputs": [],
      "source": [
        "max_length = 4\n",
        "dataloader = create_dataloader_v1(\n",
        "    raw_text, batch_size=8, max_length=max_length,\n",
        "    stride=max_length, shuffle=False\n",
        ")\n",
        "data_iter = iter(dataloader)\n",
        "inputs, targets = next(data_iter)"
      ]
    },
    {
      "cell_type": "code",
      "execution_count": null,
      "metadata": {
        "id": "XBsoWbZn8HM6"
      },
      "outputs": [],
      "source": [
        "print(\"Token IDs:\\n\", inputs)\n",
        "print(\"\\nInputs shape:\\n\", inputs.shape)"
      ]
    },
    {
      "cell_type": "markdown",
      "metadata": {
        "id": "G9qN2J1l8HM6"
      },
      "source": [
        "<div class=\"alert alert-block alert-info\">\n",
        "    \n",
        "As we can see, the token ID tensor is 8x4-dimensional, meaning that the data batch\n",
        "consists of 8 text samples with 4 tokens each.\n",
        "    \n",
        "</div>"
      ]
    },
    {
      "cell_type": "markdown",
      "metadata": {
        "id": "0U860YbN8HM7"
      },
      "source": [
        "<div class=\"alert alert-block alert-success\">\n",
        "\n",
        "Let's now use the embedding layer to embed these token IDs into 256-dimensional\n",
        "vectors:\n",
        "\n",
        "</div>"
      ]
    },
    {
      "cell_type": "code",
      "execution_count": null,
      "metadata": {
        "id": "W4eYsWld8HM7"
      },
      "outputs": [],
      "source": [
        "token_embeddings = token_embedding_layer(inputs)\n",
        "print(token_embeddings.shape)"
      ]
    },
    {
      "cell_type": "markdown",
      "metadata": {
        "id": "-603TITS8HM7"
      },
      "source": [
        "<div class=\"alert alert-block alert-info\">\n",
        "    \n",
        "As we can tell based on the 8x4x256-dimensional tensor output, each token ID is now\n",
        "embedded as a 256-dimensional vector.\n",
        "    \n",
        "</div>"
      ]
    },
    {
      "cell_type": "markdown",
      "metadata": {
        "id": "DxFyZmaG8HM7"
      },
      "source": [
        "<div class=\"alert alert-block alert-success\">\n",
        "\n",
        "For a GPT model's absolute embedding approach, we just need to create another\n",
        "embedding layer that has the same dimension as the token_embedding_layer:\n",
        "\n",
        "</div>"
      ]
    },
    {
      "cell_type": "code",
      "execution_count": null,
      "metadata": {
        "id": "WHQyPXi_8HM7"
      },
      "outputs": [],
      "source": [
        "context_length = max_length\n",
        "pos_embedding_layer = torch.nn.Embedding(context_length, output_dim)"
      ]
    },
    {
      "cell_type": "code",
      "execution_count": null,
      "metadata": {
        "id": "MFOuC9Ug8HM8"
      },
      "outputs": [],
      "source": [
        "pos_embeddings = pos_embedding_layer(torch.arange(max_length))\n",
        "print(pos_embeddings.shape)"
      ]
    },
    {
      "cell_type": "markdown",
      "metadata": {
        "id": "_Vkfl3gK8HM8"
      },
      "source": [
        "<div class=\"alert alert-block alert-info\">\n",
        "    \n",
        "As shown in the preceding code example, the input to the pos_embeddings is usually a\n",
        "placeholder vector torch.arange(context_length), which contains a sequence of\n",
        "numbers 0, 1, ..., up to the maximum input length − 1.\n",
        "\n",
        "The context_length is a variable\n",
        "that represents the supported input size of the LLM.\n",
        "\n",
        "Here, we choose it similar to the\n",
        "maximum length of the input text.\n",
        "\n",
        "In practice, input text can be longer than the supported\n",
        "context length, in which case we have to truncate the text.\n",
        "    \n",
        "</div>"
      ]
    },
    {
      "cell_type": "markdown",
      "metadata": {
        "id": "4xfHFUZf8HM9"
      },
      "source": [
        "<div class=\"alert alert-block alert-info\">\n",
        "    \n",
        "As we can see, the positional embedding tensor consists of four 256-dimensional vectors.\n",
        "We can now add these directly to the token embeddings, where PyTorch will add the 4x256-\n",
        "dimensional pos_embeddings tensor to each 4x256-dimensional token embedding tensor in\n",
        "each of the 8 batches:\n",
        "    \n",
        "</div>"
      ]
    },
    {
      "cell_type": "code",
      "execution_count": null,
      "metadata": {
        "id": "9kYyQLXq8HM9"
      },
      "outputs": [],
      "source": [
        "input_embeddings = token_embeddings + pos_embeddings\n",
        "print(input_embeddings.shape)"
      ]
    },
    {
      "cell_type": "markdown",
      "metadata": {
        "id": "4D56pm8q8HM9"
      },
      "source": [
        "<div class=\"alert alert-block alert-warning\">\n",
        "\n",
        "The input_embeddings we created are the embedded input\n",
        "examples that can now be processed by the main LLM modules\n",
        "    \n",
        "</div>"
      ]
    },
    {
      "cell_type": "markdown",
      "source": [
        "# IMPLEMENTING A SIMPLIFIED ATTENTION MECHANISM"
      ],
      "metadata": {
        "id": "oqrH9oue9gc9"
      }
    },
    {
      "cell_type": "markdown",
      "source": [
        "Consider the following input sentence, which has already been embedded into 3- dimensional vectors.\n",
        "\n",
        "We choose a small embedding dimension for illustration purposes to ensure it fits on the page without line breaks:"
      ],
      "metadata": {
        "id": "dePMi0JF9k5n"
      }
    },
    {
      "cell_type": "code",
      "source": [
        "import torch\n",
        "\n",
        "inputs = torch.tensor(\n",
        "  [[0.43, 0.15, 0.89], # Your     (x^1)\n",
        "   [0.55, 0.87, 0.66], # journey  (x^2)\n",
        "   [0.57, 0.85, 0.64], # starts   (x^3)\n",
        "   [0.22, 0.58, 0.33], # with     (x^4)\n",
        "   [0.77, 0.25, 0.10], # one      (x^5)\n",
        "   [0.05, 0.80, 0.55]] # step     (x^6)\n",
        ")"
      ],
      "metadata": {
        "id": "MMhOeLv69ll4"
      },
      "execution_count": null,
      "outputs": []
    },
    {
      "cell_type": "code",
      "source": [
        "import matplotlib.pyplot as plt\n",
        "from mpl_toolkits.mplot3d import Axes3D\n",
        "\n",
        "# Corresponding words\n",
        "words = ['Your', 'journey', 'starts', 'with', 'one', 'step']\n",
        "\n",
        "# Extract x, y, z coordinates\n",
        "x_coords = inputs[:, 0].numpy()\n",
        "y_coords = inputs[:, 1].numpy()\n",
        "z_coords = inputs[:, 2].numpy()\n",
        "\n",
        "# Create 3D plot\n",
        "fig = plt.figure()\n",
        "ax = fig.add_subplot(111, projection='3d')\n",
        "\n",
        "# Plot each point and annotate with corresponding word\n",
        "for x, y, z, word in zip(x_coords, y_coords, z_coords, words):\n",
        "    ax.scatter(x, y, z)\n",
        "    ax.text(x, y, z, word, fontsize=10)\n",
        "\n",
        "# Set labels for axes\n",
        "ax.set_xlabel('X')\n",
        "ax.set_ylabel('Y')\n",
        "ax.set_zlabel('Z')\n",
        "\n",
        "plt.title('3D Plot of Word Embeddings')\n",
        "plt.show()"
      ],
      "metadata": {
        "id": "fK196Ljz9owv"
      },
      "execution_count": null,
      "outputs": []
    },
    {
      "cell_type": "code",
      "source": [
        "# Create 3D plot with vectors from origin to each point, using different colors\n",
        "fig = plt.figure()\n",
        "ax = fig.add_subplot(111, projection='3d')\n",
        "\n",
        "# Define a list of colors for the vectors\n",
        "colors = ['r', 'g', 'b', 'c', 'm', 'y']\n",
        "\n",
        "# Plot each vector with a different color and annotate with the corresponding word\n",
        "for (x, y, z, word, color) in zip(x_coords, y_coords, z_coords, words, colors):\n",
        "    # Draw vector from origin to the point (x, y, z) with specified color and smaller arrow length ratio\n",
        "    ax.quiver(0, 0, 0, x, y, z, color=color, arrow_length_ratio=0.05)\n",
        "    ax.text(x, y, z, word, fontsize=10, color=color)\n",
        "\n",
        "# Set labels for axes\n",
        "ax.set_xlabel('X')\n",
        "ax.set_ylabel('Y')\n",
        "ax.set_zlabel('Z')\n",
        "\n",
        "# Set plot limits to keep arrows within the plot boundaries\n",
        "ax.set_xlim([0, 1])\n",
        "ax.set_ylim([0, 1])\n",
        "ax.set_zlim([0, 1])\n",
        "\n",
        "plt.title('3D Plot of Word Embeddings with Colored Vectors')\n",
        "plt.show()\n"
      ],
      "metadata": {
        "id": "VjSCdGIw9su4"
      },
      "execution_count": null,
      "outputs": []
    },
    {
      "cell_type": "markdown",
      "source": [
        "Each row represents a word, and each column represents an embedding dimension"
      ],
      "metadata": {
        "id": "7N6MNlIA917x"
      }
    },
    {
      "cell_type": "markdown",
      "source": [
        "The second input token serves as the query"
      ],
      "metadata": {
        "id": "V6GEAcYs94F9"
      }
    },
    {
      "cell_type": "code",
      "source": [
        "query = inputs[1]  # 2nd input token is the query\n",
        "\n",
        "attn_scores_2 = torch.empty(inputs.shape[0])\n",
        "for i, x_i in enumerate(inputs):\n",
        "    attn_scores_2[i] = torch.dot(x_i, query) # dot product (transpose not necessary here since they are 1-dim vectors)\n",
        "\n",
        "print(attn_scores_2)"
      ],
      "metadata": {
        "id": "tlodfylk94rK"
      },
      "execution_count": null,
      "outputs": []
    },
    {
      "cell_type": "markdown",
      "source": [
        "In the next step, we normalize each of the attention scores that we computed previously."
      ],
      "metadata": {
        "id": "A2jJ294w9_ih"
      }
    },
    {
      "cell_type": "markdown",
      "source": [
        "The main goal behind the normalization is to obtain attention weights that sum up to 1.\n",
        "\n",
        "This normalization is a convention that is useful for interpretation and for maintaining training stability in an LLM.\n",
        "\n",
        "Here's a straightforward method for achieving this normalization step:"
      ],
      "metadata": {
        "id": "gcI6uk-p-DDb"
      }
    },
    {
      "cell_type": "code",
      "source": [
        "attn_weights_2_tmp = attn_scores_2 / attn_scores_2.sum()\n",
        "\n",
        "print(\"Attention weights:\", attn_weights_2_tmp)\n",
        "print(\"Sum:\", attn_weights_2_tmp.sum())"
      ],
      "metadata": {
        "id": "KAOJqqo--DqQ"
      },
      "execution_count": null,
      "outputs": []
    },
    {
      "cell_type": "markdown",
      "source": [
        "In practice, it's more common and advisable to use the softmax function for normalization.\n",
        "\n",
        "This approach is better at managing extreme values and offers more favorable gradient properties during training.\n",
        "\n",
        "Below is a basic implementation of the softmax function for normalizing the attention scores:"
      ],
      "metadata": {
        "id": "7gAgcOox-J0M"
      }
    },
    {
      "cell_type": "code",
      "source": [
        "def softmax_naive(x):\n",
        "    return torch.exp(x) / torch.exp(x).sum(dim=0)\n",
        "\n",
        "attn_weights_2_naive = softmax_naive(attn_scores_2)\n",
        "\n",
        "print(\"Attention weights:\", attn_weights_2_naive)\n",
        "print(\"Sum:\", attn_weights_2_naive.sum())"
      ],
      "metadata": {
        "id": "nmw2YUsQ-PhM"
      },
      "execution_count": null,
      "outputs": []
    },
    {
      "cell_type": "markdown",
      "source": [
        "As the output shows, the softmax function also meets the objective and normalizes the attention weights such that they sum to 1:"
      ],
      "metadata": {
        "id": "fb4UM2G3-VA8"
      }
    },
    {
      "cell_type": "markdown",
      "source": [
        "In addition, the softmax function ensures that the attention weights are always positive. This makes the output interpretable as probabilities or relative importance, where higher weights indicate greater importance."
      ],
      "metadata": {
        "id": "LF0QgdXL-V9O"
      }
    },
    {
      "cell_type": "markdown",
      "source": [
        "Note that this naive softmax implementation (softmax_naive) may encounter numerical instability problems, such as overflow and underflow, when dealing with large or small input values."
      ],
      "metadata": {
        "id": "8njnfR7H-Y6P"
      }
    },
    {
      "cell_type": "markdown",
      "source": [
        "Therefore, in practice, it's advisable to use the PyTorch implementation of softmax, which has been extensively optimized for performance:"
      ],
      "metadata": {
        "id": "GD7uGpnl-gFa"
      }
    },
    {
      "cell_type": "code",
      "source": [
        "attn_weights_2 = torch.softmax(attn_scores_2, dim=0)\n",
        "print(\"Attention weights:\", attn_weights_2)\n",
        "print(\"Sum:\", attn_weights_2.sum())"
      ],
      "metadata": {
        "id": "bWj3LdJx-grP"
      },
      "execution_count": null,
      "outputs": []
    },
    {
      "cell_type": "markdown",
      "source": [
        "In this case, we can see that it yields the same results as our previous softmax_naive function:"
      ],
      "metadata": {
        "id": "uc671ArF-keu"
      }
    },
    {
      "cell_type": "markdown",
      "source": [
        "The context vector z(2)is calculated as a weighted sum of all input vectors.\n",
        "\n",
        "This involves multiplying each input vector by its corresponding attention weight:"
      ],
      "metadata": {
        "id": "uPFi3ddV-miG"
      }
    },
    {
      "cell_type": "code",
      "source": [
        "query = inputs[1] # 2nd input token is the query\n",
        "\n",
        "context_vec_2 = torch.zeros(query.shape)\n",
        "for i,x_i in enumerate(inputs):\n",
        "    context_vec_2 += attn_weights_2[i]*x_i\n",
        "\n",
        "print(context_vec_2)"
      ],
      "metadata": {
        "id": "ZN0tnpe2-nF6"
      },
      "execution_count": null,
      "outputs": []
    },
    {
      "cell_type": "code",
      "source": [
        "import matplotlib.pyplot as plt\n",
        "from mpl_toolkits.mplot3d import Axes3D\n",
        "\n",
        "inputs = torch.tensor(\n",
        "  [[0.43, 0.15, 0.89], # Your     (x^1)\n",
        "   [0.55, 0.87, 0.66], # journey  (x^2)\n",
        "   [0.57, 0.85, 0.64], # starts   (x^3)\n",
        "   [0.22, 0.58, 0.33], # with     (x^4)\n",
        "   [0.77, 0.25, 0.10], # one      (x^5)\n",
        "   [0.05, 0.80, 0.55], # step     (x^6)\n",
        "   [0.4419, 0.6515, 0.5683]]\n",
        ")\n",
        "\n",
        "# Corresponding words\n",
        "words = ['Your', 'journey', 'starts', 'with', 'one', 'step', 'journey-context']\n",
        "\n",
        "# Extract x, y, z coordinates\n",
        "x_coords = inputs[:, 0].numpy()\n",
        "y_coords = inputs[:, 1].numpy()\n",
        "z_coords = inputs[:, 2].numpy()\n",
        "\n",
        "# Create 3D plot\n",
        "fig = plt.figure()\n",
        "ax = fig.add_subplot(111, projection='3d')\n",
        "\n",
        "# Plot each point and annotate with corresponding word\n",
        "for x, y, z, word in zip(x_coords, y_coords, z_coords, words):\n",
        "    ax.scatter(x, y, z)\n",
        "    ax.text(x, y, z, word, fontsize=10)\n",
        "\n",
        "# Set labels for axes\n",
        "ax.set_xlabel('X')\n",
        "ax.set_ylabel('Y')\n",
        "ax.set_zlabel('Z')\n",
        "\n",
        "plt.title('3D Plot of Word Embeddings')\n",
        "plt.show()\n",
        "\n",
        "# Create 3D plot with vectors from origin to each point, using different colors\n",
        "fig = plt.figure()\n",
        "ax = fig.add_subplot(111, projection='3d')\n",
        "\n",
        "# Define a list of colors for the vectors\n",
        "colors = ['r', 'g', 'b', 'c', 'm', 'y', 'r']\n",
        "\n",
        "# Plot each vector with a different color and annotate with the corresponding word\n",
        "for (x, y, z, word, color) in zip(x_coords, y_coords, z_coords, words, colors):\n",
        "    # Draw vector from origin to the point (x, y, z) with specified color and smaller arrow length ratio\n",
        "    ax.quiver(0, 0, 0, x, y, z, color=color, arrow_length_ratio=0.05)\n",
        "    ax.text(x, y, z, word, fontsize=10, color=color)\n",
        "\n",
        "# Set labels for axes\n",
        "ax.set_xlabel('X')\n",
        "ax.set_ylabel('Y')\n",
        "ax.set_zlabel('Z')\n",
        "\n",
        "# Set plot limits to keep arrows within the plot boundaries\n",
        "ax.set_xlim([0, 1])\n",
        "ax.set_ylim([0, 1])\n",
        "ax.set_zlim([0, 1])\n",
        "\n",
        "plt.title('3D Plot of Word Embeddings with Colored Vectors')\n",
        "plt.show()"
      ],
      "metadata": {
        "id": "_HzyejjT-zOu"
      },
      "execution_count": null,
      "outputs": []
    },
    {
      "cell_type": "markdown",
      "source": [
        "Now, we can extend this computation to calculate attention weights and context vectors for all inputs."
      ],
      "metadata": {
        "id": "Q6UZ0c5j-5gn"
      }
    },
    {
      "cell_type": "markdown",
      "source": [
        "First, we add an additional for-loop to compute the dot products for all pairs of inputs."
      ],
      "metadata": {
        "id": "vHZ9oChf-8Qf"
      }
    },
    {
      "cell_type": "code",
      "source": [
        "inputs = torch.tensor(\n",
        "  [[0.43, 0.15, 0.89], # Your     (x^1)\n",
        "   [0.55, 0.87, 0.66], # journey  (x^2)\n",
        "   [0.57, 0.85, 0.64], # starts   (x^3)\n",
        "   [0.22, 0.58, 0.33], # with     (x^4)\n",
        "   [0.77, 0.25, 0.10], # one      (x^5)\n",
        "   [0.05, 0.80, 0.55], # step     (x^6)\n",
        "   [0.4419, 0.6515, 0.5683]]\n",
        ")\n",
        "input_len=len(inputs)\n",
        "attn_scores = torch.empty(input_len,input_len)\n",
        "\n",
        "for i, x_i in enumerate(inputs):\n",
        "    for j, x_j in enumerate(inputs):\n",
        "        attn_scores[i, j] = torch.dot(x_i, x_j)\n",
        "\n",
        "print(attn_scores)"
      ],
      "metadata": {
        "id": "ZIwECLR6-9TX"
      },
      "execution_count": null,
      "outputs": []
    },
    {
      "cell_type": "markdown",
      "source": [
        "Each element in the preceding tensor represents an attention score between each pair of inputs."
      ],
      "metadata": {
        "id": "VsbZ9xuV_VIj"
      }
    },
    {
      "cell_type": "markdown",
      "source": [
        "When computing the preceding attention score tensor, we used for-loops in Python.\n",
        "\n",
        "However, for-loops are generally slow, and we can achieve the same results using matrix multiplication:"
      ],
      "metadata": {
        "id": "8-E2Hr3S_XH4"
      }
    },
    {
      "cell_type": "code",
      "source": [
        "attn_scores = inputs @ inputs.T\n",
        "print(attn_scores)"
      ],
      "metadata": {
        "id": "q4P2wNgy_aRY"
      },
      "execution_count": null,
      "outputs": []
    },
    {
      "cell_type": "markdown",
      "source": [
        "We now normalize each row so that the values in each row sum to 1:"
      ],
      "metadata": {
        "id": "-YzLdLcA_c1s"
      }
    },
    {
      "cell_type": "code",
      "source": [
        "attn_weights = torch.softmax(attn_scores, dim=-1)\n",
        "print(attn_weights)"
      ],
      "metadata": {
        "id": "bsbQN5Js_fJS"
      },
      "execution_count": null,
      "outputs": []
    },
    {
      "cell_type": "markdown",
      "source": [
        "In the context of using PyTorch, the dim parameter in functions like torch.softmax specifies the dimension of the input tensor along which the function will be computed.\n",
        "\n",
        "By setting dim=-1, we are instructing the softmax function to apply the normalization along the last dimension of the attn_scores tensor.\n",
        "\n",
        "If attn_scores is a 2D tensor (for example, with a shape of [rows, columns]), dim=-1 will normalize across the columns so that the values in each row (summing over the column dimension) sum up to 1."
      ],
      "metadata": {
        "id": "J6rRse9q_hPA"
      }
    },
    {
      "cell_type": "markdown",
      "source": [
        "Let's briefly verify that the rows indeed all sum to 1:"
      ],
      "metadata": {
        "id": "wX3hfi6__lKd"
      }
    },
    {
      "cell_type": "code",
      "source": [
        "row_2_sum = sum([0.1385, 0.2379, 0.2333, 0.1240, 0.1082, 0.1581])\n",
        "print(\"Row 2 sum:\", row_2_sum)\n",
        "print(\"All row sums:\", attn_weights.sum(dim=-1))"
      ],
      "metadata": {
        "id": "jmFwJOMJ_o4G"
      },
      "execution_count": null,
      "outputs": []
    },
    {
      "cell_type": "markdown",
      "source": [
        "In the third and last step, we now use these attention weights to compute all context vectors via matrix multiplication:"
      ],
      "metadata": {
        "id": "KI8XPIyi_sBP"
      }
    },
    {
      "cell_type": "code",
      "source": [
        "all_context_vecs = attn_weights @ inputs\n",
        "print(all_context_vecs)"
      ],
      "metadata": {
        "id": "AYatuEF__s3W"
      },
      "execution_count": null,
      "outputs": []
    },
    {
      "cell_type": "markdown",
      "source": [
        "We can double-check that the code is correct by comparing the 2nd row with the context vector z(2) calculated previously"
      ],
      "metadata": {
        "id": "Q8HZb3jX_vZe"
      }
    },
    {
      "cell_type": "code",
      "source": [
        "print(\"Previous 2nd context vector:\", context_vec_2)"
      ],
      "metadata": {
        "id": "mzEPalDa_wC-"
      },
      "execution_count": null,
      "outputs": []
    },
    {
      "cell_type": "markdown",
      "source": [
        "Based on the result, we can see that the previously calculated context_vec_2 matches the second row in the previous tensor exactly"
      ],
      "metadata": {
        "id": "JJUPKDHM_yIp"
      }
    },
    {
      "cell_type": "markdown",
      "source": [
        "This concludes the code walkthrough of a simple self-attention mechanism."
      ],
      "metadata": {
        "id": "FKzgIRlc_03I"
      }
    },
    {
      "cell_type": "markdown",
      "source": [
        "IMPLEMENTING SELF ATTENTION WITH TRAINABLE WEIGHTS"
      ],
      "metadata": {
        "id": "dvk36X-p_2Mo"
      }
    },
    {
      "cell_type": "markdown",
      "source": [
        "Let's begin by defining a few variables:"
      ],
      "metadata": {
        "id": "-NEpK5M6_58a"
      }
    },
    {
      "cell_type": "markdown",
      "source": [
        "# A The second input element\n",
        "\n",
        "# B The input embedding size, d=3\n",
        "\n",
        "# C The output embedding size, d_out=2"
      ],
      "metadata": {
        "id": "MBXI_BBO_78x"
      }
    },
    {
      "cell_type": "code",
      "source": [
        "x_2 = inputs[1] #A\n",
        "d_in = inputs.shape[1] #B\n",
        "d_out = 2 #C"
      ],
      "metadata": {
        "id": "lL_F2ebH_99M"
      },
      "execution_count": null,
      "outputs": []
    },
    {
      "cell_type": "markdown",
      "source": [
        "Note that in GPT-like models, the input and output dimensions are usually the same.\n",
        "\n",
        "But for illustration purposes, to better follow the computation, we choose different input (d_in=3) and output (d_out=2) dimensions here."
      ],
      "metadata": {
        "id": "05sJZF6YAEua"
      }
    },
    {
      "cell_type": "markdown",
      "source": [
        "Next, we initialize the three weight matrices Wq, Wk and Wv"
      ],
      "metadata": {
        "id": "Xy7rzMSqAHfq"
      }
    },
    {
      "cell_type": "code",
      "source": [
        "torch.manual_seed(123)\n",
        "W_query = torch.nn.Parameter(torch.rand(d_in, d_out), requires_grad=False)\n",
        "W_key = torch.nn.Parameter(torch.rand(d_in, d_out), requires_grad=False)\n",
        "W_value = torch.nn.Parameter(torch.rand(d_in, d_out), requires_grad=False)"
      ],
      "metadata": {
        "id": "85LMBN18AIVQ"
      },
      "execution_count": null,
      "outputs": []
    },
    {
      "cell_type": "markdown",
      "source": [
        "Note that we are setting requires_grad=False to reduce clutter in the outputs for illustration purposes.\n",
        "\n",
        "If we were to use the weight matrices for model training, we would set requires_grad=True to update these matrices during model training."
      ],
      "metadata": {
        "id": "K1nKDzswALqs"
      }
    },
    {
      "cell_type": "markdown",
      "source": [
        "Next, we compute the query, key, and value vectors as shown earlier"
      ],
      "metadata": {
        "id": "j5Uoxai4AOCx"
      }
    },
    {
      "cell_type": "code",
      "source": [
        "query_2 = x_2 @ W_query\n",
        "key_2 = x_2 @ W_key\n",
        "value_2 = x_2 @ W_value\n",
        "print(query_2)"
      ],
      "metadata": {
        "id": "2yApiQfvAOiA"
      },
      "execution_count": null,
      "outputs": []
    },
    {
      "cell_type": "markdown",
      "source": [
        "As we can see based on the output for the query, this results in a 2-dimensional vector.\n",
        "\n",
        "This is because: we set the number of columns of the corresponding weight matrix, via d_out, to 2:"
      ],
      "metadata": {
        "id": "ZUZUGxitASkk"
      }
    },
    {
      "cell_type": "markdown",
      "source": [
        "Even though our temporary goal is to only compute the one context vector z(2), we still require the key and value vectors for all input elements.\n",
        "\n",
        "This is because they are involved in computing the attention weights with respect to the query q(2)"
      ],
      "metadata": {
        "id": "xxum4_7zAUPk"
      }
    },
    {
      "cell_type": "markdown",
      "source": [
        "We can obtain all keys and values via matrix multiplication:"
      ],
      "metadata": {
        "id": "cAYmjtLYAVoC"
      }
    },
    {
      "cell_type": "code",
      "source": [
        "keys = inputs @ W_key\n",
        "values = inputs @ W_value\n",
        "print(\"keys.shape:\", keys.shape)\n",
        "print(\"values.shape:\", values.shape)"
      ],
      "metadata": {
        "id": "ORfbKMJcAXDk"
      },
      "execution_count": null,
      "outputs": []
    },
    {
      "cell_type": "markdown",
      "source": [
        "As we can tell from the outputs, we successfully projected the 6 input tokens from a 3D onto a 2D embedding space:"
      ],
      "metadata": {
        "id": "Pnkkfwo-AagT"
      }
    },
    {
      "cell_type": "markdown",
      "source": [
        "First, let's compute the attention score ω22"
      ],
      "metadata": {
        "id": "DdLo1gioAcT8"
      }
    },
    {
      "cell_type": "code",
      "source": [
        "keys_2 = keys[1] #A\n",
        "attn_score_22 = query_2.dot(keys_2)\n",
        "print(attn_score_22)"
      ],
      "metadata": {
        "id": "MhdcjbaJAc0v"
      },
      "execution_count": null,
      "outputs": []
    },
    {
      "cell_type": "markdown",
      "source": [
        "Again, we can generalize this computation to all attention scores via matrix multiplication:"
      ],
      "metadata": {
        "id": "bUcMbT3UAg26"
      }
    },
    {
      "cell_type": "code",
      "source": [
        "attn_scores_2 = query_2 @ keys.T # All attention scores for given query\n",
        "print(attn_scores_2)"
      ],
      "metadata": {
        "id": "AtkRNYcqAhcf"
      },
      "execution_count": null,
      "outputs": []
    },
    {
      "cell_type": "markdown",
      "source": [
        "We compute the attention weights by scaling the attention scores and using the softmax function we used earlier.\n",
        "\n",
        "The difference to earlier is that we now scale the attention scores by dividing them by the square root of the embedding dimension of the keys.\n",
        "\n",
        "Note that taking the square root is mathematically the same as exponentiating by 0.5:"
      ],
      "metadata": {
        "id": "bFwZv4yXAm1X"
      }
    },
    {
      "cell_type": "code",
      "source": [
        "d_k = keys.shape[-1]\n",
        "attn_weights_2 = torch.softmax(attn_scores_2 / d_k**0.5, dim=-1)\n",
        "print(attn_weights_2)"
      ],
      "metadata": {
        "id": "8U0wQ1IsAnc4"
      },
      "execution_count": null,
      "outputs": []
    },
    {
      "cell_type": "markdown",
      "source": [
        "We now compute the context vector as a weighted sum over the value vectors.\n",
        "\n",
        "Here, the attention weights serve as a weighting factor that weighs the respective importance of each value vector.\n",
        "\n",
        "We can use matrix multiplication to obtain the output in one step:"
      ],
      "metadata": {
        "id": "I0O7J2ofAxxB"
      }
    },
    {
      "cell_type": "code",
      "source": [
        "context_vec_2 = attn_weights_2 @ values\n",
        "print(context_vec_2)"
      ],
      "metadata": {
        "id": "4cIZJ-2LAySZ"
      },
      "execution_count": null,
      "outputs": []
    },
    {
      "cell_type": "markdown",
      "source": [
        "So far, we only computed a single context vector, z(2).\n",
        "\n",
        "In the next section, we will generalize the code to compute all context vectors in the input sequence, z(1)to z (T)"
      ],
      "metadata": {
        "id": "N37Db347A1CG"
      }
    },
    {
      "cell_type": "markdown",
      "source": [
        "# IMPLEMENTING A COMPACT SELF ATTENTION PYTHON CLASS"
      ],
      "metadata": {
        "id": "IHs0HNUyA2Gx"
      }
    },
    {
      "cell_type": "markdown",
      "source": [
        "In the previous sections, we have gone through a lot of steps to compute the self-attention outputs.\n",
        "\n",
        "This was mainly done for illustration purposes so we could go through one step at a time.\n",
        "\n",
        "In practice, with the LLM implementation in the next chapter in mind, it is helpful to organize this code into a Python class as follows:"
      ],
      "metadata": {
        "id": "_kNQG7ahA4nK"
      }
    },
    {
      "cell_type": "code",
      "source": [
        "import torch.nn as nn\n",
        "\n",
        "class SelfAttention_v1(nn.Module):\n",
        "\n",
        "    def __init__(self, d_in, d_out):\n",
        "        super().__init__()\n",
        "        self.W_query = nn.Parameter(torch.rand(d_in, d_out))\n",
        "        self.W_key   = nn.Parameter(torch.rand(d_in, d_out))\n",
        "        self.W_value = nn.Parameter(torch.rand(d_in, d_out))\n",
        "\n",
        "    def forward(self, x):\n",
        "        keys = x @ self.W_key\n",
        "        queries = x @ self.W_query\n",
        "        values = x @ self.W_value\n",
        "\n",
        "        attn_scores = queries @ keys.T # omega\n",
        "        attn_weights = torch.softmax(\n",
        "            attn_scores / keys.shape[-1]**0.5, dim=-1\n",
        "        )\n",
        "\n",
        "        context_vec = attn_weights @ values\n",
        "        return context_vec"
      ],
      "metadata": {
        "id": "u7HCl5HxA6aC"
      },
      "execution_count": null,
      "outputs": []
    },
    {
      "cell_type": "markdown",
      "source": [
        "In this PyTorch code, SelfAttention_v1 is a class derived from nn.Module, which is a fundamental building block of PyTorch models, which provides necessary functionalities for model layer creation and management."
      ],
      "metadata": {
        "id": "Ghi5zWuGCl4w"
      }
    },
    {
      "cell_type": "markdown",
      "source": [
        "The init method initializes trainable weight matrices (W_query, W_key, and W_value) for queries, keys, and values, each transforming the input dimension d_in to an output dimension d_out."
      ],
      "metadata": {
        "id": "WNO680j6Cpya"
      }
    },
    {
      "cell_type": "markdown",
      "source": [
        "During the forward pass, using the forward method, we compute the attention scores (attn_scores) by multiplying queries and keys, normalizing these scores using softmax."
      ],
      "metadata": {
        "id": "pxqHN6puCtXC"
      }
    },
    {
      "cell_type": "markdown",
      "source": [
        "Finally, we create a context vector by weighting the values with these normalized attention scores."
      ],
      "metadata": {
        "id": "ag5hhoxFCvXX"
      }
    },
    {
      "cell_type": "code",
      "source": [
        "torch.manual_seed(123)\n",
        "sa_v1 = SelfAttention_v1(d_in, d_out)\n",
        "print(sa_v1(inputs))"
      ],
      "metadata": {
        "id": "WjJ1vlszCv5n"
      },
      "execution_count": null,
      "outputs": []
    },
    {
      "cell_type": "markdown",
      "source": [
        "Since inputs contains six embedding vectors, we get a matrix storing the six context vectors, as shown in the above result."
      ],
      "metadata": {
        "id": "BWmVSNwFCzVE"
      }
    },
    {
      "cell_type": "markdown",
      "source": [
        "As a quick check, notice how the second row ([0.3061, 0.8210]) matches the contents of context_vec_2 in the previous section."
      ],
      "metadata": {
        "id": "eu_tCxeDC1cj"
      }
    },
    {
      "cell_type": "markdown",
      "source": [
        "We can improve the SelfAttention_v1 implementation further by utilizing PyTorch's\n",
        "nn.Linear layers, which effectively perform matrix multiplication when the bias units are\n",
        "disabled."
      ],
      "metadata": {
        "id": "fE52Fa8zC6jM"
      }
    },
    {
      "cell_type": "markdown",
      "source": [
        "Additionally, a significant advantage of using nn.Linear instead of manually implementing nn.Parameter(torch.rand(...)) is that nn.Linear has an optimized weight initialization scheme, contributing to more stable and effective model training."
      ],
      "metadata": {
        "id": "Elp5q289C-zK"
      }
    },
    {
      "cell_type": "code",
      "source": [
        "class SelfAttention_v2(nn.Module):\n",
        "\n",
        "    def __init__(self, d_in, d_out, qkv_bias=False):\n",
        "        super().__init__()\n",
        "        self.W_query = nn.Linear(d_in, d_out, bias=qkv_bias)\n",
        "        self.W_key   = nn.Linear(d_in, d_out, bias=qkv_bias)\n",
        "        self.W_value = nn.Linear(d_in, d_out, bias=qkv_bias)\n",
        "\n",
        "    def forward(self, x):\n",
        "        keys = self.W_key(x)\n",
        "        queries = self.W_query(x)\n",
        "        values = self.W_value(x)\n",
        "\n",
        "        attn_scores = queries @ keys.T\n",
        "        attn_weights = torch.softmax(attn_scores / keys.shape[-1]**0.5, dim=-1)\n",
        "\n",
        "        context_vec = attn_weights @ values\n",
        "        return context_vec"
      ],
      "metadata": {
        "id": "QI-VLQHWC_nA"
      },
      "execution_count": null,
      "outputs": []
    },
    {
      "cell_type": "markdown",
      "source": [
        "You can use the SelfAttention_v2 similar to SelfAttention_v1:"
      ],
      "metadata": {
        "id": "cBpdWrf7DCkN"
      }
    },
    {
      "cell_type": "code",
      "source": [
        "torch.manual_seed(789)\n",
        "sa_v2 = SelfAttention_v2(d_in, d_out)\n",
        "print(sa_v2(inputs))"
      ],
      "metadata": {
        "id": "hV9VDR8kDEJd"
      },
      "execution_count": null,
      "outputs": []
    },
    {
      "cell_type": "markdown",
      "source": [
        "Note that SelfAttention_v1 and SelfAttention_v2 give different outputs because they use different initial weights for the weight matrices since nn.Linear uses a more sophisticated weight initialization scheme."
      ],
      "metadata": {
        "id": "XTK2nCsmDHC1"
      }
    },
    {
      "cell_type": "markdown",
      "source": [
        "# HIDING FUTURE WORDS WITH CAUSAL ATTENTION"
      ],
      "metadata": {
        "id": "Dh03mhPeDJdo"
      }
    },
    {
      "cell_type": "markdown",
      "source": [
        "Let's work with the attention scores and weights from the previous section to code the causal attention mechanism."
      ],
      "metadata": {
        "id": "YEqtJpLKDMCv"
      }
    },
    {
      "cell_type": "markdown",
      "source": [
        "In the first step illustrated in Figure 3.20, we compute the attention weights using the softmax function as we have done in previous sections:"
      ],
      "metadata": {
        "id": "kHqltjyyDQQY"
      }
    },
    {
      "cell_type": "markdown",
      "source": [
        "Reuse the query and key weight matrices of the SelfAttention_v2 object from the previous section for convenience"
      ],
      "metadata": {
        "id": "Gw_8Nf2wDSG_"
      }
    },
    {
      "cell_type": "code",
      "source": [
        "queries = sa_v2.W_query(inputs) #A\n",
        "keys = sa_v2.W_key(inputs)\n",
        "attn_scores = queries @ keys.T\n",
        "attn_weights = torch.softmax(attn_scores / keys.shape[-1]**0.5, dim=1)\n",
        "print(attn_weights)"
      ],
      "metadata": {
        "id": "FORoVHyDDSsl"
      },
      "execution_count": null,
      "outputs": []
    },
    {
      "cell_type": "markdown",
      "source": [
        "We can now use PyTorch's tril function to create a mask where the values above the diagonal are zero:"
      ],
      "metadata": {
        "id": "AmLPTZphDVdv"
      }
    },
    {
      "cell_type": "code",
      "source": [
        "context_length = attn_scores.shape[0]\n",
        "mask_simple = torch.tril(torch.ones(context_length, context_length))\n",
        "print(mask_simple)"
      ],
      "metadata": {
        "id": "-MYAXkZMDW5o"
      },
      "execution_count": null,
      "outputs": []
    },
    {
      "cell_type": "markdown",
      "source": [
        "Now, we can multiply this mask with the attention weights to zero out the values above the diagonal:"
      ],
      "metadata": {
        "id": "_mxvRqnZDd4p"
      }
    },
    {
      "cell_type": "code",
      "source": [
        "masked_simple = attn_weights*mask_simple\n",
        "print(masked_simple)"
      ],
      "metadata": {
        "id": "jAgAr3BxDegA"
      },
      "execution_count": null,
      "outputs": []
    },
    {
      "cell_type": "markdown",
      "source": [
        "As we can see, the elements above the diagonal are successfully zeroed out"
      ],
      "metadata": {
        "id": "yeFme0LFDhyK"
      }
    },
    {
      "cell_type": "markdown",
      "source": [
        "The third step is to renormalize the attention weights to sum up to 1 again in each row.\n",
        "\n",
        "We can achieve this by dividing each element in each row by the sum in each row:"
      ],
      "metadata": {
        "id": "EUqtJCvXDkHR"
      }
    },
    {
      "cell_type": "code",
      "source": [
        "row_sums = masked_simple.sum(dim=1, keepdim=True)\n",
        "masked_simple_norm = masked_simple / row_sums\n",
        "print(masked_simple_norm)"
      ],
      "metadata": {
        "id": "SJSBLD6BDkqQ"
      },
      "execution_count": null,
      "outputs": []
    },
    {
      "cell_type": "markdown",
      "source": [
        "The result is an attention weight matrix where the attention weights above the diagonal are zeroed out and where the rows sum to 1."
      ],
      "metadata": {
        "id": "2UvR5H2bDmxS"
      }
    },
    {
      "cell_type": "markdown",
      "source": [
        "While we could be technically done with implementing causal attention at this point, we can take advantage of a mathematical property of the softmax function.\n",
        "\n",
        "We can implement the computation of the masked attention weights more efficiently in fewer steps."
      ],
      "metadata": {
        "id": "s0l4SqTEDp-N"
      }
    },
    {
      "cell_type": "markdown",
      "source": [
        "The softmax function converts its inputs into a probability distribution.\n",
        "\n",
        "When negative infinity values (-∞) are present in a row, the softmax function treats them as zero probability.\n",
        "\n",
        "(Mathematically, this is because e -∞ approaches 0.)\n",
        "\n",
        "We can implement this more efficient masking \"trick\" by creating a mask with 1's above the diagonal and then replacing these 1's with negative infinity (-inf) values:"
      ],
      "metadata": {
        "id": "58g81T-6DsQL"
      }
    },
    {
      "cell_type": "code",
      "source": [
        "mask = torch.triu(torch.ones(context_length, context_length), diagonal=1)\n",
        "masked = attn_scores.masked_fill(mask.bool(), -torch.inf)\n",
        "print(masked)"
      ],
      "metadata": {
        "id": "b-2e_M-sDsyG"
      },
      "execution_count": null,
      "outputs": []
    },
    {
      "cell_type": "markdown",
      "source": [
        "Now, all we need to do is apply the softmax function to these masked results, and we are done."
      ],
      "metadata": {
        "id": "SepRPhk0DwcW"
      }
    },
    {
      "cell_type": "code",
      "source": [
        "attn_weights = torch.softmax(masked / keys.shape[-1]**0.5, dim=1)\n",
        "print(attn_weights)"
      ],
      "metadata": {
        "id": "KImcNH2UDw_X"
      },
      "execution_count": null,
      "outputs": []
    },
    {
      "cell_type": "markdown",
      "source": [
        "As we can see based on the output, the values in each row sum to 1, and no further normalization is necessary."
      ],
      "metadata": {
        "id": "11sKv5WtD0OE"
      }
    },
    {
      "cell_type": "markdown",
      "source": [
        "Masking in Transformers sets scores for future tokens to a large negative value, making their influence in the softmax calculation effectively zero.\n",
        "\n",
        "The softmax function then recalculates attention weights only among the unmasked tokens.\n",
        "\n",
        "This process ensures no information leakage from masked tokens, focusing the model solely on the intended data."
      ],
      "metadata": {
        "id": "oXlPZllWD2nE"
      }
    },
    {
      "cell_type": "markdown",
      "source": [
        "We could now use the modified attention weights to compute the context vectors via context_vec = attn_weights @ values.\n",
        "\n",
        "However, in the next section, we first cover another minor tweak to the causal attention mechanism that is useful for reducing overfitting when training LLMs."
      ],
      "metadata": {
        "id": "bceVBxE4D4Wz"
      }
    },
    {
      "cell_type": "markdown",
      "source": [
        "# MASKING ADDITIONAL ATTENTION WEIGHTS WITH DROPOUT"
      ],
      "metadata": {
        "id": "9GiWMd8QD6i9"
      }
    },
    {
      "cell_type": "markdown",
      "source": [
        "In the following code example, we use a dropout rate of 50%, which means masking out half of the attention weights.\n",
        "\n",
        "When we train the GPT model in later chapters, we will use a lower dropout rate, such as 0.1 or 0.2."
      ],
      "metadata": {
        "id": "s-aE9m_wD83V"
      }
    },
    {
      "cell_type": "markdown",
      "source": [
        "In the following code, we apply PyTorch's dropout implementation first to a 6×6 tensor consisting of ones for illustration purposes:"
      ],
      "metadata": {
        "id": "gUMZpURYD-4m"
      }
    },
    {
      "cell_type": "code",
      "source": [
        "torch.manual_seed(123)\n",
        "dropout = torch.nn.Dropout(0.5) #A\n",
        "example = torch.ones(6, 6) #B\n",
        "print(dropout(example))"
      ],
      "metadata": {
        "id": "cQtdQWH7D_W9"
      },
      "execution_count": null,
      "outputs": []
    },
    {
      "cell_type": "markdown",
      "source": [
        "When applying dropout to an attention weight matrix with a rate of 50%, half of the elements in the matrix are randomly set to zero.\n",
        "\n",
        "To compensate for the reduction in active elements, the values of the remaining elements in the matrix are scaled up by a factor of 1/0.5 =2.\n",
        "\n",
        "This scaling is crucial to maintain the overall balance of the attention weights, ensuring that the average influence of the attention mechanism remains consistent during both the training and inference phases."
      ],
      "metadata": {
        "id": "fFCOOmHIECNP"
      }
    },
    {
      "cell_type": "markdown",
      "source": [
        "Now, let's apply dropout to the attention weight matrix itself:"
      ],
      "metadata": {
        "id": "5duJgMIOEDlH"
      }
    },
    {
      "cell_type": "code",
      "source": [
        "torch.manual_seed(123)\n",
        "print(dropout(attn_weights))"
      ],
      "metadata": {
        "id": "mWuPNZxzEE5j"
      },
      "execution_count": null,
      "outputs": []
    },
    {
      "cell_type": "markdown",
      "source": [
        "As we can see above, the resulting attention weight matrix now has additional elements zeroed out and the remaining ones rescaled.\n",
        "\n",
        "Having gained an understanding of causal attention and dropout masking, we will develop a concise Python class in the following section.\n",
        "\n",
        "This class is designed to facilitate the efficient application of these two techniques."
      ],
      "metadata": {
        "id": "ZvXgNObwEJCv"
      }
    },
    {
      "cell_type": "markdown",
      "source": [
        "# IMPLEMENTING A COMPACT CAUSAL ATTENTION CLASS"
      ],
      "metadata": {
        "id": "qo9wHFzaEKcg"
      }
    },
    {
      "cell_type": "markdown",
      "source": [
        "In this section, we will now incorporate the causal attention and dropout modifications into the SelfAttention Python class we developed in section 3.4.\n",
        "\n",
        "This class will then serve as a template for developing multi-head attention in the upcoming section.\n",
        "\n",
        "Before we begin, one more thing is to ensure that the code can handle batches consisting of more than one input.\n",
        "\n",
        "This will ensure that the CausalAttention class supports the batch outputs produced by the data loader we implemented earlier.\n",
        "\n",
        "For simplicity, to simulate such batch inputs, we duplicate the input text example:\n",
        "\n",
        "2 inputs with 6 tokens each, and each token has embedding dimension 3"
      ],
      "metadata": {
        "id": "_cqaqLR1EPOY"
      }
    },
    {
      "cell_type": "code",
      "source": [
        "batch = torch.stack((inputs, inputs), dim=0)\n",
        "print(batch.shape)"
      ],
      "metadata": {
        "id": "LhWCyq9hEP5N"
      },
      "execution_count": null,
      "outputs": []
    },
    {
      "cell_type": "markdown",
      "source": [
        "This results in a 3D tensor consisting of 2 input texts with 6 tokens each, where each token is a 3-dimensional embedding vector.\n",
        "\n",
        "The following CausalAttention class is similar to the SelfAttention class we implemented earlier, except that we now added the dropout and causal mask components as highlighted in the following code.\n",
        "\n",
        "Step 1: Compared to the previous SelfAttention_v1 class, we added a dropout layer.\n",
        "\n",
        "Step 2: The register_buffer call is also a new addition (more information is provided in the following text).\n",
        "\n",
        "Step 3: We transpose dimensions 1 and 2, keeping the batch dimension at the first position (0).\n",
        "\n",
        "Step 4: In PyTorch, operations with a trailing underscore are performed in-place, avoiding unnecessary memory copies"
      ],
      "metadata": {
        "id": "edZeaq1eETjx"
      }
    },
    {
      "cell_type": "code",
      "source": [
        "class CausalAttention(nn.Module):\n",
        "\n",
        "    def __init__(self, d_in, d_out, context_length,\n",
        "                 dropout, qkv_bias=False):\n",
        "        super().__init__()\n",
        "        self.d_out = d_out\n",
        "        self.W_query = nn.Linear(d_in, d_out, bias=qkv_bias)\n",
        "        self.W_key   = nn.Linear(d_in, d_out, bias=qkv_bias)\n",
        "        self.W_value = nn.Linear(d_in, d_out, bias=qkv_bias)\n",
        "        self.dropout = nn.Dropout(dropout) # New\n",
        "        self.register_buffer('mask', torch.triu(torch.ones(context_length, context_length), diagonal=1)) # New\n",
        "\n",
        "    def forward(self, x):\n",
        "        b, num_tokens, d_in = x.shape # New batch dimension b\n",
        "        keys = self.W_key(x)\n",
        "        queries = self.W_query(x)\n",
        "        values = self.W_value(x)\n",
        "\n",
        "        attn_scores = queries @ keys.transpose(1, 2) # Changed transpose\n",
        "        attn_scores.masked_fill_(  # New, _ ops are in-place\n",
        "            self.mask.bool()[:num_tokens, :num_tokens], -torch.inf)  # `:num_tokens` to account for cases where the number of tokens in the batch is smaller than the supported context_size\n",
        "        attn_weights = torch.softmax(\n",
        "            attn_scores / keys.shape[-1]**0.5, dim=-1\n",
        "        )\n",
        "        attn_weights = self.dropout(attn_weights) # New\n",
        "\n",
        "        context_vec = attn_weights @ values\n",
        "        return context_vec"
      ],
      "metadata": {
        "id": "GavIc8bBEV5X"
      },
      "execution_count": null,
      "outputs": []
    },
    {
      "cell_type": "markdown",
      "source": [
        "The use of register_buffer in PyTorch is not strictly necessary for all use cases but offers several advantages here.\n",
        "\n",
        "For instance, when we use the CausalAttention class in our LLM, buffers are automatically moved to the appropriate device (CPU or GPU) along with our model, which will be relevant when training the LLM in future chapters.\n",
        "\n",
        "This means we don't need to manually ensure these tensors are on the same device as your model parameters, avoiding device mismatch errors."
      ],
      "metadata": {
        "id": "FEaXXlC1Ebqs"
      }
    },
    {
      "cell_type": "markdown",
      "source": [
        "We can use the CausalAttention class as follows, similar to SelfAttention previously:"
      ],
      "metadata": {
        "id": "FnYS5pftEdqj"
      }
    },
    {
      "cell_type": "code",
      "source": [
        "torch.manual_seed(123)\n",
        "context_length = batch.shape[1]\n",
        "ca = CausalAttention(d_in, d_out, context_length, 0.0)\n",
        "context_vecs = ca(batch)\n",
        "print(\"context_vecs.shape:\", context_vecs.shape)"
      ],
      "metadata": {
        "id": "EWMKexL7EeKx"
      },
      "execution_count": null,
      "outputs": []
    },
    {
      "cell_type": "markdown",
      "source": [
        "As we can see, the resulting context vector is a 3D tensor where each token is now represented by a 2D embedding:\n",
        "\n",
        "In the next section, we will expand on this concept and implement a multi-head attention module, that implements several of such causal attention mechanisms in parallel."
      ],
      "metadata": {
        "id": "7CHrTk96EiDI"
      }
    },
    {
      "cell_type": "markdown",
      "source": [
        "# EXTENDING SINGLE HEAD ATTENTION TO MULTI-HEAD ATTENTION\n",
        "In practical terms, implementing multi-head attention involves creating multiple instances of the self-attention mechanism, each with its own weights, and then combining their outputs\n",
        "In code, we can achieve this by implementing a simple MultiHeadAttentionWrapper class that stacks multiple instances of our previously implemented CausalAttention module:"
      ],
      "metadata": {
        "id": "R0bSeS8rEkYz"
      }
    },
    {
      "cell_type": "code",
      "source": [
        "class MultiHeadAttentionWrapper(nn.Module):\n",
        "\n",
        "    def __init__(self, d_in, d_out, context_length, dropout, num_heads, qkv_bias=False):\n",
        "        super().__init__()\n",
        "        self.heads = nn.ModuleList(\n",
        "            [CausalAttention(d_in, d_out, context_length, dropout, qkv_bias)\n",
        "             for _ in range(num_heads)]\n",
        "        )\n",
        "\n",
        "    def forward(self, x):\n",
        "        return torch.cat([head(x) for head in self.heads], dim=-1)\n"
      ],
      "metadata": {
        "id": "gi_1DHTcElol"
      },
      "execution_count": null,
      "outputs": []
    },
    {
      "cell_type": "markdown",
      "source": [
        "For example, if we use this MultiHeadAttentionWrapper class with two attention heads (via num_heads=2) and CausalAttention output dimension d_out=2, this results in a 4- dimensional context vectors (d_out*num_heads=4)\n",
        "\n",
        "To illustrate further with a concrete example, we can use the MultiHeadAttentionWrapper class similar to the CausalAttention class before:"
      ],
      "metadata": {
        "id": "1Li0EeBXEqm1"
      }
    },
    {
      "cell_type": "code",
      "source": [
        "torch.manual_seed(123)\n",
        "context_length = batch.shape[1] # This is the number of tokens\n",
        "d_in, d_out = 3, 2\n",
        "mha = MultiHeadAttentionWrapper(d_in, d_out, context_length, 0.0, num_heads=2)\n",
        "context_vecs = mha(batch)\n",
        "print(context_vecs)\n",
        "print(\"context_vecs.shape:\", context_vecs.shape)"
      ],
      "metadata": {
        "id": "qtBqSRznEsR7"
      },
      "execution_count": null,
      "outputs": []
    },
    {
      "cell_type": "markdown",
      "source": [
        "The first dimension of the resulting context_vecs tensor is 2 since we have two input texts (the input texts are duplicated, which is why the context vectors are exactly the same for those).\n",
        "\n",
        "The second dimension refers to the 6 tokens in each input. The third dimension refers to the 4-dimensional embedding of each token.\n",
        "\n",
        "In this section, we implemented a MultiHeadAttentionWrapper that combined multiple single-head attention modules.\n",
        "However, note that these are processed sequentially via [head(x) for head in self.heads] in the forward method.\n",
        "\n",
        "We can improve this implementation by processing the heads in parallel.\n",
        "\n",
        "One way to achieve this is by computing the outputs for all attention heads simultaneously via matrix multiplication, as we will explore in the next section."
      ],
      "metadata": {
        "id": "ndrAWtubEw6l"
      }
    },
    {
      "cell_type": "markdown",
      "source": [
        "# IMPLEMENTING MULTI-HEAD ATTENTION WITH WEIGHT SPLITS"
      ],
      "metadata": {
        "id": "5h-5MnPdEzC1"
      }
    },
    {
      "cell_type": "markdown",
      "source": [
        "Instead of maintaining two separate classes, MultiHeadAttentionWrapper and CausalAttention, we can combine both of these concepts into a single MultiHeadAttention class.\n",
        "\n",
        "Also, in addition to just merging the MultiHeadAttentionWrapper with the CausalAttention code, we will make some other modifications to implement multi-head attention more efficiently.\n",
        "\n",
        "In the MultiHeadAttentionWrapper, multiple heads are implemented by creating a list of CausalAttention objects (self.heads), each representing a separate attention head.\n",
        "\n",
        "The CausalAttention class independently performs the attention mechanism, and the results from each head are concatenated.\n",
        "\n",
        "In contrast, the following MultiHeadAttention class integrates the multi-head functionality within a single class.\n",
        "\n",
        "It splits the input into multiple heads by reshaping the projected query, key, and value tensors and then combines the results from these heads after computing attention.\n",
        "\n",
        "Let's take a look at the MultiHeadAttention class before we discuss it further:"
      ],
      "metadata": {
        "id": "OPLtid9lE3A-"
      }
    },
    {
      "cell_type": "code",
      "source": [
        "class MultiHeadAttention(nn.Module):\n",
        "    def __init__(self, d_in, d_out, context_length, dropout, num_heads, qkv_bias=False):\n",
        "        super().__init__()\n",
        "        assert (d_out % num_heads == 0), \\\n",
        "            \"d_out must be divisible by num_heads\"\n",
        "\n",
        "        self.d_out = d_out\n",
        "        self.num_heads = num_heads\n",
        "        self.head_dim = d_out // num_heads # Reduce the projection dim to match desired output dim\n",
        "\n",
        "        self.W_query = nn.Linear(d_in, d_out, bias=qkv_bias)\n",
        "        self.W_key = nn.Linear(d_in, d_out, bias=qkv_bias)\n",
        "        self.W_value = nn.Linear(d_in, d_out, bias=qkv_bias)\n",
        "        self.out_proj = nn.Linear(d_out, d_out)  # Linear layer to combine head outputs\n",
        "        self.dropout = nn.Dropout(dropout)\n",
        "        self.register_buffer(\n",
        "            \"mask\",\n",
        "            torch.triu(torch.ones(context_length, context_length),\n",
        "                       diagonal=1)\n",
        "        )\n",
        "\n",
        "    def forward(self, x):\n",
        "        b, num_tokens, d_in = x.shape\n",
        "\n",
        "        keys = self.W_key(x) # Shape: (b, num_tokens, d_out)\n",
        "        queries = self.W_query(x)\n",
        "        values = self.W_value(x)\n",
        "\n",
        "        # We implicitly split the matrix by adding a `num_heads` dimension\n",
        "        # Unroll last dim: (b, num_tokens, d_out) -> (b, num_tokens, num_heads, head_dim)\n",
        "        keys = keys.view(b, num_tokens, self.num_heads, self.head_dim)\n",
        "        values = values.view(b, num_tokens, self.num_heads, self.head_dim)\n",
        "        queries = queries.view(b, num_tokens, self.num_heads, self.head_dim)\n",
        "\n",
        "        # Transpose: (b, num_tokens, num_heads, head_dim) -> (b, num_heads, num_tokens, head_dim)\n",
        "        keys = keys.transpose(1, 2)\n",
        "        queries = queries.transpose(1, 2)\n",
        "        values = values.transpose(1, 2)\n",
        "\n",
        "        # Compute scaled dot-product attention (aka self-attention) with a causal mask\n",
        "        attn_scores = queries @ keys.transpose(2, 3)  # Dot product for each head\n",
        "\n",
        "        # Original mask truncated to the number of tokens and converted to boolean\n",
        "        mask_bool = self.mask.bool()[:num_tokens, :num_tokens]\n",
        "\n",
        "        # Use the mask to fill attention scores\n",
        "        attn_scores.masked_fill_(mask_bool, -torch.inf)\n",
        "\n",
        "        attn_weights = torch.softmax(attn_scores / keys.shape[-1]**0.5, dim=-1)\n",
        "        attn_weights = self.dropout(attn_weights)\n",
        "\n",
        "        # Shape: (b, num_tokens, num_heads, head_dim)\n",
        "        context_vec = (attn_weights @ values).transpose(1, 2)\n",
        "\n",
        "        # Combine heads, where self.d_out = self.num_heads * self.head_dim\n",
        "        context_vec = context_vec.contiguous().view(b, num_tokens, self.d_out)\n",
        "        context_vec = self.out_proj(context_vec) # optional projection\n",
        "\n",
        "        return context_vec"
      ],
      "metadata": {
        "id": "C3rA2C4-E3nH"
      },
      "execution_count": null,
      "outputs": []
    },
    {
      "cell_type": "markdown",
      "source": [
        "Step 1: Reduce the projection dim to match desired output dim\n",
        "\n",
        "Step 2: Use a Linear layer to combine head outputs\n",
        "\n",
        "Step 3: Tensor shape: (b, num_tokens, d_out)\n",
        "\n",
        "Step 4: We implicitly split the matrix by adding a num_heads dimension. Then we unroll last dim: (b, num_tokens, d_out) -> (b, num_tokens, num_heads, head_dim)\n",
        "\n",
        "Step 5: Transpose from shape (b, num_tokens, num_heads, head_dim) to (b, num_heads, num_tokens, head_dim)\n",
        "\n",
        "Step 6: Compute dot product for each head\n",
        "\n",
        "Step 7: Mask truncated to the number of tokens\n",
        "\n",
        "Step 8: Use the mask to fill attention scores\n",
        "\n",
        "Step 9: Tensor shape: (b, num_tokens, n_heads, head_dim)\n",
        "\n",
        "Step 10: Combine heads, where self.d_out = self.num_heads * self.head_dim\n",
        "\n",
        "Step 11: Add an optional linear projection"
      ],
      "metadata": {
        "id": "27mcuy-WFGQ5"
      }
    },
    {
      "cell_type": "markdown",
      "source": [
        "Even though the reshaping (.view) and transposing (.transpose) of tensors inside the MultiHeadAttention class looks very complicated, mathematically, the MultiHeadAttention class implements the same concept as the MultiHeadAttentionWrapper earlier.\n",
        "\n",
        "On a big-picture level, in the previous MultiHeadAttentionWrapper, we stacked multiple single-head attention layers that we combined into a multi-head attention layer.\n",
        "\n",
        "The MultiHeadAttention class takes an integrated approach.\n",
        "\n",
        "It starts with a multi-head layer and then internally splits this layer into individual attention heads"
      ],
      "metadata": {
        "id": "2mbpAmlCFJEo"
      }
    },
    {
      "cell_type": "markdown",
      "source": [
        "# DETAILED EXPLANATION OF THE MULTI-HEAD ATTENTION CLASS"
      ],
      "metadata": {
        "id": "rPmShuwMFKda"
      }
    },
    {
      "cell_type": "markdown",
      "source": [
        "The splitting of the query, key, and value tensors, is achieved through tensor reshaping and transposing operations using PyTorch's .view and .transpose methods.\n",
        "\n",
        "The input is first transformed (via linear layers for queries, keys, and values) and then reshaped to represent multiple heads.\n",
        "\n",
        "The key operation is to split the d_out dimension into num_heads and head_dim, where head_dim = d_out / num_heads.\n",
        "\n",
        "This splitting is then achieved using the .view method: a tensor of dimensions (b, num_tokens, d_out) is reshaped to dimension (b, num_tokens, num_heads, head_dim).\n",
        "\n",
        "The tensors are then transposed to bring the num_heads dimension before the num_tokens dimension, resulting in a shape of (b, num_heads, num_tokens, head_dim).\n",
        "\n",
        "This transposition is crucial for correctly aligning the queries, keys, and values across the different heads and performing batched matrix multiplications efficiently.\n",
        "\n",
        "To illustrate this batched matrix multiplication, suppose we have the following example tensor:"
      ],
      "metadata": {
        "id": "461qlNMsFM8Y"
      }
    },
    {
      "cell_type": "code",
      "source": [
        "a = torch.tensor([[[[0.2745, 0.6584, 0.2775, 0.8573], #A\n",
        "[0.8993, 0.0390, 0.9268, 0.7388],\n",
        "[0.7179, 0.7058, 0.9156, 0.4340]],\n",
        "[[0.0772, 0.3565, 0.1479, 0.5331],\n",
        "[0.4066, 0.2318, 0.4545, 0.9737],\n",
        "[0.4606, 0.5159, 0.4220, 0.5786]]]])"
      ],
      "metadata": {
        "id": "yJD_lwwcFPU7"
      },
      "execution_count": null,
      "outputs": []
    },
    {
      "cell_type": "markdown",
      "source": [
        "The shape of this tensor is (b, num_heads, num_tokens, head_dim) = (1, 2, 3, 4)\n",
        "\n",
        "Now, we perform a batched matrix multiplication between the tensor itself and a view of the tensor where we transposed the last two dimensions, num_tokens and head_dim:"
      ],
      "metadata": {
        "id": "oC0Cv6RuFUks"
      }
    },
    {
      "cell_type": "code",
      "source": [
        "print(a @ a.transpose(2, 3))"
      ],
      "metadata": {
        "id": "ZGvHdHj6FVLs"
      },
      "execution_count": null,
      "outputs": []
    },
    {
      "cell_type": "markdown",
      "source": [
        "In this case, the matrix multiplication implementation in PyTorch handles the 4-dimensional input tensor so that the matrix multiplication is carried out between the 2 last dimensions (num_tokens, head_dim) and then repeated for the individual heads.\n",
        "\n",
        "For instance, the above becomes a more compact way to compute the matrix multiplication for each head separately:"
      ],
      "metadata": {
        "id": "XuKjDMlkFZxU"
      }
    },
    {
      "cell_type": "code",
      "source": [
        "first_head = a[0, 0, :, :]\n",
        "first_res = first_head @ first_head.T\n",
        "print(\"First head:\\n\", first_res)\n",
        "second_head = a[0, 1, :, :]\n",
        "second_res = second_head @ second_head.T\n",
        "print(\"\\nSecond head:\\n\", second_res)"
      ],
      "metadata": {
        "id": "sKuN9r5nFaf0"
      },
      "execution_count": null,
      "outputs": []
    },
    {
      "cell_type": "markdown",
      "source": [
        "The results are exactly the same results that we obtained when using the batched matrix multiplication print(a @ a.transpose(2, 3)) earlier:\n",
        "\n",
        "Continuing with MultiHeadAttention, after computing the attention weights and context vectors, the context vectors from all heads are transposed back to the shape (b, num_tokens, num_heads, head_dim).\n",
        "\n",
        "These vectors are then reshaped (flattened) into the shape (b, num_tokens, d_out), effectively combining the outputs from all heads\n",
        "\n",
        "Additionally, we added a so-called output projection layer (self.out_proj) to MultiHeadAttention after combining the heads, which is not present in the CausalAttention class.\n",
        "\n",
        "This output projection layer is not strictly necessary, but it is commonly used in many LLM architectures, which is why we added it here for completeness.\n",
        "\n",
        "Even though the MultiHeadAttention class looks more complicated than the MultiHeadAttentionWrapper due to the additional reshaping and transposition of tensors, it is more efficient.\n",
        "\n",
        "The reason is that we only need one matrix multiplication to compute the keys, for instance, keys = self.W_key(x) (the same is true for the queries and values).\n",
        "\n",
        "In the MultiHeadAttentionWrapper, we needed to repeat this matrix multiplication, which is computationally one of the most expensive steps, for each attention head.\n",
        "\n",
        "The MultiHeadAttention class can be used similar to the SelfAttention and CausalAttention classes we implemented earlier:"
      ],
      "metadata": {
        "id": "vTcGZUFvFg0L"
      }
    },
    {
      "cell_type": "code",
      "source": [
        "torch.manual_seed(123)\n",
        "batch_size, context_length, d_in = batch.shape\n",
        "d_out = 2\n",
        "mha = MultiHeadAttention(d_in, d_out, context_length, 0.0, num_heads=2)\n",
        "context_vecs = mha(batch)\n",
        "print(context_vecs)\n",
        "print(\"context_vecs.shape:\", context_vecs.shape)"
      ],
      "metadata": {
        "id": "G7N7Tx4QFhU-"
      },
      "execution_count": null,
      "outputs": []
    },
    {
      "cell_type": "markdown",
      "source": [
        "As we can see based on the results, the output dimension is directly controlled by the d_out argument:\n",
        "\n",
        "In this section, we implemented the MultiHeadAttention class that we will use in the upcoming sections when implementing and training the LLM itself.\n",
        "\n",
        "Note that while the code is fully functional, we used relatively small embedding sizes and numbers of attention heads to keep the outputs readable.\n",
        "\n",
        "For comparison, the smallest GPT-2 model (117 million parameters) has 12 attention heads and a context vector embedding size of 768.\n",
        "\n",
        "The largest GPT-2 model (1.5 billion parameters) has 25 attention heads and a context vector embedding size of 1600.\n",
        "\n",
        "Note that the embedding sizes of the token inputs and context embeddings are the same in GPT models (d_in = d_out)."
      ],
      "metadata": {
        "id": "1p6e8PXYFluV"
      }
    },
    {
      "cell_type": "markdown",
      "source": [
        "# IMPLEMENTING A GPT MODEL FROM SCRATCH TO GENERATE TEXT"
      ],
      "metadata": {
        "id": "VjyGjryWHuim"
      }
    },
    {
      "cell_type": "code",
      "source": [
        "GPT_CONFIG_124M = {\n",
        "    \"vocab_size\": 50257,    # Vocabulary size\n",
        "    \"context_length\": 1024, # Context length\n",
        "    \"emb_dim\": 768,         # Embedding dimension\n",
        "    \"n_heads\": 12,          # Number of attention heads\n",
        "    \"n_layers\": 12,         # Number of layers\n",
        "    \"drop_rate\": 0.1,       # Dropout rate\n",
        "    \"qkv_bias\": False       # Query-Key-Value bias\n",
        "}"
      ],
      "metadata": {
        "id": "BRAvt0dyHwzh"
      },
      "execution_count": null,
      "outputs": []
    },
    {
      "cell_type": "markdown",
      "source": [
        "GPT ARCHITECTURE PART 1: DUMMY GPT MODEL CLASS"
      ],
      "metadata": {
        "id": "U2DxeqJzIAFg"
      }
    },
    {
      "cell_type": "markdown",
      "source": [
        "Step 1: Use a placeholder for TransformerBlock\n",
        "\n",
        "Step 2: Use a placeholder for LayerNorm"
      ],
      "metadata": {
        "id": "xJ5QCR6WICcB"
      }
    },
    {
      "cell_type": "code",
      "source": [
        "import torch\n",
        "import torch.nn as nn\n",
        "\n",
        "\n",
        "class DummyGPTModel(nn.Module):\n",
        "    def __init__(self, cfg):\n",
        "        super().__init__()\n",
        "        self.tok_emb = nn.Embedding(cfg[\"vocab_size\"], cfg[\"emb_dim\"])\n",
        "        self.pos_emb = nn.Embedding(cfg[\"context_length\"], cfg[\"emb_dim\"])\n",
        "        self.drop_emb = nn.Dropout(cfg[\"drop_rate\"])\n",
        "\n",
        "        # Use a placeholder for TransformerBlock\n",
        "        self.trf_blocks = nn.Sequential(\n",
        "            *[DummyTransformerBlock(cfg) for _ in range(cfg[\"n_layers\"])])\n",
        "\n",
        "        # Use a placeholder for LayerNorm\n",
        "        self.final_norm = DummyLayerNorm(cfg[\"emb_dim\"])\n",
        "        self.out_head = nn.Linear(\n",
        "            cfg[\"emb_dim\"], cfg[\"vocab_size\"], bias=False\n",
        "        )\n",
        "\n",
        "    def forward(self, in_idx):\n",
        "        batch_size, seq_len = in_idx.shape\n",
        "        tok_embeds = self.tok_emb(in_idx)\n",
        "        pos_embeds = self.pos_emb(torch.arange(seq_len, device=in_idx.device))\n",
        "        x = tok_embeds + pos_embeds\n",
        "        x = self.drop_emb(x)\n",
        "        x = self.trf_blocks(x)\n",
        "        x = self.final_norm(x)\n",
        "        logits = self.out_head(x)\n",
        "        return logits\n",
        "\n",
        "\n",
        "class DummyTransformerBlock(nn.Module):\n",
        "    def __init__(self, cfg):\n",
        "        super().__init__()\n",
        "        # A simple placeholder\n",
        "\n",
        "    def forward(self, x):\n",
        "        # This block does nothing and just returns its input.\n",
        "        return x\n",
        "\n",
        "\n",
        "class DummyLayerNorm(nn.Module):\n",
        "    def __init__(self, normalized_shape, eps=1e-5):\n",
        "        super().__init__()\n",
        "        # The parameters here are just to mimic the LayerNorm interface.\n",
        "\n",
        "    def forward(self, x):\n",
        "        # This layer does nothing and just returns its input.\n",
        "        return x"
      ],
      "metadata": {
        "id": "0FzNdoM3IDcB"
      },
      "execution_count": null,
      "outputs": []
    },
    {
      "cell_type": "markdown",
      "source": [
        "The DummyGPTModel class in this code defines a simplified version of a GPT-like model using PyTorch's neural network module (nn.Module).\n",
        "\n",
        "The model architecture in the DummyGPTModel class consists of token and positional embeddings, dropout, a series of transformer blocks (DummyTransformerBlock), a final layer normalization (DummyLayerNorm), and a linear output layer (out_head).\n",
        "\n",
        "The configuration is passed in via a Python dictionary, for instance, the GPT_CONFIG_124M dictionary we created earlier.\n",
        "\n",
        "The forward method describes the data flow through the model: it computes token and positional embeddings for the input indices, applies dropout, processes the data through the transformer blocks, applies normalization, and finally produces logits with the linear output layer.\n",
        "\n",
        "The code above is already functional, as we will see later in this section after we prepare the input data.\n",
        "\n",
        "However, for now, note in the code above that we have used placeholders (DummyLayerNorm and DummyTransformerBlock) for the transformer block and layer normalization, which we will develop in later sections\n",
        "\n",
        "Next, we will prepare the input data and initialize a new GPT model to illustrate its usage."
      ],
      "metadata": {
        "id": "AfAE2pS8IJzK"
      }
    },
    {
      "cell_type": "markdown",
      "source": [
        "# STEP 1: TOKENIZATION"
      ],
      "metadata": {
        "id": "UVhcOTxDIL-z"
      }
    },
    {
      "cell_type": "code",
      "source": [
        "import tiktoken\n",
        "tokenizer = tiktoken.get_encoding(\"gpt2\")\n",
        "batch = []\n",
        "txt1 = \"Every effort moves you\"\n",
        "txt2 = \"Every day holds a\"\n",
        "batch.append(torch.tensor(tokenizer.encode(txt1)))\n",
        "batch.append(torch.tensor(tokenizer.encode(txt2)))\n",
        "batch = torch.stack(batch, dim=0)\n",
        "print(batch)"
      ],
      "metadata": {
        "id": "V3GA4tu-INKk"
      },
      "execution_count": null,
      "outputs": []
    },
    {
      "cell_type": "markdown",
      "source": [
        "# STEP 2: CREATE AN INSTANCE OF DUMMYGPTMODEL"
      ],
      "metadata": {
        "id": "dd3PqE4rIRvB"
      }
    },
    {
      "cell_type": "code",
      "source": [
        "torch.manual_seed(123)\n",
        "model = DummyGPTModel(GPT_CONFIG_124M)\n",
        "logits = model(batch)\n",
        "print(\"Output shape:\", logits.shape)\n",
        "print(logits)"
      ],
      "metadata": {
        "id": "xFvWr5SYIS3-"
      },
      "execution_count": null,
      "outputs": []
    },
    {
      "cell_type": "markdown",
      "source": [
        "The output tensor has two rows corresponding to the two text samples. Each text sample consists of 4 tokens; each token is a 50,257-dimensional vector, which matches the size of the tokenizer's vocabulary.\n",
        "\n",
        "The embedding has 50,257 dimensions because each of these dimensions refers to a unique token in the vocabulary. At the end of this chapter, when we implement the postprocessing code, we will convert these 50,257-dimensional vectors back into token IDs, which we can then decode into words.\n",
        "\n",
        "Now that we have taken a top-down look at the GPT architecture and its in- and outputs, we will code the individual placeholders in the upcoming sections, starting with the real layer normalization class that will replace the DummyLayerNorm in the previous code."
      ],
      "metadata": {
        "id": "5jZuhn7BIfkV"
      }
    },
    {
      "cell_type": "markdown",
      "source": [
        "# GPT ARCHITECTURE PART 2: LAYER NORMALIZATION"
      ],
      "metadata": {
        "id": "DeGgEDXVIk6G"
      }
    },
    {
      "cell_type": "code",
      "source": [
        "torch.manual_seed(123)\n",
        "batch_example = torch.randn(2, 5) #A\n",
        "layer = nn.Sequential(nn.Linear(5, 6), nn.ReLU())\n",
        "out = layer(batch_example)\n",
        "print(out)"
      ],
      "metadata": {
        "id": "j4SyAM0nIl6T"
      },
      "execution_count": null,
      "outputs": []
    },
    {
      "cell_type": "markdown",
      "source": [
        "The neural network layer we have coded consists of a Linear layer followed by a non-linear activation function, ReLU (short for Rectified Linear Unit), which is a standard activation function in neural networks.\n",
        "\n",
        "If you are unfamiliar with ReLU, it simply thresholds negative inputs to 0, ensuring that a layer outputs only positive values, which explains why the resulting layer output does not contain any negative values.\n",
        "\n",
        "(Note that we will use another, more sophisticated activation function in GPT, which we will introduce in the next section).\n",
        "\n",
        "Before we apply layer normalization to these outputs, let's examine the mean and variance:"
      ],
      "metadata": {
        "id": "Hv4vGZQvItAX"
      }
    },
    {
      "cell_type": "code",
      "source": [
        "mean = out.mean(dim=-1, keepdim=True)\n",
        "var = out.var(dim=-1, keepdim=True)\n",
        "print(\"Mean:\\n\", mean)\n",
        "print(\"Variance:\\n\", var)"
      ],
      "metadata": {
        "id": "ZMf2OYxSItkN"
      },
      "execution_count": null,
      "outputs": []
    },
    {
      "cell_type": "markdown",
      "source": [
        "The first row in the mean tensor above contains the mean value for the first input row, and the second output row contains the mean for the second input row.\n",
        "\n",
        "Using keepdim=True in operations like mean or variance calculation ensures that the output tensor retains the same number of dimensions as the input tensor, even though the operation reduces the tensor along the dimension specified via dim.\n",
        "\n",
        "For instance, without keepdim=True, the returned mean tensor would be a 2-dimensional vector [0.1324, 0.2170] instead of a 2×1-dimensional matrix [[0.1324], [0.2170]].\n",
        "\n",
        "For a 2D tensor (like a matrix), using dim=-1 for operations such as mean or variance calculation is the same as using dim=1.\n",
        "\n",
        "This is because -1 refers to the tensor's last dimension, which corresponds to the columns in a 2D tensor.\n",
        "\n",
        "Later, when adding layer normalization to the GPT model, which produces 3D tensors with shape [batch_size, num_tokens, embedding_size], we can still use dim=-1 for normalization across the last dimension, avoiding a change from dim=1 to dim=2.\n",
        "\n",
        "Next, let us apply layer normalization to the layer outputs we obtained earlier. The operation consists of subtracting the mean and dividing by the square root of the variance (also known as standard deviation):"
      ],
      "metadata": {
        "id": "bTO_146AI0qi"
      }
    },
    {
      "cell_type": "code",
      "source": [
        "out_norm = (out - mean) / torch.sqrt(var)\n",
        "mean = out_norm.mean(dim=-1, keepdim=True)\n",
        "var = out_norm.var(dim=-1, keepdim=True)\n",
        "print(\"Normalized layer outputs:\\n\", out_norm)\n",
        "print(\"Mean:\\n\", mean)\n",
        "print(\"Variance:\\n\", var)"
      ],
      "metadata": {
        "id": "79XSuV4lI1M5"
      },
      "execution_count": null,
      "outputs": []
    },
    {
      "cell_type": "markdown",
      "source": [
        "Note that the value 2.9802e-08 in the output tensor is the scientific notation for 2.9802 × 10-8, which is 0.0000000298 in decimal form. This value is very close to 0, but it is not exactly 0 due to small numerical errors that can accumulate because of the finite precision with which computers represent numbers.\n",
        "\n",
        "To improve readability, we can also turn off the scientific notation when printing tensor values by setting sci_mode to False:"
      ],
      "metadata": {
        "id": "YS_SjpCUI4_x"
      }
    },
    {
      "cell_type": "code",
      "source": [
        "torch.set_printoptions(sci_mode=False)\n",
        "print(\"Mean:\\n\", mean)\n",
        "print(\"Variance:\\n\", var)"
      ],
      "metadata": {
        "id": "NA1FjnTOI5ow"
      },
      "execution_count": null,
      "outputs": []
    },
    {
      "cell_type": "markdown",
      "source": [
        "Let's now encapsulate this process in a PyTorch module that we can use in the GPT model later:"
      ],
      "metadata": {
        "id": "L29GmKA1I8px"
      }
    },
    {
      "cell_type": "code",
      "source": [
        "class LayerNorm(nn.Module):\n",
        "    def __init__(self, emb_dim):\n",
        "        super().__init__()\n",
        "        self.eps = 1e-5\n",
        "        self.scale = nn.Parameter(torch.ones(emb_dim))\n",
        "        self.shift = nn.Parameter(torch.zeros(emb_dim))\n",
        "\n",
        "    def forward(self, x):\n",
        "        mean = x.mean(dim=-1, keepdim=True)\n",
        "        var = x.var(dim=-1, keepdim=True, unbiased=False)\n",
        "        norm_x = (x - mean) / torch.sqrt(var + self.eps)\n",
        "        return self.scale * norm_x + self.shift"
      ],
      "metadata": {
        "id": "_ISWbpOgI9PJ"
      },
      "execution_count": null,
      "outputs": []
    },
    {
      "cell_type": "markdown",
      "source": [
        "This specific implementation of layer Normalization operates on the last dimension of the input tensor x, which represents the embedding dimension (emb_dim).\n",
        "\n",
        "The variable eps is a small constant (epsilon) added to the variance to prevent division by zero during normalization.\n",
        "\n",
        "The scale and shift are two trainable parameters (of the same dimension as the input) that the LLM automatically adjusts during training if it is determined that doing so would improve the model's performance on its training task.\n",
        "\n",
        "This allows the model to learn appropriate scaling and shifting that best suit the data it is processing.\n",
        "\n",
        "A small note on biased variance\n",
        "\n",
        "In our variance calculation method, we have opted for an implementation detail by setting unbiased=False.\n",
        "\n",
        "For those curious about what this means, in the variance calculation, we divide by the number of inputs n in the variance formula.\n",
        "\n",
        "This approach does not apply Bessel's correction, which typically uses n-1 instead of n in the denominator to adjust for bias in sample variance estimation.\n",
        "\n",
        "This decision results in a so-called biased estimate of the variance.\n",
        "\n",
        "For large-scale language models (LLMs), where the embedding dimension n is significantly large, the difference between using n and n-1 is practically negligible.\n",
        "\n",
        "We chose this approach to ensure compatibility with the GPT-2 model's normalization layers and because it reflects TensorFlow's default behavior, which was used to implement the original GPT2 model.\n",
        "\n",
        "Let's now try the LayerNorm module in practice and apply it to the batch input:"
      ],
      "metadata": {
        "id": "5jcQkj7oJCx5"
      }
    },
    {
      "cell_type": "code",
      "source": [
        "ln = LayerNorm(emb_dim=5)\n",
        "out_ln = ln(batch_example)\n",
        "mean = out_ln.mean(dim=-1, keepdim=True)\n",
        "var = out_ln.var(dim=-1, unbiased=False, keepdim=True)\n",
        "print(\"Mean:\\n\", mean)\n",
        "print(\"Variance:\\n\", var)"
      ],
      "metadata": {
        "id": "VXC4eLeXJDWh"
      },
      "execution_count": null,
      "outputs": []
    },
    {
      "cell_type": "markdown",
      "source": [
        "As we can see based on the results, the layer normalization code works as expected and normalizes the values of each of the two inputs such that they have a mean of 0 and a variance of 1:"
      ],
      "metadata": {
        "id": "Qhb5mIGiJGuP"
      }
    },
    {
      "cell_type": "markdown",
      "source": [
        "# GPT ARCHITECTURE PART 3: FEEDFORWARD NEURAL NETWORK WITH GELU ACTIVATION"
      ],
      "metadata": {
        "id": "cQT91Mx-JJYF"
      }
    },
    {
      "cell_type": "markdown",
      "source": [
        "Let's implement the GELU activation function approximation used by GPT-2:"
      ],
      "metadata": {
        "id": "lhUie5KhJM3U"
      }
    },
    {
      "cell_type": "code",
      "source": [
        "class GELU(nn.Module):\n",
        "    def __init__(self):\n",
        "        super().__init__()\n",
        "\n",
        "    def forward(self, x):\n",
        "        return 0.5 * x * (1 + torch.tanh(\n",
        "            torch.sqrt(torch.tensor(2.0 / torch.pi)) *\n",
        "            (x + 0.044715 * torch.pow(x, 3))\n",
        "        ))"
      ],
      "metadata": {
        "id": "dUBol6v7JNc8"
      },
      "execution_count": null,
      "outputs": []
    },
    {
      "cell_type": "markdown",
      "source": [
        "\n",
        "To get an idea of what this GELU function looks like and how it compares to the ReLU function, let's plot these functions side by side:"
      ],
      "metadata": {
        "id": "oevds_NDJS3m"
      }
    },
    {
      "cell_type": "code",
      "source": [
        "import matplotlib.pyplot as plt\n",
        "\n",
        "gelu, relu = GELU(), nn.ReLU()\n",
        "\n",
        "# Some sample data\n",
        "x = torch.linspace(-3, 3, 100)\n",
        "y_gelu, y_relu = gelu(x), relu(x)\n",
        "\n",
        "plt.figure(figsize=(8, 3))\n",
        "for i, (y, label) in enumerate(zip([y_gelu, y_relu], [\"GELU\", \"ReLU\"]), 1):\n",
        "    plt.subplot(1, 2, i)\n",
        "    plt.plot(x, y)\n",
        "    plt.title(f\"{label} activation function\")\n",
        "    plt.xlabel(\"x\")\n",
        "    plt.ylabel(f\"{label}(x)\")\n",
        "    plt.grid(True)\n",
        "\n",
        "plt.tight_layout()\n",
        "plt.show()\n"
      ],
      "metadata": {
        "id": "49u3owWxJTaK"
      },
      "execution_count": null,
      "outputs": []
    },
    {
      "cell_type": "markdown",
      "source": [
        "As we can see in the resulting plot, ReLU is a piecewise linear function that outputs the input directly if it is positive; otherwise, it outputs zero.\n",
        "\n",
        "GELU is a smooth, nonlinear function that approximates ReLU but with a non-zero gradient for negative values.\n",
        "\n",
        "The smoothness of GELU, as shown in the above figure, can lead to better optimization properties during training, as it allows for more nuanced adjustments to the model's parameters.\n",
        "\n",
        "In contrast, ReLU has a sharp corner at zero, which can sometimes make optimization harder, especially in networks that are very deep or have complex architectures.\n",
        "\n",
        "Moreover, unlike RELU, which outputs zero for any negative input, GELU allows for a small, non-zero output for negative values.\n",
        "\n",
        "This characteristic means that during the training process, neurons that receive negative input can still contribute to the learning process, albeit to a lesser extent than positive inputs.\n",
        "\n",
        "Next, let's use the GELU function to implement the small neural network module, FeedForward, that we will be using in the LLM's transformer block later:"
      ],
      "metadata": {
        "id": "dF0JF9fwJYON"
      }
    },
    {
      "cell_type": "code",
      "source": [
        "class FeedForward(nn.Module):\n",
        "    def __init__(self, cfg):\n",
        "        super().__init__()\n",
        "        self.layers = nn.Sequential(\n",
        "            nn.Linear(cfg[\"emb_dim\"], 4 * cfg[\"emb_dim\"]),\n",
        "            GELU(),\n",
        "            nn.Linear(4 * cfg[\"emb_dim\"], cfg[\"emb_dim\"]),\n",
        "        )\n",
        "\n",
        "    def forward(self, x):\n",
        "        return self.layers(x)"
      ],
      "metadata": {
        "id": "B-dNG-iEJYv9"
      },
      "execution_count": null,
      "outputs": []
    },
    {
      "cell_type": "code",
      "source": [
        "print(GPT_CONFIG_124M[\"emb_dim\"])"
      ],
      "metadata": {
        "id": "bpvil99rJbP1"
      },
      "execution_count": null,
      "outputs": []
    },
    {
      "cell_type": "markdown",
      "source": [
        "As we can see in the preceding code, the FeedForward module is a small neural network consisting of two Linear layers and a GELU activation function.\n",
        "\n",
        "In the 124 million parameter GPT model, it receives the input batches with tokens that have an embedding size of 768 each via the GPT_CONFIG_124M dictionary where GPT_CONFIG_124M[\"emb_dim\"] = 768.\n",
        "\n",
        "Let's use the GELU function to implement the small neural network module, FeedForward, that we will be using in the LLM's transformer block later:"
      ],
      "metadata": {
        "id": "6E-p9odqJeRW"
      }
    },
    {
      "cell_type": "code",
      "source": [
        "ffn = FeedForward(GPT_CONFIG_124M)\n",
        "x = torch.rand(2, 3, 768) #A\n",
        "out = ffn(x)\n",
        "print(out.shape)"
      ],
      "metadata": {
        "id": "HiOiBRxFJe2q"
      },
      "execution_count": null,
      "outputs": []
    },
    {
      "cell_type": "markdown",
      "source": [
        "The FeedForward module we implemented in this section plays a crucial role in enhancing the model's ability to learn from and generalize the data.\n",
        "\n",
        "Although the input and output dimensions of this module are the same, it internally expands the embedding dimension into a higher-dimensional space through the first linear layer.\n",
        "\n",
        "This expansion is followed by a non-linear GELU activation, and then a contraction back to the original dimension with the second linear transformation.\n",
        "\n",
        "Such a design allows for the exploration of a richer representation space.\n",
        "\n",
        "Moreover, the uniformity in input and output dimensions simplifies the architecture by enabling the stacking of multiple layers, as we will do later, without the need to adjust dimensions between them, thus making the model more scalable."
      ],
      "metadata": {
        "id": "PLdL62okJiiH"
      }
    },
    {
      "cell_type": "markdown",
      "source": [
        "# GPT ARCHITECTURE PART 4: SHORTCUT CONNECTIONS"
      ],
      "metadata": {
        "id": "6X5FGU_BJk0Q"
      }
    },
    {
      "cell_type": "markdown",
      "source": [
        "Let us see how we can add shortcut connections to the forward method:"
      ],
      "metadata": {
        "id": "rKkrb3p0Jmmn"
      }
    },
    {
      "cell_type": "code",
      "source": [
        "class ExampleDeepNeuralNetwork(nn.Module):\n",
        "    def __init__(self, layer_sizes, use_shortcut):\n",
        "        super().__init__()\n",
        "        self.use_shortcut = use_shortcut\n",
        "        self.layers = nn.ModuleList([\n",
        "            nn.Sequential(nn.Linear(layer_sizes[0], layer_sizes[1]), GELU()),\n",
        "            nn.Sequential(nn.Linear(layer_sizes[1], layer_sizes[2]), GELU()),\n",
        "            nn.Sequential(nn.Linear(layer_sizes[2], layer_sizes[3]), GELU()),\n",
        "            nn.Sequential(nn.Linear(layer_sizes[3], layer_sizes[4]), GELU()),\n",
        "            nn.Sequential(nn.Linear(layer_sizes[4], layer_sizes[5]), GELU())\n",
        "        ])\n",
        "\n",
        "    def forward(self, x):\n",
        "        for layer in self.layers:\n",
        "            # Compute the output of the current layer\n",
        "            layer_output = layer(x)\n",
        "            # Check if shortcut can be applied\n",
        "            if self.use_shortcut and x.shape == layer_output.shape:\n",
        "                x = x + layer_output\n",
        "            else:\n",
        "                x = layer_output\n",
        "        return x\n"
      ],
      "metadata": {
        "id": "hfX9cUQJJoLx"
      },
      "execution_count": null,
      "outputs": []
    },
    {
      "cell_type": "markdown",
      "source": [
        "The code implements a deep neural network with 5 layers, each consisting of a Linear layer and a GELU activation function.\n",
        "\n",
        "In the forward pass, we iteratively pass the input through the layers and optionally add the shortcut connections if the self.use_shortcut attribute is set to True.\n",
        "\n",
        "Let's use this code to first initialize a neural network without shortcut connections. Here, each layer will be initialized such that it accepts an example with 3 input values and returns 3 output values. The last layer returns a single output value:"
      ],
      "metadata": {
        "id": "YwU-w7m1Jrya"
      }
    },
    {
      "cell_type": "code",
      "source": [
        "layer_sizes = [3, 3, 3, 3, 3, 1]\n",
        "sample_input = torch.tensor([[1., 0., -1.]])\n",
        "torch.manual_seed(123) # specify random seed for the initial weights for reproducibility\n",
        "model_without_shortcut = ExampleDeepNeuralNetwork(\n",
        "layer_sizes, use_shortcut=False\n",
        ")"
      ],
      "metadata": {
        "id": "8HnWCx6SJsZF"
      },
      "execution_count": null,
      "outputs": []
    },
    {
      "cell_type": "markdown",
      "source": [
        "Next, we implement a function that computes the gradients in the the model's backward pass:"
      ],
      "metadata": {
        "id": "cQnJGjU4Jvqi"
      }
    },
    {
      "cell_type": "code",
      "source": [
        "def print_gradients(model, x):\n",
        "    # Forward pass\n",
        "    output = model(x)\n",
        "    target = torch.tensor([[0.]])\n",
        "\n",
        "    # Calculate loss based on how close the target\n",
        "    # and output are\n",
        "    loss = nn.MSELoss()\n",
        "    loss = loss(output, target)\n",
        "\n",
        "    # Backward pass to calculate the gradients\n",
        "    loss.backward()\n",
        "\n",
        "    for name, param in model.named_parameters():\n",
        "        if 'weight' in name:\n",
        "            # Print the mean absolute gradient of the weights\n",
        "            print(f\"{name} has gradient mean of {param.grad.abs().mean().item()}\")"
      ],
      "metadata": {
        "id": "eGKXxX3NJwM4"
      },
      "execution_count": null,
      "outputs": []
    },
    {
      "cell_type": "markdown",
      "source": [
        "In the preceding code, we specify a loss function that computes how close the model output and a user-specified target (here, for simplicity, the value 0) are.\n",
        "\n",
        "Then, when calling loss.backward(), PyTorch computes the loss gradient for each layer in the model.\n",
        "\n",
        "We can iterate through the weight parameters via model.named_parameters().\n",
        "\n",
        "Suppose we have a 3×3 weight parameter matrix for a given layer.\n",
        "\n",
        "In that case, this layer will have 3×3 gradient values, and we print the mean absolute gradient of these 3×3 gradient values to obtain a single gradient value per layer to compare the gradients between layers more easily.\n",
        "\n",
        "In short, the .backward() method is a convenient method in PyTorch that computes loss gradients, which are required during model training, without implementing the math for the gradient calculation ourselves, thereby making working with deep neural networks much more accessible.\n",
        "\n",
        "Let's now use the print_gradients function and apply it to the model without skip connections:"
      ],
      "metadata": {
        "id": "rRP_IG4uJ0my"
      }
    },
    {
      "cell_type": "code",
      "source": [
        "print_gradients(model_without_shortcut, sample_input)"
      ],
      "metadata": {
        "id": "yvkVg1hZJ1Kz"
      },
      "execution_count": null,
      "outputs": []
    },
    {
      "cell_type": "markdown",
      "source": [
        "As we can see based on the output of the print_gradients function, the gradients become smaller as we progress from the last layer (layers.4) to the first layer (layers.0), which is a phenomenon called the vanishing gradient problem.\n",
        "Let's now instantiate a model with skip connections and see how it compares:"
      ],
      "metadata": {
        "id": "KeacESkiJ7ir"
      }
    },
    {
      "cell_type": "code",
      "source": [
        "torch.manual_seed(123)\n",
        "model_with_shortcut = ExampleDeepNeuralNetwork(\n",
        "layer_sizes, use_shortcut=True\n",
        ")\n",
        "print_gradients(model_with_shortcut, sample_input)"
      ],
      "metadata": {
        "id": "wuR46idmJ8Aw"
      },
      "execution_count": null,
      "outputs": []
    },
    {
      "cell_type": "markdown",
      "source": [
        "As we can see, based on the output, the last layer (layers.4) still has a larger gradient than the other layers.\n",
        "However, the gradient value stabilizes as we progress towards the first layer (layers.0) and doesn't shrink to a vanishingly small value.\n",
        "\n",
        "In conclusion, shortcut connections are important for overcoming the limitations posed by the vanishing gradient problem in deep neural networks.\n",
        "\n",
        "Shortcut connections are a core building block of very large models such as LLMs, and they will help facilitate more effective training by ensuring consistent gradient flow across layers when we train the GPT model"
      ],
      "metadata": {
        "id": "57Nk51OeJ_db"
      }
    },
    {
      "cell_type": "markdown",
      "source": [
        "# GPT ARCHITECTURE PART 5: CODING ATTENTION AND LINEAR LAYERS IN A TRANSFORMER BLOCK"
      ],
      "metadata": {
        "id": "hkqMPnWeKHIl"
      }
    },
    {
      "cell_type": "markdown",
      "source": [
        "Step 1: Shortcut connection for attention block\n",
        "\n",
        "Step 2: Shortcut connection for feed forward block\n",
        "\n",
        "Step 3: Add the original input back"
      ],
      "metadata": {
        "id": "kyE2DgDwMKls"
      }
    },
    {
      "cell_type": "code",
      "source": [
        "class TransformerBlock(nn.Module):\n",
        "    def __init__(self, cfg):\n",
        "        super().__init__()\n",
        "        self.att = MultiHeadAttention(\n",
        "            d_in=cfg[\"emb_dim\"],\n",
        "            d_out=cfg[\"emb_dim\"],\n",
        "            context_length=cfg[\"context_length\"],\n",
        "            num_heads=cfg[\"n_heads\"],\n",
        "            dropout=cfg[\"drop_rate\"],\n",
        "            qkv_bias=cfg[\"qkv_bias\"])\n",
        "        self.ff = FeedForward(cfg)\n",
        "        self.norm1 = LayerNorm(cfg[\"emb_dim\"])\n",
        "        self.norm2 = LayerNorm(cfg[\"emb_dim\"])\n",
        "        self.drop_shortcut = nn.Dropout(cfg[\"drop_rate\"])\n",
        "\n",
        "    def forward(self, x):\n",
        "        # Shortcut connection for attention block\n",
        "        shortcut = x\n",
        "        x = self.norm1(x)\n",
        "        x = self.att(x)  # Shape [batch_size, num_tokens, emb_size]\n",
        "        x = self.drop_shortcut(x)\n",
        "        x = x + shortcut  # Add the original input back\n",
        "\n",
        "        # Shortcut connection for feed forward block\n",
        "        shortcut = x\n",
        "        x = self.norm2(x)\n",
        "        x = self.ff(x)\n",
        "        x = self.drop_shortcut(x)\n",
        "        x = x + shortcut  # Add the original input back\n",
        "\n",
        "        return x"
      ],
      "metadata": {
        "id": "pfe892uLMLSl"
      },
      "execution_count": null,
      "outputs": []
    },
    {
      "cell_type": "markdown",
      "source": [
        "The given code defines a TransformerBlock class in PyTorch that includes a multi-head attention mechanism (MultiHeadAttention) and a feed forward network (FeedForward), both configured based on a provided configuration dictionary (cfg), such as GPT_CONFIG_124M\n",
        "\n",
        "Layer normalization (LayerNorm) is applied before each of these two components, and dropout is applied after them to regularize the model and prevent overfitting.\n",
        "\n",
        "This is also known as Pre-LayerNorm.\n",
        "\n",
        "Older architectures, such as the original transformer model, applied layer normalization after the self-attention and feed-forward networks instead, known as Post-LayerNorm, which often leads to worse training dynamics.\n",
        "\n",
        "The class also implements the forward pass, where each component is followed by a shortcut connection that adds the input of the block to its output. This critical feature helps gradients flow through the network during training and improves the learning of deep models\n",
        "\n",
        "Using the GPT_CONFIG_124M dictionary we defined earlier, let's instantiate a transformer block and feed it some sample data\n",
        "Create sample input of shape [batch_size, num_tokens, emb_dim]"
      ],
      "metadata": {
        "id": "GvOdGS1hMPxB"
      }
    },
    {
      "cell_type": "code",
      "source": [
        "torch.manual_seed(123)\n",
        "x = torch.rand(2, 4, 768) #A\n",
        "block = TransformerBlock(GPT_CONFIG_124M)\n",
        "output = block(x)\n",
        "print(\"Input shape:\", x.shape)\n",
        "print(\"Output shape:\", output.shape)"
      ],
      "metadata": {
        "id": "HZjprJZRMQiZ"
      },
      "execution_count": null,
      "outputs": []
    },
    {
      "cell_type": "markdown",
      "source": [
        "As we can see from the code output, the transformer block maintains the input dimensions in its output, indicating that the transformer architecture processes sequences of data without altering their shape throughout the network.\n",
        "\n",
        "The preservation of shape throughout the transformer block architecture is not incidental but a crucial aspect of its design.\n",
        "\n",
        "This design enables its effective application across a wide range of sequence-to-sequence tasks, where each output vector directly corresponds to an input vector, maintaining a one-to-one relationship.\n",
        "\n",
        "However, the output is a context vector that encapsulates information from the entire input sequence.\n",
        "\n",
        "This means that while the physical dimensions of the sequence (length and feature size) remain unchanged as it passes through the transformer block, the content of each output vector is re-encoded to integrate contextual information from across the entire input sequence."
      ],
      "metadata": {
        "id": "59pCnNytMUra"
      }
    },
    {
      "cell_type": "markdown",
      "source": [
        "# GPT ARCHITECTURE PART 6: ENTIRE GPT MODEL ARCHITECTURE IMPLEMENTATION"
      ],
      "metadata": {
        "id": "H0IKIkG2MWhZ"
      }
    },
    {
      "cell_type": "markdown",
      "source": [
        "The device setting will allow us to train the model on a CPU or GPU, depending on which device the input data sits"
      ],
      "metadata": {
        "id": "ScRyW0UwMaCI"
      }
    },
    {
      "cell_type": "code",
      "source": [
        "class GPTModel(nn.Module):\n",
        "    def __init__(self, cfg):\n",
        "        super().__init__()\n",
        "        self.tok_emb = nn.Embedding(cfg[\"vocab_size\"], cfg[\"emb_dim\"])\n",
        "        self.pos_emb = nn.Embedding(cfg[\"context_length\"], cfg[\"emb_dim\"])\n",
        "        self.drop_emb = nn.Dropout(cfg[\"drop_rate\"])\n",
        "\n",
        "        self.trf_blocks = nn.Sequential(\n",
        "            *[TransformerBlock(cfg) for _ in range(cfg[\"n_layers\"])])\n",
        "\n",
        "        self.final_norm = LayerNorm(cfg[\"emb_dim\"])\n",
        "        self.out_head = nn.Linear(\n",
        "            cfg[\"emb_dim\"], cfg[\"vocab_size\"], bias=False\n",
        "        )\n",
        "\n",
        "    def forward(self, in_idx):\n",
        "        batch_size, seq_len = in_idx.shape\n",
        "        tok_embeds = self.tok_emb(in_idx)\n",
        "        pos_embeds = self.pos_emb(torch.arange(seq_len, device=in_idx.device))\n",
        "        x = tok_embeds + pos_embeds  # Shape [batch_size, num_tokens, emb_size]\n",
        "        x = self.drop_emb(x)\n",
        "        x = self.trf_blocks(x)\n",
        "        x = self.final_norm(x)\n",
        "        logits = self.out_head(x)\n",
        "        return logits"
      ],
      "metadata": {
        "id": "oCNG1QSWMan7"
      },
      "execution_count": null,
      "outputs": []
    },
    {
      "cell_type": "markdown",
      "source": [
        "The init constructor of this GPTModel class initializes the token and positional embedding layers using the configurations passed in via a Python dictionary, cfg.\n",
        "\n",
        "These embedding layers are responsible for converting input token indices into dense vectors and adding positional information.\n",
        "\n",
        "Next, the init method creates a sequential stack of TransformerBlock modules equal to the number of layers specified in cfg.\n",
        "\n",
        "Following the transformer blocks, a LayerNorm layer is applied, standardizing the outputs from the transformer blocks to stabilize the learning process.\n",
        "\n",
        "Finally, a linear output head without bias is defined, which projects the transformer's output into the vocabulary space of the tokenizer to generate logits for each token in the vocabulary.\n",
        "\n",
        "The forward method takes a batch of input token indices, computes their embeddings, applies the positional embeddings, passes the sequence through the transformer blocks, normalizes the final output, and then computes the logits, representing the next token's unnormalized probabilities. We will convert these logits into tokens and text outputs in the next section.\n",
        "\n",
        "Let's now initialize the 124 million parameter GPT model using the GPT_CONFIG_124M dictionary we pass into the cfg parameter and feed it with the batch text input we created at the beginning of this chapter:\n",
        "\n",
        "\n"
      ],
      "metadata": {
        "id": "QdUBxy4AMfyK"
      }
    },
    {
      "cell_type": "code",
      "source": [
        "torch.manual_seed(123)\n",
        "model = GPTModel(GPT_CONFIG_124M)\n",
        "out = model(batch)\n",
        "print(\"Input batch:\\n\", batch)\n",
        "print(\"\\nOutput shape:\", out.shape)\n",
        "print(out)"
      ],
      "metadata": {
        "id": "mrwUuTNHMjuF"
      },
      "execution_count": null,
      "outputs": []
    },
    {
      "cell_type": "markdown",
      "source": [
        "As we can see, the output tensor has the shape [2, 4, 50257], since we passed in 2 input texts with 4 tokens each. The last dimension, 50,257, corresponds to the vocabulary size of the tokenizer. In the next section, we will see how to convert each of these 50,257- dimensional output vectors back into tokens.\n",
        "\n",
        "Using the numel() method, short for \"number of elements,\" we can collect the total number of parameters in the model's parameter tensors:"
      ],
      "metadata": {
        "id": "pxjSv84zMpJD"
      }
    },
    {
      "cell_type": "code",
      "source": [
        "total_params = sum(p.numel() for p in model.parameters())\n",
        "print(f\"Total number of parameters: {total_params:,}\")"
      ],
      "metadata": {
        "id": "dnrOkpaCMp1E"
      },
      "execution_count": null,
      "outputs": []
    },
    {
      "cell_type": "markdown",
      "source": [
        "Earlier, we spoke of initializing a 124 million parameter GPT model, so why is the actual number of parameters 163 million, as shown in the preceding code output?\n",
        "The reason is a concept called weight tying that is used in the original GPT-2 architecture, which means that the original GPT-2 architecture is reusing the weights from the token embedding layer in its output layer.\n",
        "\n",
        "To understand what this means, let's take a look at the shapes of the token embedding layer and linear output layer that we initialized on the model via the GPTModel earlier:"
      ],
      "metadata": {
        "id": "5VI8BnHcMtz9"
      }
    },
    {
      "cell_type": "code",
      "source": [
        "print(\"Token embedding layer shape:\", model.tok_emb.weight.shape)\n",
        "print(\"Output layer shape:\", model.out_head.weight.shape)"
      ],
      "metadata": {
        "id": "Tf-akQq-Mugf"
      },
      "execution_count": null,
      "outputs": []
    },
    {
      "cell_type": "markdown",
      "source": [
        "As we can see based on the print outputs, the weight tensors for both these layers have the same shape:\n",
        "\n",
        "The token embedding and output layers are very large due to the number of rows for the 50,257 in the tokenizer's vocabulary. Let's remove the output layer parameter count from the total GPT-2 model count according to the weight tying:"
      ],
      "metadata": {
        "id": "7gtz-aQgMxiN"
      }
    },
    {
      "cell_type": "code",
      "source": [
        "total_params_gpt2 = total_params - sum(p.numel() for p in model.out_head.parameters())\n",
        "print(f\"Number of trainable parameters considering weight tying: {total_params_gpt2:,}\")"
      ],
      "metadata": {
        "id": "mMP7v2aSMyJ5"
      },
      "execution_count": null,
      "outputs": []
    },
    {
      "cell_type": "markdown",
      "source": [
        "As we can see, the model is now only 124 million parameters large, matching the original size of the GPT-2 model.\n",
        "\n",
        "Weight tying reduces the overall memory footprint and computational complexity of the model. However, in my experience, using separate token embedding and output layers results in better training and model performance; hence, we are using separate layers in our GPTModel implementation. The same is true for modern LLMs.\n",
        "\n",
        "Lastly, let us compute the memory requirements of the 163 million parameters in our GPTModel object:"
      ],
      "metadata": {
        "id": "oGmfXboAM3zv"
      }
    },
    {
      "cell_type": "code",
      "source": [
        "total_size_bytes = total_params * 4 #A\n",
        "total_size_mb = total_size_bytes / (1024 * 1024) #B\n",
        "print(f\"Total size of the model: {total_size_mb:.2f} MB\")"
      ],
      "metadata": {
        "id": "vsjdZCjtM4kf"
      },
      "execution_count": null,
      "outputs": []
    },
    {
      "cell_type": "markdown",
      "source": [
        "In conclusion, by calculating the memory requirements for the 163 million parameters in our GPTModel object and assuming each parameter is a 32-bit float taking up 4 bytes, we find that the total size of the model amounts to 621.83 MB, illustrating the relatively large storage capacity required to accommodate even relatively small LLMs.\n",
        "\n",
        "In this section, we implemented the GPTModel architecture and saw that it outputs numeric tensors of shape [batch_size, num_tokens, vocab_size]. In the next section, we will write the code to convert these output tensors into text."
      ],
      "metadata": {
        "id": "hx-3C0HIM8v3"
      }
    },
    {
      "cell_type": "markdown",
      "source": [
        "# GPT ARCHITECTURE PART 7: GENERATING TEXT FROM OUTPUT TOKENS"
      ],
      "metadata": {
        "id": "1-_QK-mMM_Em"
      }
    },
    {
      "cell_type": "markdown",
      "source": [
        "Let us implement the token-generation process as follows:\n",
        "Step 1: idx is a (batch, n_tokens) array of indices in the current context\n",
        "\n",
        "Step 2: Crop current context if it exceeds the supported context size E.g., if LLM supports only 5 tokens, and the context size is 10 then only the last 5 tokens are used as context\n",
        "\n",
        "Step 3: Focus only on the last time step, so that (batch, n_token, vocab_size) becomes (batch, vocab_size)\n",
        "\n",
        "Step 4: probas has shape (batch, vocab_size)\n",
        "\n",
        "Step 5: idx_next has shape (batch, 1)\n",
        "\n",
        "Step 6: Append sampled index to the running sequence, where idx has shape (batch, n_tokens+1)"
      ],
      "metadata": {
        "id": "9VE45rvwNBwm"
      }
    },
    {
      "cell_type": "code",
      "source": [
        "def generate_text_simple(model, idx, max_new_tokens, context_size):\n",
        "    # idx is (batch, n_tokens) array of indices in the current context\n",
        "    for _ in range(max_new_tokens):\n",
        "\n",
        "        # Crop current context if it exceeds the supported context size\n",
        "        # E.g., if LLM supports only 5 tokens, and the context size is 10\n",
        "        # then only the last 5 tokens are used as context\n",
        "        idx_cond = idx[:, -context_size:]\n",
        "\n",
        "        # Get the predictions\n",
        "        with torch.no_grad():\n",
        "            logits = model(idx_cond)\n",
        "\n",
        "        # Focus only on the last time step\n",
        "        # (batch, n_tokens, vocab_size) becomes (batch, vocab_size)\n",
        "        logits = logits[:, -1, :]\n",
        "\n",
        "        # Apply softmax to get probabilities\n",
        "        probas = torch.softmax(logits, dim=-1)  # (batch, vocab_size)\n",
        "\n",
        "        # Get the idx of the vocab entry with the highest probability value\n",
        "        idx_next = torch.argmax(probas, dim=-1, keepdim=True)  # (batch, 1)\n",
        "\n",
        "        # Append sampled index to the running sequence\n",
        "        idx = torch.cat((idx, idx_next), dim=1)  # (batch, n_tokens+1)\n",
        "\n",
        "    return idx"
      ],
      "metadata": {
        "id": "AbQhpPmwNCdA"
      },
      "execution_count": null,
      "outputs": []
    },
    {
      "cell_type": "markdown",
      "source": [
        "In the preceeding code, the generate_text_simple function, we use a softmax function to convert the logits into a probability distribution from which we identify the position with the highest value via torch.argmax.\n",
        "\n",
        "The softmax function is monotonic, meaning it preserves the order of its inputs when transformed into outputs.\n",
        "\n",
        "So, in practice, the softmax step is redundant since the position with the highest score in the softmax output tensor is the same position in the logit tensor.\n",
        "\n",
        "In other words, we could apply the torch.argmax function to the logits tensor directly and get identical results.\n",
        "\n",
        "However, we coded the conversion to illustrate the full process of transforming logits to probabilities, which can add additional intuition, such as that the model generates the most likely next token, which is known as greedy decoding.\n",
        "\n",
        "In the next chapter, when we will implement the GPT training code, we will also introduce additional sampling techniques where we modify the softmax outputs such that the model doesn't always select the most likely token, which introduces variability and creativity in the generated text.\n",
        "\n",
        "Let's now try out the generate_text_simple function with the \"Hello, I am\" context as model input\n",
        "First, we encode the input context into token IDs:"
      ],
      "metadata": {
        "id": "xnQ_LPEANKpF"
      }
    },
    {
      "cell_type": "code",
      "source": [
        "start_context = \"Hello, I am\"\n",
        "encoded = tokenizer.encode(start_context)\n",
        "print(\"encoded:\", encoded)\n",
        "encoded_tensor = torch.tensor(encoded).unsqueeze(0) #A\n",
        "print(\"encoded_tensor.shape:\", encoded_tensor.shape)"
      ],
      "metadata": {
        "id": "OnFuDSQ5NLPr"
      },
      "execution_count": null,
      "outputs": []
    },
    {
      "cell_type": "markdown",
      "source": [
        "Next, we put the model into .eval() mode, which disables random components like dropout, which are only used during training, and use the generate_text_simple function on the encoded input tensor:\n",
        "We disable dropout since we are not training the model"
      ],
      "metadata": {
        "id": "Tn_qTNfwNOrJ"
      }
    },
    {
      "cell_type": "code",
      "source": [
        "model.eval() #A\n",
        "out = generate_text_simple(\n",
        "model=model,\n",
        "idx=encoded_tensor,\n",
        "max_new_tokens=6,\n",
        "context_size=GPT_CONFIG_124M[\"context_length\"]\n",
        ")\n",
        "print(\"Output:\", out)\n",
        "print(\"Output length:\", len(out[0]))"
      ],
      "metadata": {
        "id": "jLuP5l-RNPXh"
      },
      "execution_count": null,
      "outputs": []
    },
    {
      "cell_type": "markdown",
      "source": [
        "Using the .decode method of the tokenizer, we can convert the IDs back into text:"
      ],
      "metadata": {
        "id": "FcdMNeqYNXOC"
      }
    },
    {
      "cell_type": "code",
      "source": [
        "decoded_text = tokenizer.decode(out.squeeze(0).tolist())\n",
        "print(decoded_text)"
      ],
      "metadata": {
        "id": "hGqlK77yNX6Z"
      },
      "execution_count": null,
      "outputs": []
    },
    {
      "cell_type": "markdown",
      "source": [
        "As we can see, based on the preceding output, the model generated gibberish, which is not at all coherent text.\n",
        "\n",
        "What happened?\n",
        "\n",
        "The reason why the model is unable to produce coherent text is that we haven't trained it yet.\n",
        "\n",
        "So far, we just implemented the GPT architecture and initialized a GPT model instance with initial random weights."
      ],
      "metadata": {
        "id": "7j1QWxLpNchD"
      }
    },
    {
      "cell_type": "markdown",
      "source": [
        "# EVALUATING GENERATIVE TEXT MODELS"
      ],
      "metadata": {
        "id": "9HtulU4yO2Tm"
      }
    },
    {
      "cell_type": "markdown",
      "source": [
        "GPT Model class we coded earlier"
      ],
      "metadata": {
        "id": "jREQ9mKSO6Ax"
      }
    },
    {
      "cell_type": "code",
      "source": [
        "class GPTModel(nn.Module):\n",
        "    def __init__(self, cfg):\n",
        "        super().__init__()\n",
        "        self.tok_emb = nn.Embedding(cfg[\"vocab_size\"], cfg[\"emb_dim\"])\n",
        "        self.pos_emb = nn.Embedding(cfg[\"context_length\"], cfg[\"emb_dim\"])\n",
        "        self.drop_emb = nn.Dropout(cfg[\"drop_rate\"])\n",
        "\n",
        "        self.trf_blocks = nn.Sequential(\n",
        "            *[TransformerBlock(cfg) for _ in range(cfg[\"n_layers\"])])\n",
        "\n",
        "        self.final_norm = LayerNorm(cfg[\"emb_dim\"])\n",
        "        self.out_head = nn.Linear(\n",
        "            cfg[\"emb_dim\"], cfg[\"vocab_size\"], bias=False\n",
        "        )\n",
        "\n",
        "    def forward(self, in_idx):\n",
        "        batch_size, seq_len = in_idx.shape\n",
        "        tok_embeds = self.tok_emb(in_idx)\n",
        "        pos_embeds = self.pos_emb(torch.arange(seq_len, device=in_idx.device))\n",
        "        x = tok_embeds + pos_embeds  # Shape [batch_size, num_tokens, emb_size]\n",
        "        x = self.drop_emb(x)\n",
        "        x = self.trf_blocks(x)\n",
        "        x = self.final_norm(x)\n",
        "        logits = self.out_head(x)\n",
        "        return logits"
      ],
      "metadata": {
        "id": "RSdT5gO8O7tV"
      },
      "execution_count": null,
      "outputs": []
    },
    {
      "cell_type": "markdown",
      "source": [
        "# Using GPT to generate text"
      ],
      "metadata": {
        "id": "1j1o5OnKPIFe"
      }
    },
    {
      "cell_type": "markdown",
      "source": [
        "We initialize a GPT model using the code from the previous chapter"
      ],
      "metadata": {
        "id": "R3nlY6mvPLfr"
      }
    },
    {
      "cell_type": "code",
      "source": [
        "import torch\n",
        "\n",
        "GPT_CONFIG_124M = {\n",
        "    \"vocab_size\": 50257,   # Vocabulary size\n",
        "    \"context_length\": 256, # Shortened context length (orig: 1024)\n",
        "    \"emb_dim\": 768,        # Embedding dimension\n",
        "    \"n_heads\": 12,         # Number of attention heads\n",
        "    \"n_layers\": 12,        # Number of layers\n",
        "    \"drop_rate\": 0.1,      # Dropout rate\n",
        "    \"qkv_bias\": False      # Query-key-value bias\n",
        "}\n",
        "\n",
        "torch.manual_seed(123)\n",
        "model = GPTModel(GPT_CONFIG_124M)\n",
        "model.eval();  # Disable dropout during inference"
      ],
      "metadata": {
        "id": "YdNSGBOTPMGb"
      },
      "execution_count": null,
      "outputs": []
    },
    {
      "cell_type": "markdown",
      "source": [
        "We reduce the context length (context_length) of only 256 tokens to reduce the computational resource requirements for training the model, whereas the original 124 million parameter GPT-2 model used 1024 tokens\n",
        "\n",
        "This is so that more readers will be able to follow and execute the code examples on their laptop computer\n",
        "\n",
        "Next, we use the generate_text_simple function from the previous chapter to generate text.\n",
        "\n",
        "In addition, we define two convenience functions, text_to_token_ids and token_ids_to_text, for converting between token and text representations that we use throughout this chapter"
      ],
      "metadata": {
        "id": "8LransPYPQIQ"
      }
    },
    {
      "cell_type": "code",
      "source": [
        "import tiktoken\n",
        "\n",
        "def text_to_token_ids(text, tokenizer):\n",
        "    encoded = tokenizer.encode(text, allowed_special={'<|endoftext|>'})\n",
        "    encoded_tensor = torch.tensor(encoded).unsqueeze(0) # add batch dimension\n",
        "    return encoded_tensor\n",
        "\n",
        "def token_ids_to_text(token_ids, tokenizer):\n",
        "    flat = token_ids.squeeze(0) # remove batch dimension\n",
        "    return tokenizer.decode(flat.tolist())\n",
        "\n",
        "start_context = \"Every effort moves you\"\n",
        "tokenizer = tiktoken.get_encoding(\"gpt2\")\n",
        "\n",
        "token_ids = generate_text_simple(\n",
        "    model=model,\n",
        "    idx=text_to_token_ids(start_context, tokenizer),\n",
        "    max_new_tokens=10,\n",
        "    context_size=GPT_CONFIG_124M[\"context_length\"]\n",
        ")\n",
        "\n",
        "print(\"Output text:\\n\", token_ids_to_text(token_ids, tokenizer))"
      ],
      "metadata": {
        "id": "wcRuQrTcPQyA"
      },
      "execution_count": null,
      "outputs": []
    },
    {
      "cell_type": "markdown",
      "source": [
        "As we can see above, the model does not produce good text because it has not been trained yet\n",
        "\n",
        "How do we measure or capture what \"good text\" is, in a numeric form, to track it during training?\n",
        "\n",
        "The next subsection introduces metrics to calculate a loss metric for the generated outputs that we can use to measure the training progress\n",
        "\n",
        "The next chapters on finetuning LLMs will also introduce additional ways to measure model quality"
      ],
      "metadata": {
        "id": "cOvqEXNSPWoC"
      }
    },
    {
      "cell_type": "markdown",
      "source": [
        "# Calculating the text generation loss: cross-entropy and perplexity"
      ],
      "metadata": {
        "id": "dbKG9Ai6PZcg"
      }
    },
    {
      "cell_type": "markdown",
      "source": [
        "Suppose we have an inputs tensor containing the token IDs for 2 training examples (rows)\n",
        "\n",
        "Corresponding to the inputs, the targets contain the desired token IDs that we want the model to generate\n",
        "\n",
        "Notice that the targets are the inputs shifted by 1 position, as explained in chapter 2 when we implemented the data loader"
      ],
      "metadata": {
        "id": "Z6gKhl1UPdRe"
      }
    },
    {
      "cell_type": "code",
      "source": [
        "inputs = torch.tensor([[16833, 3626, 6100],   # [\"every effort moves\",\n",
        "                       [40,    1107, 588]])   #  \"I really like\"]\n",
        "\n",
        "targets = torch.tensor([[3626, 6100, 345  ],  # [\" effort moves you\",\n",
        "                        [1107,  588, 11311]]) #  \" really like chocolate\"]"
      ],
      "metadata": {
        "id": "PWXtF0RFPd8A"
      },
      "execution_count": null,
      "outputs": []
    },
    {
      "cell_type": "markdown",
      "source": [
        "Feeding the inputs to the model, we obtain the logits vector for the 2 input examples that consist of 3 tokens each\n",
        "\n",
        "Each of the tokens is a 50,257-dimensional vector corresponding to the size of the vocabulary\n",
        "\n",
        "Applying the softmax function, we can turn the logits tensor into a tensor of the same dimension containing probability scores"
      ],
      "metadata": {
        "id": "YroOwsJZPgcP"
      }
    },
    {
      "cell_type": "code",
      "source": [
        "with torch.no_grad():\n",
        "    logits = model(inputs)\n",
        "\n",
        "probas = torch.softmax(logits, dim=-1) # Probability of each token in vocabulary\n",
        "print(probas.shape) # Shape: (batch_size, num_tokens, vocab_size)"
      ],
      "metadata": {
        "id": "bCymeBxiPiim"
      },
      "execution_count": null,
      "outputs": []
    },
    {
      "cell_type": "markdown",
      "source": [
        "As discussed in the previous chapter, we can apply the argmax function to convert the probability scores into predicted token IDs.\n",
        "\n",
        "The softmax function above produced a 50,257-dimensional vector for each token; the argmax function returns the position of the highest probability score in this vector, which is the predicted token ID for the given token.\n",
        "\n",
        "Since we have 2 input batches with 3 tokens each, we obtain 2 by 3 predicted token IDs:"
      ],
      "metadata": {
        "id": "h_HqIrMXPnjR"
      }
    },
    {
      "cell_type": "code",
      "source": [
        "token_ids = torch.argmax(probas, dim=-1, keepdim=True)\n",
        "print(\"Token IDs:\\n\", token_ids)"
      ],
      "metadata": {
        "id": "WyhBTYpFPoU-"
      },
      "execution_count": null,
      "outputs": []
    },
    {
      "cell_type": "markdown",
      "source": [
        "If we decode these tokens, we find that these are quite different from the tokens we want the model to predict, namely the target tokens.\n",
        "\n",
        "That's because the model wasn't trained yet.\n",
        "\n",
        "To train the model, we need to know how far it is away from the correct predictions (targets)\n",
        "\n",
        "\n"
      ],
      "metadata": {
        "id": "ubBaq7ffP3Y_"
      }
    },
    {
      "cell_type": "code",
      "source": [
        "print(f\"Targets batch 1: {token_ids_to_text(targets[0], tokenizer)}\")\n",
        "print(f\"Outputs batch 1: {token_ids_to_text(token_ids[0].flatten(), tokenizer)}\")"
      ],
      "metadata": {
        "id": "Rhi9jDuvP4RO"
      },
      "execution_count": null,
      "outputs": []
    },
    {
      "cell_type": "markdown",
      "source": [
        "# Cross-entropy loss"
      ],
      "metadata": {
        "id": "4JWNSqFwP8Qk"
      }
    },
    {
      "cell_type": "markdown",
      "source": [
        "The token probabilities corresponding to the target indices are as follows:"
      ],
      "metadata": {
        "id": "diOiqBmLP9_6"
      }
    },
    {
      "cell_type": "code",
      "source": [
        "text_idx = 0\n",
        "target_probas_1 = probas[text_idx, [0, 1, 2], targets[text_idx]]\n",
        "print(\"Text 1:\", target_probas_1)\n",
        "\n",
        "text_idx = 1\n",
        "target_probas_2 = probas[text_idx, [0, 1, 2], targets[text_idx]]\n",
        "print(\"Text 2:\", target_probas_2)"
      ],
      "metadata": {
        "id": "tCJONwnQP_pG"
      },
      "execution_count": null,
      "outputs": []
    },
    {
      "cell_type": "markdown",
      "source": [
        "We want to maximize all these values, bringing them close to a probability of 1.\n",
        "\n",
        "In mathematical optimization, it is easier to maximize the logarithm of the probability score than the probability score itself."
      ],
      "metadata": {
        "id": "RytphGW0QDgA"
      }
    },
    {
      "cell_type": "code",
      "source": [
        "# Compute logarithm of all token probabilities\n",
        "log_probas = torch.log(torch.cat((target_probas_1, target_probas_2)))\n",
        "print(log_probas)"
      ],
      "metadata": {
        "id": "clylLdotQELH"
      },
      "execution_count": null,
      "outputs": []
    },
    {
      "cell_type": "markdown",
      "source": [
        "Next, we compute the average log probability:"
      ],
      "metadata": {
        "id": "wSQ9I04HQILh"
      }
    },
    {
      "cell_type": "code",
      "source": [
        "# Calculate the average probability for each token\n",
        "avg_log_probas = torch.mean(log_probas)\n",
        "print(avg_log_probas)"
      ],
      "metadata": {
        "id": "pFWKKsIrQIyz"
      },
      "execution_count": null,
      "outputs": []
    },
    {
      "cell_type": "markdown",
      "source": [
        "The goal is to make this average log probability as large as possible by optimizing the model weights.\n",
        "\n",
        "Due to the log, the largest possible value is 0, and we are currently far away from 0.\n",
        "\n",
        "In deep learning, instead of maximizing the average log-probability, it's a standard convention to minimize the negative average log-probability value; in our case, instead of maximizing -10.7722 so that it approaches 0, in deep learning, we would minimize 10.7722 so that it approaches 0.\n",
        "\n",
        "The value negative of -10.7722, i.e., 10.7722, is also called cross-entropy loss in deep learning."
      ],
      "metadata": {
        "id": "XUrjmPPYQWol"
      }
    },
    {
      "cell_type": "code",
      "source": [
        "neg_avg_log_probas = avg_log_probas * -1\n",
        "print(neg_avg_log_probas)"
      ],
      "metadata": {
        "id": "J8NtLIOSQXZN"
      },
      "execution_count": null,
      "outputs": []
    },
    {
      "cell_type": "markdown",
      "source": [
        "PyTorch already implements a cross_entropy function that carries out the previous steps\n",
        "\n",
        "Before we apply the cross_entropy function, let's check the shape of the logits and targets"
      ],
      "metadata": {
        "id": "7ByUdMMDQbBG"
      }
    },
    {
      "cell_type": "code",
      "source": [
        "# Logits have shape (batch_size, num_tokens, vocab_size)\n",
        "print(\"Logits shape:\", logits.shape)\n",
        "\n",
        "# Targets have shape (batch_size, num_tokens)\n",
        "print(\"Targets shape:\", targets.shape)"
      ],
      "metadata": {
        "id": "ZwkpQxPiQb5K"
      },
      "execution_count": null,
      "outputs": []
    },
    {
      "cell_type": "markdown",
      "source": [
        "For the cross_entropy function in PyTorch, we want to flatten these tensors by combining them over the batch dimension:"
      ],
      "metadata": {
        "id": "V31wiT6lQfr2"
      }
    },
    {
      "cell_type": "code",
      "source": [
        "logits_flat = logits.flatten(0, 1)\n",
        "targets_flat = targets.flatten()\n",
        "\n",
        "print(\"Flattened logits:\", logits_flat.shape)\n",
        "print(\"Flattened targets:\", targets_flat.shape)"
      ],
      "metadata": {
        "id": "3Wd0bHGGQgUl"
      },
      "execution_count": null,
      "outputs": []
    },
    {
      "cell_type": "markdown",
      "source": [
        "Note that the targets are the token IDs, which also represent the index positions in the logits tensors that we want to maximize.\n",
        "\n",
        "The cross_entropy function in PyTorch will automatically take care of applying the softmax and log-probability computation internally over those token indices in the logits that are to be maximized"
      ],
      "metadata": {
        "id": "SOSuvmVvQjgQ"
      }
    },
    {
      "cell_type": "code",
      "source": [
        "loss = torch.nn.functional.cross_entropy(logits_flat, targets_flat)\n",
        "print(loss)"
      ],
      "metadata": {
        "id": "vTHGRDEzQkRR"
      },
      "execution_count": null,
      "outputs": []
    },
    {
      "cell_type": "markdown",
      "source": [
        "# Perplexity\n",
        "A concept related to the cross-entropy loss is the perplexity of an LLM.\n",
        "\n",
        "The perplexity is simply the exponential of the cross-entropy loss."
      ],
      "metadata": {
        "id": "GkYzFfaDQmdy"
      }
    },
    {
      "cell_type": "code",
      "source": [
        "perplexity = torch.exp(loss)\n",
        "print(perplexity)"
      ],
      "metadata": {
        "id": "35GXSWjAQox-"
      },
      "execution_count": null,
      "outputs": []
    },
    {
      "cell_type": "markdown",
      "source": [
        "The perplexity is often considered more interpretable because it can be understood as the effective vocabulary size that the model is uncertain about at each step (in the example above, that'd be 48,725 words or tokens).\n",
        "\n",
        "In other words, perplexity provides a measure of how well the probability distribution predicted by the model matches the actual distribution of the words in the dataset.\n",
        "\n",
        "Similar to the loss, a lower perplexity indicates that the model predictions are closer to the actual distribution"
      ],
      "metadata": {
        "id": "0fWsj2M6QsFO"
      }
    },
    {
      "cell_type": "markdown",
      "source": [
        "# Calculating the training and validation set losses\n",
        "We use a relatively small dataset for training the LLM (in fact, only one short story)\n",
        "\n",
        "The reasons are:\n",
        "\n",
        "You can run the code examples in a few minutes on a laptop computer without a suitable GPU.\n",
        "\n",
        "The training finishes relatively fast (minutes instead of weeks), which is good for educational purposes.\n",
        "\n",
        "We use a text from the public domain, which can be included in this GitHub repository without violating any usage rights or bloating the repository size.\n",
        "\n",
        "For example, Llama 2 7B required 184,320 GPU hours on A100 GPUs to be trained on 2 trillion tokens\n",
        "\n",
        "At the time of this writing, the hourly cost of an 8xA100 cloud server at AWS is approximately 30 dollars.\n",
        "\n",
        "So, via an off-the-envelope calculation, training this LLM would cost 184,320 / 8 * 30 = 690,000 dollars\n",
        "\n",
        "Below, we use the same dataset we used in chapter 2."
      ],
      "metadata": {
        "id": "j9RidSjOQvzM"
      }
    },
    {
      "cell_type": "code",
      "source": [
        "import os\n",
        "import urllib.request\n",
        "\n",
        "file_path = \"the-verdict.txt\"\n",
        "url = \"https://raw.githubusercontent.com/rasbt/LLMs-from-scratch/main/ch02/01_main-chapter-code/the-verdict.txt\"\n",
        "\n",
        "if not os.path.exists(file_path):\n",
        "    with urllib.request.urlopen(url) as response:\n",
        "        text_data = response.read().decode('utf-8')\n",
        "    with open(file_path, \"w\", encoding=\"utf-8\") as file:\n",
        "        file.write(text_data)\n",
        "else:\n",
        "    with open(file_path, \"r\", encoding=\"utf-8\") as file:\n",
        "        text_data = file.read()"
      ],
      "metadata": {
        "id": "517GUqSxQw7S"
      },
      "execution_count": null,
      "outputs": []
    },
    {
      "cell_type": "markdown",
      "source": [
        "A quick check that the text loaded ok by printing the first and last 100 words"
      ],
      "metadata": {
        "id": "ImGH6UALQ9mS"
      }
    },
    {
      "cell_type": "code",
      "source": [
        "# First 100 characters\n",
        "print(text_data[:99])"
      ],
      "metadata": {
        "id": "XS4wk64HRAQe"
      },
      "execution_count": null,
      "outputs": []
    },
    {
      "cell_type": "code",
      "source": [
        "# Last 100 characters\n",
        "print(text_data[-99:])"
      ],
      "metadata": {
        "id": "yGpWda1FRCea"
      },
      "execution_count": null,
      "outputs": []
    },
    {
      "cell_type": "code",
      "source": [
        "total_characters = len(text_data)\n",
        "total_tokens = len(tokenizer.encode(text_data))\n",
        "\n",
        "print(\"Characters:\", total_characters)\n",
        "print(\"Tokens:\", total_tokens)"
      ],
      "metadata": {
        "id": "9bbIddIlRFE-"
      },
      "execution_count": null,
      "outputs": []
    },
    {
      "cell_type": "markdown",
      "source": [
        "With 5,145 tokens, the text is very short for training an LLM, but again, it's for educational purposes (we will also load pretrained weights later).\n",
        "\n",
        "Next, we divide the dataset into a training and a validation set and use the data loaders from chapter 2 to prepare the batches for LLM training.\n",
        "\n",
        "For visualization purposes, the figure below assumes a max_length=6, but for the training loader, we set the max_length equal to the context length that the LLM supports.\n",
        "\n",
        "Since we train the LLM to predict the next word in the text, the targets look the same as these inputs, except that the targets are shifted by one position"
      ],
      "metadata": {
        "id": "F2joirW2RH4D"
      }
    },
    {
      "cell_type": "code",
      "source": [
        "# Train/validation ratio\n",
        "train_ratio = 0.90\n",
        "split_idx = int(train_ratio * len(text_data))\n",
        "train_data = text_data[:split_idx]\n",
        "val_data = text_data[split_idx:]\n",
        "\n",
        "\n",
        "torch.manual_seed(123)\n",
        "\n",
        "train_loader = create_dataloader_v1(\n",
        "    train_data,\n",
        "    batch_size=2,\n",
        "    max_length=GPT_CONFIG_124M[\"context_length\"],\n",
        "    stride=GPT_CONFIG_124M[\"context_length\"],\n",
        "    drop_last=True,\n",
        "    shuffle=True,\n",
        "    num_workers=0\n",
        ")\n",
        "\n",
        "val_loader = create_dataloader_v1(\n",
        "    val_data,\n",
        "    batch_size=2,\n",
        "    max_length=GPT_CONFIG_124M[\"context_length\"],\n",
        "    stride=GPT_CONFIG_124M[\"context_length\"],\n",
        "    drop_last=False,\n",
        "    shuffle=False,\n",
        "    num_workers=0\n",
        ")"
      ],
      "metadata": {
        "id": "nfT6wPRBRMqh"
      },
      "execution_count": null,
      "outputs": []
    },
    {
      "cell_type": "code",
      "source": [
        "# Sanity check\n",
        "\n",
        "if total_tokens * (train_ratio) < GPT_CONFIG_124M[\"context_length\"]:\n",
        "    print(\"Not enough tokens for the training loader. \"\n",
        "          \"Try to lower the `GPT_CONFIG_124M['context_length']` or \"\n",
        "          \"increase the `training_ratio`\")\n",
        "\n",
        "if total_tokens * (1-train_ratio) < GPT_CONFIG_124M[\"context_length\"]:\n",
        "    print(\"Not enough tokens for the validation loader. \"\n",
        "          \"Try to lower the `GPT_CONFIG_124M['context_length']` or \"\n",
        "          \"decrease the `training_ratio`\")"
      ],
      "metadata": {
        "id": "Ljxj5e9BROiY"
      },
      "execution_count": null,
      "outputs": []
    },
    {
      "cell_type": "markdown",
      "source": [
        "We use a relatively small batch size to reduce the computational resource demand, and because the dataset is very small to begin with.\n",
        "\n",
        "Llama 2 7B was trained with a batch size of 1024, for example.\n",
        "\n",
        "An optional check that the data was loaded correctly:"
      ],
      "metadata": {
        "id": "twEGDS5HRSZN"
      }
    },
    {
      "cell_type": "code",
      "source": [
        "print(\"Train loader:\")\n",
        "for x, y in train_loader:\n",
        "    print(x.shape, y.shape)\n",
        "\n",
        "print(\"\\nValidation loader:\")\n",
        "for x, y in val_loader:\n",
        "    print(x.shape, y.shape)"
      ],
      "metadata": {
        "id": "xv5k9A9ARTZh"
      },
      "execution_count": null,
      "outputs": []
    },
    {
      "cell_type": "markdown",
      "source": [
        "An optional check that the data was loaded correctly:"
      ],
      "metadata": {
        "id": "Zwb2KEbcRWb3"
      }
    },
    {
      "cell_type": "code",
      "source": [
        "train_tokens = 0\n",
        "for input_batch, target_batch in train_loader:\n",
        "    train_tokens += input_batch.numel()\n",
        "\n",
        "val_tokens = 0\n",
        "for input_batch, target_batch in val_loader:\n",
        "    val_tokens += input_batch.numel()\n",
        "\n",
        "print(\"Training tokens:\", train_tokens)\n",
        "print(\"Validation tokens:\", val_tokens)\n",
        "print(\"All tokens:\", train_tokens + val_tokens)"
      ],
      "metadata": {
        "id": "RE6aS3exRYKh"
      },
      "execution_count": null,
      "outputs": []
    },
    {
      "cell_type": "markdown",
      "source": [
        "# Here is the GPT Model class we coded earlier. We will need this"
      ],
      "metadata": {
        "id": "4-vNQJUrSwbh"
      }
    },
    {
      "cell_type": "code",
      "source": [
        "class GPTModel(nn.Module):\n",
        "    def __init__(self, cfg):\n",
        "        super().__init__()\n",
        "        self.tok_emb = nn.Embedding(cfg[\"vocab_size\"], cfg[\"emb_dim\"])\n",
        "        self.pos_emb = nn.Embedding(cfg[\"context_length\"], cfg[\"emb_dim\"])\n",
        "        self.drop_emb = nn.Dropout(cfg[\"drop_rate\"])\n",
        "\n",
        "        self.trf_blocks = nn.Sequential(\n",
        "            *[TransformerBlock(cfg) for _ in range(cfg[\"n_layers\"])])\n",
        "\n",
        "        self.final_norm = LayerNorm(cfg[\"emb_dim\"])\n",
        "        self.out_head = nn.Linear(\n",
        "            cfg[\"emb_dim\"], cfg[\"vocab_size\"], bias=False\n",
        "        )\n",
        "\n",
        "    def forward(self, in_idx):\n",
        "        batch_size, seq_len = in_idx.shape\n",
        "        tok_embeds = self.tok_emb(in_idx)\n",
        "        pos_embeds = self.pos_emb(torch.arange(seq_len, device=in_idx.device))\n",
        "        x = tok_embeds + pos_embeds  # Shape [batch_size, num_tokens, emb_size]\n",
        "        x = self.drop_emb(x)\n",
        "        x = self.trf_blocks(x)\n",
        "        x = self.final_norm(x)\n",
        "        logits = self.out_head(x)\n",
        "        return logits\n",
        "\n",
        "torch.manual_seed(123)\n",
        "model = GPTModel(GPT_CONFIG_124M)\n",
        "model.eval();  # Disable dropout during inference"
      ],
      "metadata": {
        "id": "VZw3fjPzS0AM"
      },
      "execution_count": null,
      "outputs": []
    },
    {
      "cell_type": "markdown",
      "source": [
        "Next, we implement a utility function to calculate the cross-entropy loss of a given batch.\n",
        "\n",
        "In addition, we implement a second utility function to compute the loss for a user-specified number of batches in a data loader."
      ],
      "metadata": {
        "id": "pcjwolfIS6k5"
      }
    },
    {
      "cell_type": "code",
      "source": [
        "def calc_loss_batch(input_batch, target_batch, model, device):\n",
        "    input_batch, target_batch = input_batch.to(device), target_batch.to(device)\n",
        "    logits = model(input_batch)\n",
        "    loss = torch.nn.functional.cross_entropy(logits.flatten(0, 1), target_batch.flatten())\n",
        "    return loss\n",
        "\n",
        "\n",
        "def calc_loss_loader(data_loader, model, device, num_batches=None):\n",
        "    total_loss = 0.\n",
        "    if len(data_loader) == 0:\n",
        "        return float(\"nan\")\n",
        "    elif num_batches is None:\n",
        "        num_batches = len(data_loader)\n",
        "    else:\n",
        "        # Reduce the number of batches to match the total number of batches in the data loader\n",
        "        # if num_batches exceeds the number of batches in the data loader\n",
        "        num_batches = min(num_batches, len(data_loader))\n",
        "    for i, (input_batch, target_batch) in enumerate(data_loader):\n",
        "        if i < num_batches:\n",
        "            loss = calc_loss_batch(input_batch, target_batch, model, device)\n",
        "            total_loss += loss.item()\n",
        "        else:\n",
        "            break\n",
        "    return total_loss / num_batches"
      ],
      "metadata": {
        "id": "yOUBomVkRcQD"
      },
      "execution_count": null,
      "outputs": []
    },
    {
      "cell_type": "markdown",
      "source": [
        "If you have a machine with a CUDA-supported GPU, the LLM will train on the GPU without making any changes to the code.\n",
        "\n",
        "Via the device setting, we ensure that the data is loaded onto the same device as the LLM model."
      ],
      "metadata": {
        "id": "ltPy7gLoRhZO"
      }
    },
    {
      "cell_type": "code",
      "source": [
        "device = torch.device(\"cuda\" if torch.cuda.is_available() else \"cpu\")\n",
        "\n",
        "# Note:\n",
        "# Uncommenting the following lines will allow the code to run on Apple Silicon chips, if applicable,\n",
        "# which is approximately 2x faster than on an Apple CPU (as measured on an M3 MacBook Air).\n",
        "# However, the resulting loss values may be slightly different.\n",
        "\n",
        "#if torch.cuda.is_available():\n",
        "#    device = torch.device(\"cuda\")\n",
        "#elif torch.backends.mps.is_available():\n",
        "#    device = torch.device(\"mps\")\n",
        "#else:\n",
        "#    device = torch.device(\"cpu\")\n",
        "#\n",
        "# print(f\"Using {device} device.\")\n",
        "\n",
        "\n",
        "model.to(device) # no assignment model = model.to(device) necessary for nn.Module classes\n",
        "\n",
        "\n",
        "torch.manual_seed(123) # For reproducibility due to the shuffling in the data loader\n",
        "\n",
        "with torch.no_grad(): # Disable gradient tracking for efficiency because we are not training, yet\n",
        "    train_loss = calc_loss_loader(train_loader, model, device)\n",
        "    val_loss = calc_loss_loader(val_loader, model, device)\n",
        "\n",
        "print(\"Training loss:\", train_loss)\n",
        "print(\"Validation loss:\", val_loss)"
      ],
      "metadata": {
        "id": "WKQ7v29yRiDU"
      },
      "execution_count": null,
      "outputs": []
    },
    {
      "cell_type": "markdown",
      "source": [
        "# TRAINING LOOP FOR THE LLM"
      ],
      "metadata": {
        "id": "Y6EBrQ4TTiOJ"
      }
    },
    {
      "cell_type": "code",
      "source": [
        "def train_model_simple(model, train_loader, val_loader, optimizer, device, num_epochs,\n",
        "                       eval_freq, eval_iter, start_context, tokenizer):\n",
        "    # Initialize lists to track losses and tokens seen\n",
        "    train_losses, val_losses, track_tokens_seen = [], [], []\n",
        "    tokens_seen, global_step = 0, -1\n",
        "\n",
        "    # Main training loop\n",
        "    for epoch in range(num_epochs):\n",
        "        model.train()  # Set model to training mode\n",
        "\n",
        "        for input_batch, target_batch in train_loader:\n",
        "            optimizer.zero_grad() # Reset loss gradients from previous batch iteration\n",
        "            loss = calc_loss_batch(input_batch, target_batch, model, device)\n",
        "            loss.backward() # Calculate loss gradients\n",
        "            optimizer.step() # Update model weights using loss gradients\n",
        "            tokens_seen += input_batch.numel() # Returns the total number of elements (or tokens) in the input_batch.\n",
        "            global_step += 1\n",
        "\n",
        "            # Optional evaluation step\n",
        "            if global_step % eval_freq == 0:\n",
        "                train_loss, val_loss = evaluate_model(\n",
        "                    model, train_loader, val_loader, device, eval_iter)\n",
        "                train_losses.append(train_loss)\n",
        "                val_losses.append(val_loss)\n",
        "                track_tokens_seen.append(tokens_seen)\n",
        "                print(f\"Ep {epoch+1} (Step {global_step:06d}): \"\n",
        "                      f\"Train loss {train_loss:.3f}, Val loss {val_loss:.3f}\")\n",
        "\n",
        "        # Print a sample text after each epoch\n",
        "        generate_and_print_sample(\n",
        "            model, tokenizer, device, start_context\n",
        "        )\n",
        "\n",
        "    return train_losses, val_losses, track_tokens_seen"
      ],
      "metadata": {
        "id": "zgoWjzAITkcQ"
      },
      "execution_count": null,
      "outputs": []
    },
    {
      "cell_type": "markdown",
      "source": [
        "Step 1: Initialize lists to track losses and tokens seen\n",
        "\n",
        "Step 2: Start the main training loop\n",
        "\n",
        "Step 3: Reset loss gradients from previous batch iteration\n",
        "\n",
        "Step 4: Calculate loss gradients\n",
        "\n",
        "Step 5: Update model weights using loss gradients\n",
        "\n",
        "Step 6: Optional evaluation step\n",
        "\n",
        "Step 7: Print a sample text after each epoch"
      ],
      "metadata": {
        "id": "m_GglpVeTooo"
      }
    },
    {
      "cell_type": "code",
      "source": [
        "def evaluate_model(model, train_loader, val_loader, device, eval_iter):\n",
        "    model.eval()\n",
        "    with torch.no_grad():\n",
        "        train_loss = calc_loss_loader(train_loader, model, device, num_batches=eval_iter)\n",
        "        val_loss = calc_loss_loader(val_loader, model, device, num_batches=eval_iter)\n",
        "    model.train()\n",
        "    return train_loss, val_loss"
      ],
      "metadata": {
        "id": "uleBzQP6Tqku"
      },
      "execution_count": null,
      "outputs": []
    },
    {
      "cell_type": "markdown",
      "source": [
        "The evaluate_model function calculates the loss over the training and validation set while ensuring the model is in evaluation mode with gradient tracking and dropout disabled when calculating the loss over the training and validation sets"
      ],
      "metadata": {
        "id": "dyH9hCG6TtaJ"
      }
    },
    {
      "cell_type": "code",
      "source": [
        "def generate_and_print_sample(model, tokenizer, device, start_context):\n",
        "    model.eval()\n",
        "    context_size = model.pos_emb.weight.shape[0]\n",
        "    encoded = text_to_token_ids(start_context, tokenizer).to(device)\n",
        "    with torch.no_grad():\n",
        "        token_ids = generate_text_simple(\n",
        "            model=model, idx=encoded,\n",
        "            max_new_tokens=50, context_size=context_size\n",
        "        )\n",
        "    decoded_text = token_ids_to_text(token_ids, tokenizer)\n",
        "    print(decoded_text.replace(\"\\n\", \" \"))  # Compact print format\n",
        "    model.train()"
      ],
      "metadata": {
        "id": "8Hp9a3ZsTvcC"
      },
      "execution_count": null,
      "outputs": []
    },
    {
      "cell_type": "markdown",
      "source": [
        "The generate_and_print_sample function is a convenience function that we use to track whether the model improves during the training.\n",
        "\n",
        "In particular, the generate_and_print_sample function takes a text snippet (start_context) as input, converts it into token IDs, and feeds it to the LLM to generate a text sample using the generate_text_simple function we used earlier\n",
        "\n",
        "Let's see this all in action by training a GPTModel instance for 10 epochs using an AdamW optimizer and the train_model_simple function we defined earlier."
      ],
      "metadata": {
        "id": "KcyeACxcT0p7"
      }
    },
    {
      "cell_type": "code",
      "source": [
        "# Note:\n",
        "# Uncomment the following code to calculate the execution time\n",
        "import time\n",
        "start_time = time.time()\n",
        "\n",
        "torch.manual_seed(123)\n",
        "model = GPTModel(GPT_CONFIG_124M)\n",
        "model.to(device)\n",
        "optimizer = torch.optim.AdamW(model.parameters(), lr=0.0004, weight_decay=0.1)\n",
        "\n",
        "num_epochs = 10\n",
        "train_losses, val_losses, tokens_seen = train_model_simple(\n",
        "    model, train_loader, val_loader, optimizer, device,\n",
        "    num_epochs=num_epochs, eval_freq=5, eval_iter=5,\n",
        "    start_context=\"Every effort moves you\", tokenizer=tokenizer\n",
        ")\n",
        "\n",
        "# Note:\n",
        "# Uncomment the following code to show the execution time\n",
        "end_time = time.time()\n",
        "execution_time_minutes = (end_time - start_time) / 60\n",
        "print(f\"Training completed in {execution_time_minutes:.2f} minutes.\")"
      ],
      "metadata": {
        "colab": {
          "base_uri": "https://localhost:8080/"
        },
        "id": "6_jx8SPJT1Y2",
        "outputId": "919f6f74-0a02-4fde-a310-30cc78590f9a"
      },
      "execution_count": 161,
      "outputs": [
        {
          "output_type": "stream",
          "name": "stdout",
          "text": [
            "Ep 1 (Step 000000): Train loss 9.783, Val loss 9.927\n",
            "Ep 1 (Step 000005): Train loss 7.985, Val loss 8.335\n",
            "Every effort moves you,,,,,,,,,,,,.                                     \n",
            "Ep 2 (Step 000010): Train loss 6.753, Val loss 7.048\n",
            "Ep 2 (Step 000015): Train loss 6.114, Val loss 6.573\n",
            "Every effort moves you, and,, and, and,,,,, and, and,,,,,,,,,,,,,, and,,,, and,, and,,,,, and,,,,,,\n",
            "Ep 3 (Step 000020): Train loss 5.525, Val loss 6.490\n",
            "Ep 3 (Step 000025): Train loss 5.324, Val loss 6.387\n",
            "Every effort moves you, and to the picture.                      \"I, and the of the of the's the honour, and, and I had been, and I\n",
            "Ep 4 (Step 000030): Train loss 4.761, Val loss 6.360\n",
            "Ep 4 (Step 000035): Train loss 4.461, Val loss 6.258\n",
            "Every effort moves you of the to the picture--as of the picture--as I had been \" it was his \" I was the     \"I was his I had been the his pictures--and it the picture and I had been the picture of\n",
            "Ep 5 (Step 000040): Train loss 3.833, Val loss 6.196\n",
            "Every effort moves you know the \"Oh, and he was not the fact by his last word.         \"I was.      \"Oh, I felt a little a little the    \n",
            "Ep 6 (Step 000045): Train loss 3.352, Val loss 6.139\n",
            "Ep 6 (Step 000050): Train loss 2.861, Val loss 6.112\n",
            "Every effort moves you know; and my dear, and he was not the fact with a little of the house of the fact of the fact, and.                       \n",
            "Ep 7 (Step 000055): Train loss 2.347, Val loss 6.138\n",
            "Ep 7 (Step 000060): Train loss 2.084, Val loss 6.179\n",
            "Every effort moves you know,\" was one of the picture for nothing--I told Mrs.  \"I looked--as of the fact, and I felt him--his back his head to the donkey. \"Oh, and_--because he had always _\n",
            "Ep 8 (Step 000065): Train loss 1.521, Val loss 6.176\n",
            "Ep 8 (Step 000070): Train loss 1.272, Val loss 6.178\n",
            "Every effort moves you?\" \"I didn't bear the picture--I told me.  \"I looked up, and went on groping and Mrs. I was back the head to look up at the honour being _mine_--because he was when I\n",
            "Ep 9 (Step 000075): Train loss 1.000, Val loss 6.277\n",
            "Ep 9 (Step 000080): Train loss 0.718, Val loss 6.281\n",
            "Every effort moves you?\"  \"Yes--quite insensible to the irony. She wanted him vindicated--and by me!\"  He laughed again, and threw back his head to look up at the sketch of the donkey. \"There were days when I\n",
            "Ep 10 (Step 000085): Train loss 0.506, Val loss 6.325\n",
            "Every effort moves you?\"  \"Yes--quite insensible to the irony. She wanted him vindicated--and by me!\"  He laughed again, and threw back his head to the donkey again. I saw that, and down the room, when I\n",
            "Training completed in 21.07 minutes.\n"
          ]
        }
      ]
    },
    {
      "cell_type": "markdown",
      "source": [
        "As we can see, based on the results printed during the training, the training loss improves drastically, starting with a value of 9.781 and converging to 0.391.\n",
        "\n",
        "The language skills of the model have improved quite a lot. In the beginning, the model is only able to append commas to the start context (\"Every effort moves you,,,,,,,,,,,,\") or repeat the word \"and\".\n",
        "\n",
        "At the end of the training, it can generate grammatically correct text.\n",
        "\n",
        "Similar to the training set loss, we can see that the validation loss starts high (9.856) and decreases during the training.\n",
        "\n",
        "However, it never becomes as small as the training set loss and remains at 6.372 after the 10th epoch.\n",
        "\n",
        "Let's create a simple plot that shows the training and validation set losses side by side"
      ],
      "metadata": {
        "id": "H3rcE3P7WyRc"
      }
    },
    {
      "cell_type": "code",
      "source": [
        "import matplotlib.pyplot as plt\n",
        "from matplotlib.ticker import MaxNLocator\n",
        "\n",
        "\n",
        "def plot_losses(epochs_seen, tokens_seen, train_losses, val_losses):\n",
        "    fig, ax1 = plt.subplots(figsize=(5, 3))\n",
        "\n",
        "    # Plot training and validation loss against epochs\n",
        "    ax1.plot(epochs_seen, train_losses, label=\"Training loss\")\n",
        "    ax1.plot(epochs_seen, val_losses, linestyle=\"-.\", label=\"Validation loss\")\n",
        "    ax1.set_xlabel(\"Epochs\")\n",
        "    ax1.set_ylabel(\"Loss\")\n",
        "    ax1.legend(loc=\"upper right\")\n",
        "    ax1.xaxis.set_major_locator(MaxNLocator(integer=True))  # only show integer labels on x-axis\n",
        "\n",
        "    # Create a second x-axis for tokens seen\n",
        "    ax2 = ax1.twiny()  # Create a second x-axis that shares the same y-axis\n",
        "    ax2.plot(tokens_seen, train_losses, alpha=0)  # Invisible plot for aligning ticks\n",
        "    ax2.set_xlabel(\"Tokens seen\")\n",
        "\n",
        "    fig.tight_layout()  # Adjust layout to make room\n",
        "    plt.savefig(\"loss-plot.pdf\")\n",
        "    plt.show()\n",
        "\n",
        "epochs_tensor = torch.linspace(0, num_epochs, len(train_losses))\n",
        "plot_losses(epochs_tensor, tokens_seen, train_losses, val_losses)"
      ],
      "metadata": {
        "colab": {
          "base_uri": "https://localhost:8080/",
          "height": 307
        },
        "id": "7aXaMEhxT-vV",
        "outputId": "e62b8a5e-9aa2-457e-8c84-45a308567d6c"
      },
      "execution_count": 162,
      "outputs": [
        {
          "output_type": "display_data",
          "data": {
            "text/plain": [
              "<Figure size 500x300 with 2 Axes>"
            ],
            "image/png": "[encoded data removed]"
          },
          "metadata": {}
        }
      ]
    },
    {
      "cell_type": "markdown",
      "source": [
        "Both the training and validation losses start to improve for the first epoch. However, the losses start to diverge past the second epoch.\n",
        "\n",
        "This divergence and the fact that the validation loss is much larger than the training loss indicate that the model is overfitting to the training data.\n",
        "\n",
        "We can confirm that the model memorizes the training data verbatim by searching for the generated text snippets, such as \"quite insensible to the irony\" in the \"The Verdict\" text file.\n",
        "\n",
        "This memorization is expected since we are working with a very, very small training dataset and training the model for multiple epochs.\n",
        "\n",
        "Usually, it's common to train a model on a much, much larger dataset for only one epoch."
      ],
      "metadata": {
        "id": "WpNj_ECpUGV9"
      }
    },
    {
      "cell_type": "markdown",
      "source": [
        "# DECODING STRATEGIES TO CONTROL RANDOMNESS"
      ],
      "metadata": {
        "id": "2Ckj8gLQUIyG"
      }
    },
    {
      "cell_type": "markdown",
      "source": [
        "First, we briefly revisit the generate_text_simple function from the previous chapter that we used inside the generate_and_print_sample earlier in this chapter.\n",
        "\n",
        "Then, we will cover two techniques, temperature scaling, and top-k sampling, to improve this function.\n",
        "\n",
        "We begin by transferring the model back from the GPU to the CPU since inference with a relatively small model does not require a GPU. Also, after training, we put the model into evaluation model to turn off random components such as dropout:"
      ],
      "metadata": {
        "id": "VGWjf5wWULts"
      }
    },
    {
      "cell_type": "code",
      "source": [
        "model.to(\"cpu\")\n",
        "model.eval()"
      ],
      "metadata": {
        "colab": {
          "base_uri": "https://localhost:8080/"
        },
        "id": "ExCCrjgqUMSs",
        "outputId": "ba4aa04f-5c30-418e-b7d8-b28a08d5f4eb"
      },
      "execution_count": 163,
      "outputs": [
        {
          "output_type": "execute_result",
          "data": {
            "text/plain": [
              "GPTModel(\n",
              "  (tok_emb): Embedding(50257, 768)\n",
              "  (pos_emb): Embedding(256, 768)\n",
              "  (drop_emb): Dropout(p=0.1, inplace=False)\n",
              "  (trf_blocks): Sequential(\n",
              "    (0): TransformerBlock(\n",
              "      (att): MultiHeadAttention(\n",
              "        (W_query): Linear(in_features=768, out_features=768, bias=False)\n",
              "        (W_key): Linear(in_features=768, out_features=768, bias=False)\n",
              "        (W_value): Linear(in_features=768, out_features=768, bias=False)\n",
              "        (out_proj): Linear(in_features=768, out_features=768, bias=True)\n",
              "        (dropout): Dropout(p=0.1, inplace=False)\n",
              "      )\n",
              "      (ff): FeedForward(\n",
              "        (layers): Sequential(\n",
              "          (0): Linear(in_features=768, out_features=3072, bias=True)\n",
              "          (1): GELU()\n",
              "          (2): Linear(in_features=3072, out_features=768, bias=True)\n",
              "        )\n",
              "      )\n",
              "      (norm1): LayerNorm()\n",
              "      (norm2): LayerNorm()\n",
              "      (drop_shortcut): Dropout(p=0.1, inplace=False)\n",
              "    )\n",
              "    (1): TransformerBlock(\n",
              "      (att): MultiHeadAttention(\n",
              "        (W_query): Linear(in_features=768, out_features=768, bias=False)\n",
              "        (W_key): Linear(in_features=768, out_features=768, bias=False)\n",
              "        (W_value): Linear(in_features=768, out_features=768, bias=False)\n",
              "        (out_proj): Linear(in_features=768, out_features=768, bias=True)\n",
              "        (dropout): Dropout(p=0.1, inplace=False)\n",
              "      )\n",
              "      (ff): FeedForward(\n",
              "        (layers): Sequential(\n",
              "          (0): Linear(in_features=768, out_features=3072, bias=True)\n",
              "          (1): GELU()\n",
              "          (2): Linear(in_features=3072, out_features=768, bias=True)\n",
              "        )\n",
              "      )\n",
              "      (norm1): LayerNorm()\n",
              "      (norm2): LayerNorm()\n",
              "      (drop_shortcut): Dropout(p=0.1, inplace=False)\n",
              "    )\n",
              "    (2): TransformerBlock(\n",
              "      (att): MultiHeadAttention(\n",
              "        (W_query): Linear(in_features=768, out_features=768, bias=False)\n",
              "        (W_key): Linear(in_features=768, out_features=768, bias=False)\n",
              "        (W_value): Linear(in_features=768, out_features=768, bias=False)\n",
              "        (out_proj): Linear(in_features=768, out_features=768, bias=True)\n",
              "        (dropout): Dropout(p=0.1, inplace=False)\n",
              "      )\n",
              "      (ff): FeedForward(\n",
              "        (layers): Sequential(\n",
              "          (0): Linear(in_features=768, out_features=3072, bias=True)\n",
              "          (1): GELU()\n",
              "          (2): Linear(in_features=3072, out_features=768, bias=True)\n",
              "        )\n",
              "      )\n",
              "      (norm1): LayerNorm()\n",
              "      (norm2): LayerNorm()\n",
              "      (drop_shortcut): Dropout(p=0.1, inplace=False)\n",
              "    )\n",
              "    (3): TransformerBlock(\n",
              "      (att): MultiHeadAttention(\n",
              "        (W_query): Linear(in_features=768, out_features=768, bias=False)\n",
              "        (W_key): Linear(in_features=768, out_features=768, bias=False)\n",
              "        (W_value): Linear(in_features=768, out_features=768, bias=False)\n",
              "        (out_proj): Linear(in_features=768, out_features=768, bias=True)\n",
              "        (dropout): Dropout(p=0.1, inplace=False)\n",
              "      )\n",
              "      (ff): FeedForward(\n",
              "        (layers): Sequential(\n",
              "          (0): Linear(in_features=768, out_features=3072, bias=True)\n",
              "          (1): GELU()\n",
              "          (2): Linear(in_features=3072, out_features=768, bias=True)\n",
              "        )\n",
              "      )\n",
              "      (norm1): LayerNorm()\n",
              "      (norm2): LayerNorm()\n",
              "      (drop_shortcut): Dropout(p=0.1, inplace=False)\n",
              "    )\n",
              "    (4): TransformerBlock(\n",
              "      (att): MultiHeadAttention(\n",
              "        (W_query): Linear(in_features=768, out_features=768, bias=False)\n",
              "        (W_key): Linear(in_features=768, out_features=768, bias=False)\n",
              "        (W_value): Linear(in_features=768, out_features=768, bias=False)\n",
              "        (out_proj): Linear(in_features=768, out_features=768, bias=True)\n",
              "        (dropout): Dropout(p=0.1, inplace=False)\n",
              "      )\n",
              "      (ff): FeedForward(\n",
              "        (layers): Sequential(\n",
              "          (0): Linear(in_features=768, out_features=3072, bias=True)\n",
              "          (1): GELU()\n",
              "          (2): Linear(in_features=3072, out_features=768, bias=True)\n",
              "        )\n",
              "      )\n",
              "      (norm1): LayerNorm()\n",
              "      (norm2): LayerNorm()\n",
              "      (drop_shortcut): Dropout(p=0.1, inplace=False)\n",
              "    )\n",
              "    (5): TransformerBlock(\n",
              "      (att): MultiHeadAttention(\n",
              "        (W_query): Linear(in_features=768, out_features=768, bias=False)\n",
              "        (W_key): Linear(in_features=768, out_features=768, bias=False)\n",
              "        (W_value): Linear(in_features=768, out_features=768, bias=False)\n",
              "        (out_proj): Linear(in_features=768, out_features=768, bias=True)\n",
              "        (dropout): Dropout(p=0.1, inplace=False)\n",
              "      )\n",
              "      (ff): FeedForward(\n",
              "        (layers): Sequential(\n",
              "          (0): Linear(in_features=768, out_features=3072, bias=True)\n",
              "          (1): GELU()\n",
              "          (2): Linear(in_features=3072, out_features=768, bias=True)\n",
              "        )\n",
              "      )\n",
              "      (norm1): LayerNorm()\n",
              "      (norm2): LayerNorm()\n",
              "      (drop_shortcut): Dropout(p=0.1, inplace=False)\n",
              "    )\n",
              "    (6): TransformerBlock(\n",
              "      (att): MultiHeadAttention(\n",
              "        (W_query): Linear(in_features=768, out_features=768, bias=False)\n",
              "        (W_key): Linear(in_features=768, out_features=768, bias=False)\n",
              "        (W_value): Linear(in_features=768, out_features=768, bias=False)\n",
              "        (out_proj): Linear(in_features=768, out_features=768, bias=True)\n",
              "        (dropout): Dropout(p=0.1, inplace=False)\n",
              "      )\n",
              "      (ff): FeedForward(\n",
              "        (layers): Sequential(\n",
              "          (0): Linear(in_features=768, out_features=3072, bias=True)\n",
              "          (1): GELU()\n",
              "          (2): Linear(in_features=3072, out_features=768, bias=True)\n",
              "        )\n",
              "      )\n",
              "      (norm1): LayerNorm()\n",
              "      (norm2): LayerNorm()\n",
              "      (drop_shortcut): Dropout(p=0.1, inplace=False)\n",
              "    )\n",
              "    (7): TransformerBlock(\n",
              "      (att): MultiHeadAttention(\n",
              "        (W_query): Linear(in_features=768, out_features=768, bias=False)\n",
              "        (W_key): Linear(in_features=768, out_features=768, bias=False)\n",
              "        (W_value): Linear(in_features=768, out_features=768, bias=False)\n",
              "        (out_proj): Linear(in_features=768, out_features=768, bias=True)\n",
              "        (dropout): Dropout(p=0.1, inplace=False)\n",
              "      )\n",
              "      (ff): FeedForward(\n",
              "        (layers): Sequential(\n",
              "          (0): Linear(in_features=768, out_features=3072, bias=True)\n",
              "          (1): GELU()\n",
              "          (2): Linear(in_features=3072, out_features=768, bias=True)\n",
              "        )\n",
              "      )\n",
              "      (norm1): LayerNorm()\n",
              "      (norm2): LayerNorm()\n",
              "      (drop_shortcut): Dropout(p=0.1, inplace=False)\n",
              "    )\n",
              "    (8): TransformerBlock(\n",
              "      (att): MultiHeadAttention(\n",
              "        (W_query): Linear(in_features=768, out_features=768, bias=False)\n",
              "        (W_key): Linear(in_features=768, out_features=768, bias=False)\n",
              "        (W_value): Linear(in_features=768, out_features=768, bias=False)\n",
              "        (out_proj): Linear(in_features=768, out_features=768, bias=True)\n",
              "        (dropout): Dropout(p=0.1, inplace=False)\n",
              "      )\n",
              "      (ff): FeedForward(\n",
              "        (layers): Sequential(\n",
              "          (0): Linear(in_features=768, out_features=3072, bias=True)\n",
              "          (1): GELU()\n",
              "          (2): Linear(in_features=3072, out_features=768, bias=True)\n",
              "        )\n",
              "      )\n",
              "      (norm1): LayerNorm()\n",
              "      (norm2): LayerNorm()\n",
              "      (drop_shortcut): Dropout(p=0.1, inplace=False)\n",
              "    )\n",
              "    (9): TransformerBlock(\n",
              "      (att): MultiHeadAttention(\n",
              "        (W_query): Linear(in_features=768, out_features=768, bias=False)\n",
              "        (W_key): Linear(in_features=768, out_features=768, bias=False)\n",
              "        (W_value): Linear(in_features=768, out_features=768, bias=False)\n",
              "        (out_proj): Linear(in_features=768, out_features=768, bias=True)\n",
              "        (dropout): Dropout(p=0.1, inplace=False)\n",
              "      )\n",
              "      (ff): FeedForward(\n",
              "        (layers): Sequential(\n",
              "          (0): Linear(in_features=768, out_features=3072, bias=True)\n",
              "          (1): GELU()\n",
              "          (2): Linear(in_features=3072, out_features=768, bias=True)\n",
              "        )\n",
              "      )\n",
              "      (norm1): LayerNorm()\n",
              "      (norm2): LayerNorm()\n",
              "      (drop_shortcut): Dropout(p=0.1, inplace=False)\n",
              "    )\n",
              "    (10): TransformerBlock(\n",
              "      (att): MultiHeadAttention(\n",
              "        (W_query): Linear(in_features=768, out_features=768, bias=False)\n",
              "        (W_key): Linear(in_features=768, out_features=768, bias=False)\n",
              "        (W_value): Linear(in_features=768, out_features=768, bias=False)\n",
              "        (out_proj): Linear(in_features=768, out_features=768, bias=True)\n",
              "        (dropout): Dropout(p=0.1, inplace=False)\n",
              "      )\n",
              "      (ff): FeedForward(\n",
              "        (layers): Sequential(\n",
              "          (0): Linear(in_features=768, out_features=3072, bias=True)\n",
              "          (1): GELU()\n",
              "          (2): Linear(in_features=3072, out_features=768, bias=True)\n",
              "        )\n",
              "      )\n",
              "      (norm1): LayerNorm()\n",
              "      (norm2): LayerNorm()\n",
              "      (drop_shortcut): Dropout(p=0.1, inplace=False)\n",
              "    )\n",
              "    (11): TransformerBlock(\n",
              "      (att): MultiHeadAttention(\n",
              "        (W_query): Linear(in_features=768, out_features=768, bias=False)\n",
              "        (W_key): Linear(in_features=768, out_features=768, bias=False)\n",
              "        (W_value): Linear(in_features=768, out_features=768, bias=False)\n",
              "        (out_proj): Linear(in_features=768, out_features=768, bias=True)\n",
              "        (dropout): Dropout(p=0.1, inplace=False)\n",
              "      )\n",
              "      (ff): FeedForward(\n",
              "        (layers): Sequential(\n",
              "          (0): Linear(in_features=768, out_features=3072, bias=True)\n",
              "          (1): GELU()\n",
              "          (2): Linear(in_features=3072, out_features=768, bias=True)\n",
              "        )\n",
              "      )\n",
              "      (norm1): LayerNorm()\n",
              "      (norm2): LayerNorm()\n",
              "      (drop_shortcut): Dropout(p=0.1, inplace=False)\n",
              "    )\n",
              "  )\n",
              "  (final_norm): LayerNorm()\n",
              "  (out_head): Linear(in_features=768, out_features=50257, bias=False)\n",
              ")"
            ]
          },
          "metadata": {},
          "execution_count": 163
        }
      ]
    },
    {
      "cell_type": "markdown",
      "source": [
        "Next, we plug the GPTModel instance (model) into the generate_text_simple function, which uses the LLM to generate one token at a time:"
      ],
      "metadata": {
        "id": "zjWk303_UQ5c"
      }
    },
    {
      "cell_type": "code",
      "source": [
        "tokenizer = tiktoken.get_encoding(\"gpt2\")\n",
        "\n",
        "token_ids = generate_text_simple(\n",
        "    model=model,\n",
        "    idx=text_to_token_ids(\"Every effort moves you\", tokenizer),\n",
        "    max_new_tokens=25,\n",
        "    context_size=GPT_CONFIG_124M[\"context_length\"]\n",
        ")\n",
        "\n",
        "print(\"Output text:\\n\", token_ids_to_text(token_ids, tokenizer))"
      ],
      "metadata": {
        "colab": {
          "base_uri": "https://localhost:8080/"
        },
        "id": "UcN3C10tURsm",
        "outputId": "04ab1482-63dd-4700-83cf-d0c8d3160f0c"
      },
      "execution_count": 164,
      "outputs": [
        {
          "output_type": "stream",
          "name": "stdout",
          "text": [
            "Output text:\n",
            " Every effort moves you?\"\n",
            "\n",
            "\"Yes--quite insensible to the irony. She wanted him vindicated--and by me!\"\n",
            "\n",
            "\n"
          ]
        }
      ]
    },
    {
      "cell_type": "markdown",
      "source": [
        "# DECODING STRATEGY 1: TEMPERATURE SCALING"
      ],
      "metadata": {
        "id": "fiORZmxrUcYN"
      }
    },
    {
      "cell_type": "markdown",
      "source": [
        "Previously, inside the generate_text_simple function, we always sampled the token with the highest probability as the next token using torch.argmax, also known as greedy decoding.\n",
        "\n",
        "To generate text with more variety, we can replace the argmax with a function that samples from a probability distribution (here, the probability scores the LLM generates for each vocabulary entry at each token generation step).\n",
        "\n",
        "To illustrate the probabilistic sampling with a concrete example, let's briefly discuss the next-token generation process using a very small vocabulary for illustration purposes:"
      ],
      "metadata": {
        "id": "KZ-nZspIUfyZ"
      }
    },
    {
      "cell_type": "code",
      "source": [
        "vocab = {\n",
        "    \"closer\": 0,\n",
        "    \"every\": 1,\n",
        "    \"effort\": 2,\n",
        "    \"forward\": 3,\n",
        "    \"inches\": 4,\n",
        "    \"moves\": 5,\n",
        "    \"pizza\": 6,\n",
        "    \"toward\": 7,\n",
        "    \"you\": 8,\n",
        "}\n",
        "\n",
        "inverse_vocab = {v: k for k, v in vocab.items()}"
      ],
      "metadata": {
        "id": "j2xOawavUiSk"
      },
      "execution_count": 165,
      "outputs": []
    },
    {
      "cell_type": "markdown",
      "source": [
        "Next, assume the LLM is given the start context \"every effort moves you\" and generates the following next-token logits:"
      ],
      "metadata": {
        "id": "_h2t8HzwUl5c"
      }
    },
    {
      "cell_type": "code",
      "source": [
        "next_token_logits = torch.tensor(\n",
        "[4.51, 0.89, -1.90, 6.75, 1.63, -1.62, -1.89, 6.28, 1.79]\n",
        ")\n",
        "\n",
        "next_token_logits2 = next_token_logits/0.1\n",
        "\n",
        "next_token_logits3 = next_token_logits/5"
      ],
      "metadata": {
        "id": "O03Z2wUxYKSw"
      },
      "execution_count": 166,
      "outputs": []
    },
    {
      "cell_type": "markdown",
      "source": [
        "As discussed in the previous chapter, inside the generate_text_simple, we convert the logits into probabilities via the softmax function and obtain the token ID corresponding the generated token via the argmax function, which we can then map back into text via the inverse vocabulary:"
      ],
      "metadata": {
        "id": "J_dduqgHUr-U"
      }
    },
    {
      "cell_type": "code",
      "source": [
        "probas = torch.softmax(next_token_logits2, dim=0)\n",
        "\n",
        "print(probas)"
      ],
      "metadata": {
        "colab": {
          "base_uri": "https://localhost:8080/"
        },
        "id": "aqNKKTDLYRYr",
        "outputId": "d1a4c5dd-7d0f-4ef6-f7bc-05a0ae8d73a3"
      },
      "execution_count": 167,
      "outputs": [
        {
          "output_type": "stream",
          "name": "stdout",
          "text": [
            "tensor([    0.0000,     0.0000,     0.0000,     0.9910,     0.0000,     0.0000,\n",
            "            0.0000,     0.0090,     0.0000])\n"
          ]
        }
      ]
    },
    {
      "cell_type": "code",
      "source": [
        "probas = torch.softmax(next_token_logits3, dim=0)\n",
        "\n",
        "print(probas)"
      ],
      "metadata": {
        "colab": {
          "base_uri": "https://localhost:8080/"
        },
        "id": "yJnhdYDHYVIu",
        "outputId": "ae19aff0-5aa1-4035-a111-8fde6aca857f"
      },
      "execution_count": 168,
      "outputs": [
        {
          "output_type": "stream",
          "name": "stdout",
          "text": [
            "tensor([0.1546, 0.0750, 0.0429, 0.2421, 0.0869, 0.0454, 0.0430, 0.2203, 0.0898])\n"
          ]
        }
      ]
    },
    {
      "cell_type": "code",
      "source": [
        "probas = torch.softmax(next_token_logits, dim=0)\n",
        "\n",
        "print(probas)\n",
        "\n",
        "next_token_id = torch.argmax(probas).item()\n",
        "\n",
        "print(next_token_id)\n",
        "\n",
        "print(inverse_vocab[next_token_id])"
      ],
      "metadata": {
        "colab": {
          "base_uri": "https://localhost:8080/"
        },
        "id": "aaNtpWn8YXGI",
        "outputId": "bd8df6ae-31a6-4340-cac8-b4e2d514685c"
      },
      "execution_count": 169,
      "outputs": [
        {
          "metadata": {
            "tags": null
          },
          "name": "stdout",
          "output_type": "stream",
          "text": [
            "tensor([    0.0609,     0.0016,     0.0001,     0.5721,     0.0034,     0.0001,\n",
            "            0.0001,     0.3576,     0.0040])\n",
            "3\n",
            "forward\n"
          ]
        }
      ]
    },
    {
      "cell_type": "markdown",
      "source": [
        "To implement a probabilistic sampling process, we can now replace the argmax with the multinomial function in PyTorch:"
      ],
      "metadata": {
        "id": "fWEfc4W-UvJe"
      }
    },
    {
      "cell_type": "code",
      "source": [
        "torch.manual_seed(123)\n",
        "next_token_id = torch.multinomial(probas, num_samples=1).item()\n",
        "print(inverse_vocab[next_token_id])"
      ],
      "metadata": {
        "colab": {
          "base_uri": "https://localhost:8080/"
        },
        "id": "0nCTa76EUxEn",
        "outputId": "50553ff1-b6e7-4660-f7b9-53d39d61af86"
      },
      "execution_count": 170,
      "outputs": [
        {
          "metadata": {
            "tags": null
          },
          "name": "stdout",
          "output_type": "stream",
          "text": [
            "toward\n"
          ]
        }
      ]
    },
    {
      "cell_type": "markdown",
      "source": [
        "The printed output is \"forward\" just like before. What happened? The multinomial function samples the next token proportional to its probability score.\n",
        "\n",
        "In other words, \"forward\" is still the most likely token and will be selected by multinomial most of the time but not all the time.\n",
        "\n",
        "To illustrate this, let's implement a function that repeats this sampling 1000 times:"
      ],
      "metadata": {
        "id": "z03PHc5FVBt6"
      }
    },
    {
      "cell_type": "code",
      "source": [
        "def print_sampled_tokens(probas):\n",
        "    torch.manual_seed(123) # Manual seed for reproducibility\n",
        "    sample = [torch.multinomial(probas, num_samples=1).item() for i in range(1_000)]\n",
        "    sampled_ids = torch.bincount(torch.tensor(sample))\n",
        "    for i, freq in enumerate(sampled_ids):\n",
        "        print(f\"{freq} x {inverse_vocab[i]}\")\n",
        "\n",
        "print_sampled_tokens(probas)"
      ],
      "metadata": {
        "colab": {
          "base_uri": "https://localhost:8080/"
        },
        "id": "BkDDCucTVDlH",
        "outputId": "946da670-47a8-438a-aa1f-f25bca0f61a7"
      },
      "execution_count": 171,
      "outputs": [
        {
          "output_type": "stream",
          "name": "stdout",
          "text": [
            "71 x closer\n",
            "2 x every\n",
            "0 x effort\n",
            "544 x forward\n",
            "2 x inches\n",
            "1 x moves\n",
            "0 x pizza\n",
            "376 x toward\n",
            "4 x you\n"
          ]
        }
      ]
    },
    {
      "cell_type": "markdown",
      "source": [
        "As we can see based on the output, the word \"forward\" is sampled most of the time (582 out of 1000 times), but other tokens such as \"closer\", \"inches\", and \"toward\" will also be sampled some of the time.\n",
        "\n",
        "This means that if we replaced the argmax function with the multinomial function inside the generate_and_print_sample function, the LLM would sometimes generate texts such as \"every effort moves you toward\", \"every effort moves you inches\", and \"every effort moves you closer\" instead of \"every effort moves you forward\".\n",
        "\n",
        "We can further control the distribution and selection process via a concept called temperature scaling, where temperature scaling is just a fancy description for dividing the logits by a number greater than 0:\n",
        "\n",
        "Temperatures greater than 1 result in more uniformly distributed token probabilities, and Temperatures smaller than 1 will result in more confident (sharper or more peaky) distributions.\n",
        "\n",
        "Let's illustrate this by plotting the original probabilities alongside probabilities scaled with different temperature values:"
      ],
      "metadata": {
        "id": "BqcGbUwzVILX"
      }
    },
    {
      "cell_type": "code",
      "source": [
        "def softmax_with_temperature(logits, temperature):\n",
        "    scaled_logits = logits / temperature\n",
        "    return torch.softmax(scaled_logits, dim=0)\n",
        "\n",
        "# Temperature values\n",
        "temperatures = [1, 0.1, 5]  # Original, higher confidence, and lower confidence\n",
        "\n",
        "# Calculate scaled probabilities\n",
        "scaled_probas = [softmax_with_temperature(next_token_logits, T) for T in temperatures]"
      ],
      "metadata": {
        "id": "tIRJBQ5oVI3P"
      },
      "execution_count": 172,
      "outputs": []
    },
    {
      "cell_type": "code",
      "source": [
        "# Plotting\n",
        "x = torch.arange(len(vocab))\n",
        "bar_width = 0.15\n",
        "\n",
        "fig, ax = plt.subplots(figsize=(5, 3))\n",
        "for i, T in enumerate(temperatures):\n",
        "    rects = ax.bar(x + i * bar_width, scaled_probas[i], bar_width, label=f'Temperature = {T}')\n",
        "\n",
        "ax.set_ylabel('Probability')\n",
        "ax.set_xticks(x)\n",
        "ax.set_xticklabels(vocab.keys(), rotation=90)\n",
        "ax.legend()\n",
        "\n",
        "plt.tight_layout()\n",
        "plt.savefig(\"temperature-plot.pdf\")\n",
        "plt.show()"
      ],
      "metadata": {
        "colab": {
          "base_uri": "https://localhost:8080/",
          "height": 307
        },
        "id": "D5CCkWfBVMCu",
        "outputId": "49882f65-6ae3-494a-be6a-eba61a1374ad"
      },
      "execution_count": 173,
      "outputs": [
        {
          "output_type": "display_data",
          "data": {
            "text/plain": [
              "<Figure size 500x300 with 1 Axes>"
            ],
            "image/png": "[encoded data removed]"
          },
          "metadata": {}
        }
      ]
    },
    {
      "cell_type": "markdown",
      "source": [
        "A temperature of 1 divides the logits by 1 before passing them to the softmax function to compute the probability scores.\n",
        "\n",
        "In other words, using a temperature of 1 is the same as not using any temperature scaling.\n",
        "\n",
        "In this case, the tokens are selected with a probability equal to the original softmax probability scores via the multinomial sampling function in PyTorch.\n",
        "\n",
        "Applying very small temperatures, such as 0.1, will result in sharper distributions such that the behavior of the multinomial function selects the most likely token (here: \"forward\") almost 100% of the time, approaching the behavior of the argmax function.\n",
        "\n",
        "Vice versa, a temperature of 5 results in a more uniform distribution where other tokens are selected more often.\n",
        "\n",
        "This can add more variety to the generated texts but also more often results in nonsensical text.\n",
        "\n",
        "For example, using the temperature of 5 results in texts such as \"every effort moves you pizza\" about 4% of the time."
      ],
      "metadata": {
        "id": "qAEWrV3gVRRc"
      }
    },
    {
      "cell_type": "markdown",
      "source": [
        "# DECODING STRATEGY 2: Top-k sampling"
      ],
      "metadata": {
        "id": "XgEHMprOYfwL"
      }
    },
    {
      "cell_type": "markdown",
      "source": [
        "\n",
        "In the previous section, we implemented a probabilistic sampling approach coupled with temperature scaling to increase the diversity of the outputs.\n",
        "\n",
        "We saw that higher temperature values result in more uniformly distributed next-token probabilities, which result in more diverse outputs as it reduces the likelihood of the model repeatedly selecting the most probable token.\n",
        "\n",
        "This method allows for exploring less likely but potentially more interesting and creative paths in the generation process.\n",
        "\n",
        "However, One downside of this approach is that it sometimes leads to grammatically incorrect or completely nonsensical outputs such as \"every effort moves you pizza\".\n",
        "\n",
        "In this section, we introduce another concept called top-k sampling, which, when combined with probabilistic sampling and temperature scaling, can improve the text generation results.\n",
        "\n",
        "In top-k sampling, we can restrict the sampled tokens to the top-k most likely tokens and exclude all other tokens from the selection process by masking their probability scores."
      ],
      "metadata": {
        "id": "fvWA2AkMYjsp"
      }
    },
    {
      "cell_type": "code",
      "source": [
        "top_k = 3\n",
        "top_logits, top_pos = torch.topk(next_token_logits, top_k)\n",
        "print(\"Top logits:\", top_logits)\n",
        "print(\"Top positions:\", top_pos)"
      ],
      "metadata": {
        "colab": {
          "base_uri": "https://localhost:8080/"
        },
        "id": "caBKm5LGYm7A",
        "outputId": "3f1e87a0-2b4a-4864-9949-f98e72e9ed87"
      },
      "execution_count": 174,
      "outputs": [
        {
          "output_type": "stream",
          "name": "stdout",
          "text": [
            "Top logits: tensor([6.7500, 6.2800, 4.5100])\n",
            "Top positions: tensor([3, 7, 0])\n"
          ]
        }
      ]
    },
    {
      "cell_type": "markdown",
      "source": [
        "Subsequently, we apply PyTorch's where function to set the logit values of tokens that are below the lowest logit value within our top-3 selection to negative infinity (-inf)."
      ],
      "metadata": {
        "id": "uJB56WkUYp_i"
      }
    },
    {
      "cell_type": "code",
      "source": [
        "new_logits = torch.where(\n",
        "    condition=next_token_logits < top_logits[-1],\n",
        "    input=torch.tensor(float(\"-inf\")),\n",
        "    other=next_token_logits\n",
        ")\n",
        "\n",
        "print(new_logits)"
      ],
      "metadata": {
        "colab": {
          "base_uri": "https://localhost:8080/"
        },
        "id": "ne-1QEUvYsCO",
        "outputId": "e2c99bfb-36e2-462e-e30a-ed0ae1424395"
      },
      "execution_count": 175,
      "outputs": [
        {
          "output_type": "stream",
          "name": "stdout",
          "text": [
            "tensor([4.5100,   -inf,   -inf, 6.7500,   -inf,   -inf,   -inf, 6.2800,   -inf])\n"
          ]
        }
      ]
    },
    {
      "cell_type": "markdown",
      "source": [
        "Lastly, let's apply the softmax function to turn these into next-token probabilities"
      ],
      "metadata": {
        "id": "P_GMP9ISYutU"
      }
    },
    {
      "cell_type": "code",
      "source": [
        "topk_probas = torch.softmax(new_logits, dim=0)\n",
        "print(topk_probas)"
      ],
      "metadata": {
        "colab": {
          "base_uri": "https://localhost:8080/"
        },
        "id": "2ds6y_6LYxr3",
        "outputId": "9cedf58c-c1ac-4400-ac72-8b1daea744dd"
      },
      "execution_count": 176,
      "outputs": [
        {
          "output_type": "stream",
          "name": "stdout",
          "text": [
            "tensor([0.0615, 0.0000, 0.0000, 0.5775, 0.0000, 0.0000, 0.0000, 0.3610, 0.0000])\n"
          ]
        }
      ]
    },
    {
      "cell_type": "markdown",
      "source": [
        "# Merge Temperature Scaling and Top-k sampling"
      ],
      "metadata": {
        "id": "wW-IrwZeY1gl"
      }
    },
    {
      "cell_type": "markdown",
      "source": [
        "We can now apply the temperature scaling and multinomial function for probabilistic sampling introduced in the previous section to select the next token among these 3 nonzero probability scores to generate the next token. We do this in the next section by modifying the text generation function.\n",
        "\n",
        "The previous two subsections introduced two concepts to increase the diversity of LLMgenerated text: temperature sampling and top-k sampling. In this section, we combine and add these concepts to modify the generate_simple function we used to generate text via the LLM earlier, creating a new generate function:\n",
        "\n",
        "Step 1: For-loop is the same as before: Get logits, and only focus on last time step\n",
        "\n",
        "Step 2: In this new section, we filter logits with top_k sampling\n",
        "\n",
        "Step 3: This is the new section where we apply temperature scaling\n",
        "\n",
        "Step 4: Carry out greedy next-token selection as before when temperature scaling is disabled\n",
        "\n",
        "Step 5: Stop generating early if end-of-sequence token is encountered and eos_id is specified"
      ],
      "metadata": {
        "id": "jPVM2n1UY5M_"
      }
    },
    {
      "cell_type": "code",
      "source": [
        "def generate(model, idx, max_new_tokens, context_size, temperature=0.0, top_k=None, eos_id=None):\n",
        "\n",
        "    # For-loop is the same as before: Get logits, and only focus on last time step\n",
        "    for _ in range(max_new_tokens):\n",
        "        idx_cond = idx[:, -context_size:]\n",
        "        with torch.no_grad():\n",
        "            logits = model(idx_cond)\n",
        "        logits = logits[:, -1, :]\n",
        "\n",
        "        # New: Filter logits with top_k sampling\n",
        "        if top_k is not None:\n",
        "            # Keep only top_k values\n",
        "            top_logits, _ = torch.topk(logits, top_k)\n",
        "            min_val = top_logits[:, -1]\n",
        "            logits = torch.where(logits < min_val, torch.tensor(float(\"-inf\")).to(logits.device), logits)\n",
        "\n",
        "        # New: Apply temperature scaling\n",
        "        if temperature > 0.0:\n",
        "            logits = logits / temperature\n",
        "\n",
        "            # Apply softmax to get probabilities\n",
        "            probs = torch.softmax(logits, dim=-1)  # (batch_size, context_len)\n",
        "\n",
        "            # Sample from the distribution\n",
        "            idx_next = torch.multinomial(probs, num_samples=1)  # (batch_size, 1)\n",
        "\n",
        "        # Otherwise same as before: get idx of the vocab entry with the highest logits value\n",
        "        else:\n",
        "            idx_next = torch.argmax(logits, dim=-1, keepdim=True)  # (batch_size, 1)\n",
        "\n",
        "        if idx_next == eos_id:  # Stop generating early if end-of-sequence token is encountered and eos_id is specified\n",
        "            break\n",
        "\n",
        "        # Same as before: append sampled index to the running sequence\n",
        "        idx = torch.cat((idx, idx_next), dim=1)  # (batch_size, num_tokens+1)\n",
        "\n",
        "    return idx"
      ],
      "metadata": {
        "id": "EwzQuc6_Y84r"
      },
      "execution_count": 177,
      "outputs": []
    },
    {
      "cell_type": "markdown",
      "source": [
        "Let's now see this new generate function in action:"
      ],
      "metadata": {
        "id": "Ujq4eZL9Y_9o"
      }
    },
    {
      "cell_type": "code",
      "source": [
        "torch.manual_seed(123)\n",
        "\n",
        "token_ids = generate(\n",
        "    model=model,\n",
        "    idx=text_to_token_ids(\"Every effort moves you\", tokenizer),\n",
        "    max_new_tokens=15,\n",
        "    context_size=GPT_CONFIG_124M[\"context_length\"],\n",
        "    top_k=25,\n",
        "    temperature=1.4\n",
        ")\n",
        "\n",
        "print(\"Output text:\\n\", token_ids_to_text(token_ids, tokenizer))"
      ],
      "metadata": {
        "colab": {
          "base_uri": "https://localhost:8080/"
        },
        "id": "b3J7iwgzZBnk",
        "outputId": "20b7f973-22df-4eca-f6ff-34a481870aab"
      },
      "execution_count": 178,
      "outputs": [
        {
          "output_type": "stream",
          "name": "stdout",
          "text": [
            "Output text:\n",
            " Every effort moves you know began to my surprise, a little it was the\n",
            "\"Ah enough\n"
          ]
        }
      ]
    },
    {
      "cell_type": "markdown",
      "source": [
        "# LOADING AND SAVING MODEL WEIGHTS IN PYTORCH"
      ],
      "metadata": {
        "id": "p3ZqSf8aZ7EB"
      }
    },
    {
      "cell_type": "markdown",
      "source": [
        "Fortunately, saving a PyTorch model is relatively straightforward.\n",
        "\n",
        "The recommended way is to save a model's so-called state_dict, a dictionary mapping each layer to its parameters, using the torch.save function as follows:"
      ],
      "metadata": {
        "id": "9laj4kA0aBGh"
      }
    },
    {
      "cell_type": "code",
      "source": [
        "model = GPTModel(GPT_CONFIG_124M)\n",
        "torch.save(model.state_dict(), \"model.pth\")"
      ],
      "metadata": {
        "id": "TYZcPJi1aDAt"
      },
      "execution_count": 179,
      "outputs": []
    },
    {
      "cell_type": "markdown",
      "source": [
        "In the preceding code, \"model.pth\" is the filename where the state_dict is saved.\n",
        "\n",
        "The .pth extension is a convention for PyTorch files, though we could technically use any file extension.\n",
        "\n",
        "Then, after saving the model weights via the state_dict, we can load the model weights into a new GPTModel model instance as follows:"
      ],
      "metadata": {
        "id": "2oieMYGQaikQ"
      }
    },
    {
      "cell_type": "code",
      "source": [
        "model = GPTModel(GPT_CONFIG_124M)\n",
        "model.load_state_dict(torch.load(\"model.pth\"))\n",
        "model.eval()"
      ],
      "metadata": {
        "id": "GolN7BuBaktM"
      },
      "execution_count": null,
      "outputs": []
    },
    {
      "cell_type": "markdown",
      "source": [
        "If we plan to continue pretraining a model later, for example, using the train_model_simple function we defined earlier in this chapter, saving the optimizer state is also recommended.\n",
        "\n",
        "Adaptive optimizers such as AdamW store additional parameters for each model weight. AdamW uses historical data to adjust learning rates for each model parameter dynamically.\n",
        "\n",
        "Without it, the optimizer resets, and the model may learn suboptimally or even fail to converge properly, which means that it will lose the ability to generate coherent text.\n",
        "\n",
        "Using torch.save, we can save both the model and optimizer state_dict contents as follows:"
      ],
      "metadata": {
        "id": "aUxIAGPRasXQ"
      }
    },
    {
      "cell_type": "code",
      "source": [
        "optimizer = torch.optim.AdamW(model.parameters(), lr=0.0004, weight_decay=0.1)\n",
        "\n",
        "torch.save({\n",
        "    \"model_state_dict\": model.state_dict(),\n",
        "    \"optimizer_state_dict\": optimizer.state_dict(),\n",
        "    },\n",
        "    \"model_and_optimizer.pth\"\n",
        ")"
      ],
      "metadata": {
        "id": "0xmIzUfUatEE"
      },
      "execution_count": 181,
      "outputs": []
    },
    {
      "cell_type": "markdown",
      "source": [
        "Then, we can restore the model and optimizer states as follows by first loading the saved data via torch.load and then using the load_state_dict method:"
      ],
      "metadata": {
        "id": "fFd196B-aw2f"
      }
    },
    {
      "cell_type": "code",
      "source": [
        "checkpoint = torch.load(\"model_and_optimizer.pth\")\n",
        "model = GPTModel(GPT_CONFIG_124M)\n",
        "model.load_state_dict(checkpoint[\"model_state_dict\"])\n",
        "optimizer = torch.optim.AdamW(model.parameters(), lr=5e-4, weight_decay=0.1)\n",
        "optimizer.load_state_dict(checkpoint[\"optimizer_state_dict\"])\n",
        "model.train();"
      ],
      "metadata": {
        "id": "K4AEFVuNazmn"
      },
      "execution_count": null,
      "outputs": []
    },
    {
      "cell_type": "markdown",
      "source": [
        "# LOADING PRETRAINED WEIGHTS FROM OPENAI"
      ],
      "metadata": {
        "id": "B6nGuzee3I3o"
      }
    },
    {
      "cell_type": "markdown",
      "source": [
        "Previously, for educational purposes, we trained a small GPT-2 model using a limited dataset comprising a short-story book.\n",
        "\n",
        "This approach allowed us to focus on the fundamentals without the need for extensive time and computational resources.\n",
        "\n",
        "Fortunately, OpenAI openly shared the weights of their GPT-2 models, thus eliminating the need to invest tens to hundreds of thousands of dollars in retraining the model on a large corpus ourselves.\n",
        "\n",
        "In the remainder of this section, we load these weights into our GPTModel class and use the model for text generation.\n",
        "\n",
        "Here, weights refer to the weight parameters that are stored in the .weight attributes of PyTorch's Linear and Embedding layers, for example.\n",
        "\n",
        "We accessed them earlier via model.parameters() when training the model.\n",
        "\n",
        "Note that OpenAI originally saved the GPT-2 weights via TensorFlow, which we have to install to load the weights in Python.\n",
        "\n",
        "Moreover, the following code will use a progress bar tool called tqdm to track the download process, which we also have to install."
      ],
      "metadata": {
        "id": "gdTTztMz3MPA"
      }
    },
    {
      "cell_type": "code",
      "source": [
        "!pip install tensorflow>=2.15.0 tqdm>=4.66"
      ],
      "metadata": {
        "id": "MZ1QfPVw3PqX"
      },
      "execution_count": null,
      "outputs": []
    },
    {
      "cell_type": "code",
      "source": [
        "import tensorflow as tf\n",
        "import tqdm\n",
        "\n",
        "print(\"TensorFlow version:\", tf.__version__)\n",
        "print(\"tqdm version:\", tqdm.__version__)"
      ],
      "metadata": {
        "id": "yFCNKGSq3YBp"
      },
      "execution_count": null,
      "outputs": []
    },
    {
      "cell_type": "markdown",
      "source": [
        "We download the gpt_download.py Python module directly from this chapter's online repository\n",
        "\n",
        "We can now import the download_and_load_gpt2 function from the gpt_download.py file as follows, which will load the GPT-2 architecture settings (settings) and weight parameters (params) into our Python session:"
      ],
      "metadata": {
        "id": "dAswrpk63beT"
      }
    },
    {
      "cell_type": "code",
      "source": [
        "from gpt_download3 import download_and_load_gpt2"
      ],
      "metadata": {
        "id": "pMCtjT0l3dbK"
      },
      "execution_count": 185,
      "outputs": []
    },
    {
      "cell_type": "code",
      "source": [
        "settings, params = download_and_load_gpt2(model_size=\"124M\", models_dir=\"gpt2\")"
      ],
      "metadata": {
        "id": "HK9iZHUj4K7f"
      },
      "execution_count": null,
      "outputs": []
    },
    {
      "cell_type": "markdown",
      "source": [
        "After the execution of the previous code has been completed, let's inspect the contents of settings and params:"
      ],
      "metadata": {
        "id": "PzyAZR4t4OXy"
      }
    },
    {
      "cell_type": "code",
      "source": [
        "print(\"Settings:\", settings)\n",
        "print(\"Parameter dictionary keys:\", params.keys())"
      ],
      "metadata": {
        "id": "-cV7KQwr4O9v"
      },
      "execution_count": null,
      "outputs": []
    },
    {
      "cell_type": "markdown",
      "source": [
        "Both settings and params are Python dictionaries. The settings dictionary stores the LLM architecture settings similarly to our manually defined GPT_CONFIG_124M settings.\n",
        "\n",
        "The params dictionary contains the actual weight tensors.\n",
        "\n",
        "Note that we only printed the dictionary keys because printing the weight contents would take up too much screen space\n",
        "\n",
        "We can inspect these weight tensors by printing the whole dictionary via print(params) or by selecting individual tensors via the respective dictionary keys, for example, the embedding layer weights:"
      ],
      "metadata": {
        "id": "qnqaQVdY4nOD"
      }
    },
    {
      "cell_type": "code",
      "source": [
        "print(params[\"wte\"])\n",
        "print(\"Token embedding weight tensor dimensions:\", params[\"wte\"].shape)"
      ],
      "metadata": {
        "id": "76JL_wkk4oDd"
      },
      "execution_count": null,
      "outputs": []
    },
    {
      "cell_type": "markdown",
      "source": [
        "We downloaded and loaded the weights of the smallest GPT-2 model via the download_and_load_gpt2(model_size=\"124M\", ...) setting. However, note that OpenAI also shares the weights of larger models: \"355M\", \"774M\", and \"1558M\".\n",
        "\n",
        "Above, we loaded the 124M GPT-2 model weights into Python, however we still need to transfer them into our GPTModel instance.\n",
        "\n",
        "First, we initialize a new GPTModel instance.\n",
        "\n",
        "Note that the original GPT model initialized the linear layers for the query, key, and value matrices in the multi-head attention module with bias vectors, which is not required or recommended; however, to be able to load the weights correctly, we have to enable these too by setting qkv_bias to True in our implementation, too.\n",
        "\n",
        "We are also using the 1024 token context length that was used by the original GPT-2 model(s)"
      ],
      "metadata": {
        "id": "jd-uortl4q9u"
      }
    },
    {
      "cell_type": "code",
      "source": [
        "# Define model configurations in a dictionary for compactness\n",
        "model_configs = {\n",
        "    \"gpt2-small (124M)\": {\"emb_dim\": 768, \"n_layers\": 12, \"n_heads\": 12},\n",
        "    \"gpt2-medium (355M)\": {\"emb_dim\": 1024, \"n_layers\": 24, \"n_heads\": 16},\n",
        "    \"gpt2-large (774M)\": {\"emb_dim\": 1280, \"n_layers\": 36, \"n_heads\": 20},\n",
        "    \"gpt2-xl (1558M)\": {\"emb_dim\": 1600, \"n_layers\": 48, \"n_heads\": 25},\n",
        "}\n",
        "\n",
        "# Copy the base configuration and update with specific model settings\n",
        "model_name = \"gpt2-small (124M)\"  # Example model name\n",
        "NEW_CONFIG = GPT_CONFIG_124M.copy()\n",
        "NEW_CONFIG.update(model_configs[model_name])\n"
      ],
      "metadata": {
        "id": "0r7KxIS94tYz"
      },
      "execution_count": null,
      "outputs": []
    },
    {
      "cell_type": "markdown",
      "metadata": {
        "id": "imlkXZEgxobS"
      },
      "source": [
        "<div class=\"alert alert-block alert-success\">\n",
        "    \n",
        "Careful readers may remember that we used a 256-token length earlier, but the original\n",
        "GPT-2 models from OpenAI were trained with a 1,024-token length, so we have to update\n",
        "the NEW_CONFIG accordingly:\n",
        "\n",
        "</div>"
      ]
    },
    {
      "cell_type": "markdown",
      "source": [
        "Also, OpenAI used bias vectors in the multi-head attention module's linear layers to implement the query, key, and value matrix computations.\n",
        "\n",
        "Bias vectors are not commonly used in LLMs anymore as they don't improve the modeling performance and are thus unnecessary.\n",
        "\n",
        "However, since we are working with pretrained weights, we need to match the settings for consistency and enable these bias vectors:"
      ],
      "metadata": {
        "id": "l_Qzgdda42gS"
      }
    },
    {
      "cell_type": "code",
      "source": [
        "NEW_CONFIG.update({\"context_length\": 1024, \"qkv_bias\": True})\n",
        "gpt = GPTModel(NEW_CONFIG)\n",
        "gpt.eval();"
      ],
      "metadata": {
        "id": "FX-_eu1r44w6"
      },
      "execution_count": null,
      "outputs": []
    },
    {
      "cell_type": "markdown",
      "source": [
        "By default, the GPTModel instance is initialized with random weights for pretraining.\n",
        "\n",
        "The last step to using OpenAI's model weights is to override these random weights with the weights we loaded into the params dictionary.\n",
        "\n",
        "For this, we will first define a small assign utility function that checks whether two tensors or arrays (left and right) have the same dimensions or shape and returns the right tensor as trainable PyTorch parameters:"
      ],
      "metadata": {
        "id": "8n7y-e6g49-H"
      }
    },
    {
      "cell_type": "code",
      "source": [
        "def assign(left, right):\n",
        "    if left.shape != right.shape:\n",
        "        raise ValueError(f\"Shape mismatch. Left: {left.shape}, Right: {right.shape}\")\n",
        "    return torch.nn.Parameter(torch.tensor(right))"
      ],
      "metadata": {
        "id": "dO-xIL904_kH"
      },
      "execution_count": null,
      "outputs": []
    },
    {
      "cell_type": "markdown",
      "source": [
        "Next, we define a load_weights_into_gpt function that loads the weights from the params dictionary into a GPTModel instance gpt:\n",
        "\n",
        "Step 1: Setting the model's positional and token embedding weights to those specified in params.\n",
        "\n",
        "Step 2: Iterate over each transformer block in the model.\n",
        "\n",
        "Step 3: The np.split function is used to divide the attention and bias weights into three equal parts for the query, key, and value components.\n",
        "\n",
        "Step 4: The original GPT-2 model by OpenAI reused the token embedding weights in the output layer to reduce the total number of parameters, which is a concept known as weight tying."
      ],
      "metadata": {
        "id": "z0woESpR5De0"
      }
    },
    {
      "cell_type": "code",
      "source": [
        "import numpy as np\n",
        "\n",
        "def load_weights_into_gpt(gpt, params):\n",
        "    gpt.pos_emb.weight = assign(gpt.pos_emb.weight, params['wpe'])\n",
        "    gpt.tok_emb.weight = assign(gpt.tok_emb.weight, params['wte'])\n",
        "\n",
        "    for b in range(len(params[\"blocks\"])):\n",
        "        q_w, k_w, v_w = np.split(\n",
        "            (params[\"blocks\"][b][\"attn\"][\"c_attn\"])[\"w\"], 3, axis=-1)\n",
        "        gpt.trf_blocks[b].att.W_query.weight = assign(\n",
        "            gpt.trf_blocks[b].att.W_query.weight, q_w.T)\n",
        "        gpt.trf_blocks[b].att.W_key.weight = assign(\n",
        "            gpt.trf_blocks[b].att.W_key.weight, k_w.T)\n",
        "        gpt.trf_blocks[b].att.W_value.weight = assign(\n",
        "            gpt.trf_blocks[b].att.W_value.weight, v_w.T)\n",
        "\n",
        "        q_b, k_b, v_b = np.split(\n",
        "            (params[\"blocks\"][b][\"attn\"][\"c_attn\"])[\"b\"], 3, axis=-1)\n",
        "        gpt.trf_blocks[b].att.W_query.bias = assign(\n",
        "            gpt.trf_blocks[b].att.W_query.bias, q_b)\n",
        "        gpt.trf_blocks[b].att.W_key.bias = assign(\n",
        "            gpt.trf_blocks[b].att.W_key.bias, k_b)\n",
        "        gpt.trf_blocks[b].att.W_value.bias = assign(\n",
        "            gpt.trf_blocks[b].att.W_value.bias, v_b)\n",
        "\n",
        "        gpt.trf_blocks[b].att.out_proj.weight = assign(\n",
        "            gpt.trf_blocks[b].att.out_proj.weight,\n",
        "            params[\"blocks\"][b][\"attn\"][\"c_proj\"][\"w\"].T)\n",
        "        gpt.trf_blocks[b].att.out_proj.bias = assign(\n",
        "            gpt.trf_blocks[b].att.out_proj.bias,\n",
        "            params[\"blocks\"][b][\"attn\"][\"c_proj\"][\"b\"])\n",
        "\n",
        "        gpt.trf_blocks[b].ff.layers[0].weight = assign(\n",
        "            gpt.trf_blocks[b].ff.layers[0].weight,\n",
        "            params[\"blocks\"][b][\"mlp\"][\"c_fc\"][\"w\"].T)\n",
        "        gpt.trf_blocks[b].ff.layers[0].bias = assign(\n",
        "            gpt.trf_blocks[b].ff.layers[0].bias,\n",
        "            params[\"blocks\"][b][\"mlp\"][\"c_fc\"][\"b\"])\n",
        "        gpt.trf_blocks[b].ff.layers[2].weight = assign(\n",
        "            gpt.trf_blocks[b].ff.layers[2].weight,\n",
        "            params[\"blocks\"][b][\"mlp\"][\"c_proj\"][\"w\"].T)\n",
        "        gpt.trf_blocks[b].ff.layers[2].bias = assign(\n",
        "            gpt.trf_blocks[b].ff.layers[2].bias,\n",
        "            params[\"blocks\"][b][\"mlp\"][\"c_proj\"][\"b\"])\n",
        "\n",
        "        gpt.trf_blocks[b].norm1.scale = assign(\n",
        "            gpt.trf_blocks[b].norm1.scale,\n",
        "            params[\"blocks\"][b][\"ln_1\"][\"g\"])\n",
        "        gpt.trf_blocks[b].norm1.shift = assign(\n",
        "            gpt.trf_blocks[b].norm1.shift,\n",
        "            params[\"blocks\"][b][\"ln_1\"][\"b\"])\n",
        "        gpt.trf_blocks[b].norm2.scale = assign(\n",
        "            gpt.trf_blocks[b].norm2.scale,\n",
        "            params[\"blocks\"][b][\"ln_2\"][\"g\"])\n",
        "        gpt.trf_blocks[b].norm2.shift = assign(\n",
        "            gpt.trf_blocks[b].norm2.shift,\n",
        "            params[\"blocks\"][b][\"ln_2\"][\"b\"])\n",
        "\n",
        "    gpt.final_norm.scale = assign(gpt.final_norm.scale, params[\"g\"])\n",
        "    gpt.final_norm.shift = assign(gpt.final_norm.shift, params[\"b\"])\n",
        "    gpt.out_head.weight = assign(gpt.out_head.weight, params[\"wte\"])\n",
        "\n"
      ],
      "metadata": {
        "id": "gWfpU1U_5EDl"
      },
      "execution_count": null,
      "outputs": []
    },
    {
      "cell_type": "markdown",
      "source": [
        "In the load_weights_into_gpt function, we carefully match the weights from OpenAI's implementation with our GPTModel implementation.\n",
        "\n",
        "To pick a specific example, OpenAI stored the weight tensor for the output projection layer for the first transformer block as params[\"blocks\"][0][\"attn\"][\"c_proj\"][\"w\"].\n",
        "\n",
        "In our implementation, this weight tensor corresponds to gpt.trf_blocks[b].att.out_proj.weight, where gpt is a GPTModel instance.\n",
        "\n",
        "Developing the load_weights_into_gpt function took a lot of guesswork since OpenAI used a slightly different naming convention from ours.\n",
        "\n",
        "However, the assign function would alert us if we try to match two tensors with different dimensions.\n",
        "\n",
        "Also, if we made a mistake in this function, we would notice this as the resulting GPT model would be unable to produce coherent text.\n",
        "\n",
        "Let's now try the load_weights_into_gpt out in practice and load the OpenAI model weights into our GPTModel instance gpt:\n",
        "\n",
        "\n",
        "\n"
      ],
      "metadata": {
        "id": "Mjjn_yDW5IbR"
      }
    },
    {
      "cell_type": "code",
      "source": [
        "load_weights_into_gpt(gpt, params)\n",
        "gpt.to(device);"
      ],
      "metadata": {
        "id": "2U0kwUHB5PIt"
      },
      "execution_count": null,
      "outputs": []
    },
    {
      "cell_type": "markdown",
      "source": [
        "If the model is loaded correctly, we can now use it to generate new text using our previous generate function:"
      ],
      "metadata": {
        "id": "v5GPDT-w5R0H"
      }
    },
    {
      "cell_type": "code",
      "source": [
        "torch.manual_seed(123)\n",
        "\n",
        "token_ids = generate(\n",
        "    model=gpt,\n",
        "    idx=text_to_token_ids(\"Every effort moves you\", tokenizer).to(device),\n",
        "    max_new_tokens=25,\n",
        "    context_size=NEW_CONFIG[\"context_length\"],\n",
        "    top_k=50,\n",
        "    temperature=1.5\n",
        ")\n",
        "\n",
        "print(\"Output text:\\n\", token_ids_to_text(token_ids, tokenizer))"
      ],
      "metadata": {
        "id": "JGoNAwVO5TfJ"
      },
      "execution_count": null,
      "outputs": []
    },
    {
      "cell_type": "markdown",
      "source": [
        "We can be confident that we loaded the model weights correctly because the model can produce coherent text.\n",
        "\n",
        "A tiny mistake in this process would cause the model to fail.\n",
        "\n",
        "In the following chapters, we will work further with this pretrained model and fine-tune it to classify text and follow instructions."
      ],
      "metadata": {
        "id": "iYiG3EOu5glt"
      }
    },
    {
      "cell_type": "markdown",
      "source": [
        "# FINETUNING FOR CLASSIFICATION"
      ],
      "metadata": {
        "id": "1MCDJzI16O6z"
      }
    },
    {
      "cell_type": "markdown",
      "source": [
        "## DOWNLOADING DATASET"
      ],
      "metadata": {
        "id": "eTl_vd-R6SFL"
      }
    },
    {
      "cell_type": "code",
      "source": [
        "import urllib.request\n",
        "import ssl\n",
        "import zipfile\n",
        "import os\n",
        "from pathlib import Path\n",
        "\n",
        "url = \"https://archive.ics.uci.edu/static/public/228/sms+spam+collection.zip\"\n",
        "zip_path = \"sms_spam_collection.zip\"\n",
        "extracted_path = \"sms_spam_collection\"\n",
        "data_file_path = Path(extracted_path) / \"SMSSpamCollection.tsv\"\n",
        "\n",
        "def download_and_unzip_spam_data(url, zip_path, extracted_path, data_file_path):\n",
        "    if data_file_path.exists():\n",
        "        print(f\"{data_file_path} already exists. Skipping download and extraction.\")\n",
        "        return\n",
        "\n",
        "    # Create an unverified SSL context\n",
        "    ssl_context = ssl._create_unverified_context()\n",
        "\n",
        "    # Downloading the file\n",
        "    with urllib.request.urlopen(url, context=ssl_context) as response:\n",
        "        with open(zip_path, \"wb\") as out_file:\n",
        "            out_file.write(response.read())\n",
        "\n",
        "    # Unzipping the file\n",
        "    with zipfile.ZipFile(zip_path, \"r\") as zip_ref:\n",
        "        zip_ref.extractall(extracted_path)\n",
        "\n",
        "    # Add .tsv file extension\n",
        "    original_file_path = Path(extracted_path) / \"SMSSpamCollection\"\n",
        "    os.rename(original_file_path, data_file_path)\n",
        "    print(f\"File downloaded and saved as {data_file_path}\")\n",
        "\n",
        "download_and_unzip_spam_data(url, zip_path, extracted_path, data_file_path)\n"
      ],
      "metadata": {
        "colab": {
          "base_uri": "https://localhost:8080/"
        },
        "id": "I32admhQ6Uzr",
        "outputId": "569e1f2c-7673-4358-a81d-29fb3c0c546d"
      },
      "execution_count": 195,
      "outputs": [
        {
          "output_type": "stream",
          "name": "stdout",
          "text": [
            "sms_spam_collection/SMSSpamCollection.tsv already exists. Skipping download and extraction.\n"
          ]
        }
      ]
    },
    {
      "cell_type": "markdown",
      "source": [
        "After executing the preceding code, the dataset is saved as a tab-separated text file, SMSSpamCollection.tsv, in the sms_spam_collection folder.\n",
        "\n",
        "We can load it into a pandas DataFrame as follows:"
      ],
      "metadata": {
        "id": "rFdojEmx6ZKt"
      }
    },
    {
      "cell_type": "code",
      "source": [
        "import pandas as pd\n",
        "\n",
        "df = pd.read_csv(data_file_path, sep=\"\\t\", header=None, names=[\"Label\", \"Text\"])\n",
        "df"
      ],
      "metadata": {
        "id": "1YucHNcZ6Z2c"
      },
      "execution_count": null,
      "outputs": []
    },
    {
      "cell_type": "markdown",
      "source": [
        "When we check the class distribution, we see that the data contains \"ham\" (i.e., \"not spam\") much more frequently than \"spam\""
      ],
      "metadata": {
        "id": "DTkzFLhp6dpZ"
      }
    },
    {
      "cell_type": "code",
      "source": [
        "print(df[\"Label\"].value_counts())"
      ],
      "metadata": {
        "id": "Ykmxd-176f30"
      },
      "execution_count": null,
      "outputs": []
    },
    {
      "cell_type": "markdown",
      "source": [
        "For simplicity, and because we prefer a small dataset for educational purposes anyway (it will make it possible to finetune the LLM faster), we subsample (undersample) the dataset so that it contains 747 instances from each class"
      ],
      "metadata": {
        "id": "wgGLQugz6jPm"
      }
    },
    {
      "cell_type": "code",
      "source": [
        "def create_balanced_dataset(df):\n",
        "\n",
        "    # Count the instances of \"spam\"\n",
        "    num_spam = df[df[\"Label\"] == \"spam\"].shape[0]\n",
        "\n",
        "    # Randomly sample \"ham\" instances to match the number of \"spam\" instances\n",
        "    ham_subset = df[df[\"Label\"] == \"ham\"].sample(num_spam, random_state=123)\n",
        "\n",
        "    # Combine ham \"subset\" with \"spam\"\n",
        "    balanced_df = pd.concat([ham_subset, df[df[\"Label\"] == \"spam\"]])\n",
        "\n",
        "    return balanced_df\n",
        "\n",
        "balanced_df = create_balanced_dataset(df)\n",
        "print(balanced_df[\"Label\"].value_counts())"
      ],
      "metadata": {
        "id": "7doYx7g36k-J"
      },
      "execution_count": null,
      "outputs": []
    },
    {
      "cell_type": "markdown",
      "source": [
        "After executing the previous code to balance the dataset, we can see that we now have equal amounts of spam and non-spam messages:\n",
        "\n",
        "Next, we convert the \"string\" class labels \"ham\" and \"spam\" into integer class labels 0 and 1, respectively"
      ],
      "metadata": {
        "id": "n-7lV5jg6n6l"
      }
    },
    {
      "cell_type": "code",
      "source": [
        "balanced_df[\"Label\"] = balanced_df[\"Label\"].map({\"ham\": 0, \"spam\": 1})"
      ],
      "metadata": {
        "id": "kwfGyG0z6qGK"
      },
      "execution_count": null,
      "outputs": []
    },
    {
      "cell_type": "markdown",
      "source": [
        "This process is similar to converting text into token IDs.\n",
        "\n",
        "However, instead of using the GPT vocabulary, which consists of more than 50,000 words, we are dealing with just two token IDs: 0 and 1.\n",
        "\n",
        "We create a random_split function to split the dataset into three parts: 70% for training, 10% for validation, and 20% for testing.\n",
        "\n",
        "(These ratios are common in machine learning to train, adjust, and evaluate models.)"
      ],
      "metadata": {
        "id": "e8lSnm0w6sgZ"
      }
    },
    {
      "cell_type": "code",
      "source": [
        "def random_split(df, train_frac, validation_frac):\n",
        "    # Shuffle the entire DataFrame\n",
        "    df = df.sample(frac=1, random_state=123).reset_index(drop=True)\n",
        "\n",
        "    # Calculate split indices\n",
        "    train_end = int(len(df) * train_frac)\n",
        "    validation_end = train_end + int(len(df) * validation_frac)\n",
        "\n",
        "    # Split the DataFrame\n",
        "    train_df = df[:train_end]\n",
        "    validation_df = df[train_end:validation_end]\n",
        "    test_df = df[validation_end:]\n",
        "\n",
        "    return train_df, validation_df, test_df\n",
        "\n",
        "train_df, validation_df, test_df = random_split(balanced_df, 0.7, 0.1)\n",
        "# Test size is implied to be 0.2 as the remainder\n"
      ],
      "metadata": {
        "id": "Y6A5wBNp6vL_"
      },
      "execution_count": null,
      "outputs": []
    },
    {
      "cell_type": "code",
      "source": [
        "print(len(train_df))\n",
        "print(len(validation_df))\n",
        "print(len(test_df))"
      ],
      "metadata": {
        "id": "vNjSRZ_l6xY_"
      },
      "execution_count": null,
      "outputs": []
    },
    {
      "cell_type": "markdown",
      "source": [
        "Additionally, we save the dataset as CSV (comma-separated value) files, which we can reuse later:"
      ],
      "metadata": {
        "id": "UsTy0uR060o-"
      }
    },
    {
      "cell_type": "code",
      "source": [
        "train_df.to_csv(\"train.csv\", index=None)\n",
        "validation_df.to_csv(\"validation.csv\", index=None)\n",
        "test_df.to_csv(\"test.csv\", index=None)"
      ],
      "metadata": {
        "id": "BA9Max8j62DV"
      },
      "execution_count": null,
      "outputs": []
    },
    {
      "cell_type": "markdown",
      "source": [
        "# CREATING DATALOADERS"
      ],
      "metadata": {
        "id": "aHpq5hKd64lP"
      }
    },
    {
      "cell_type": "markdown",
      "source": [
        "Previously, we utilized a sliding window technique to generate uniformly sized text chunks, which were then grouped into batches for more efficient model training. Each chunk functioned as an individual training instance\n",
        "\n",
        "In the case of email spam classification, have two primary options:\n",
        "\n",
        "(1) Truncate all messages to the length of the shortest message in the dataset or batch.\n",
        "\n",
        "(2) Pad all messages to the length of the longest message in the dataset or batch.\n",
        "\n",
        "Option 1 is computationally cheaper, but it may result in significant information loss if shorter messages are much smaller than the average or longest messages, potentially reducing model performance.\n",
        "\n",
        "So, we opt for the second option, which preserves the entire content of all messages.\n",
        "\n",
        "To implement option 2, where all messages are padded to the length of the longest message in the dataset, we add padding tokens to all shorter messages.\n",
        "\n",
        "For this purpose, we use \"<|endoftext|>\" as a padding token, as discussed in chapter 2.\n",
        "\n",
        "However, instead of appending the string \"<|endoftext|>\" to each of the text messages directly, we can add the token ID corresponding to \"<|endoftext|>\" to the encoded text"
      ],
      "metadata": {
        "id": "5cwQdz6M67ZA"
      }
    },
    {
      "cell_type": "markdown",
      "source": [
        "As we have seen earlier, we first need to implement a PyTorch Dataset, which specifies how the data is loaded and processed, before we can instantiate the data loaders."
      ],
      "metadata": {
        "id": "mxNlUWh36_Zg"
      }
    },
    {
      "cell_type": "markdown",
      "metadata": {
        "id": "CTRvP21s54EM"
      },
      "source": [
        "<div class=\"alert alert-block alert-success\">\n",
        "\n",
        "For this purpose, we define the SpamDataset class.\n",
        "\n",
        "This SpamDataset class handles several key tasks: it identifies the\n",
        "longest sequence in the training dataset, encodes the text messages, and ensures that all\n",
        "other sequences are padded with a padding token to match the length of the longest\n",
        "sequence.\n",
        "    \n",
        "</div>"
      ]
    },
    {
      "cell_type": "code",
      "source": [
        "import torch\n",
        "from torch.utils.data import Dataset\n",
        "\n",
        "\n",
        "class SpamDataset(Dataset):\n",
        "    def __init__(self, csv_file, tokenizer, max_length=None, pad_token_id=50256):\n",
        "        self.data = pd.read_csv(csv_file)\n",
        "\n",
        "        # Pre-tokenize texts\n",
        "        self.encoded_texts = [\n",
        "            tokenizer.encode(text) for text in self.data[\"Text\"]\n",
        "        ]\n",
        "\n",
        "        if max_length is None:\n",
        "            self.max_length = self._longest_encoded_length()\n",
        "        else:\n",
        "            self.max_length = max_length\n",
        "            # Truncate sequences if they are longer than max_length\n",
        "            self.encoded_texts = [\n",
        "                encoded_text[:self.max_length]\n",
        "                for encoded_text in self.encoded_texts\n",
        "            ]\n",
        "\n",
        "        # Pad sequences to the longest sequence\n",
        "        self.encoded_texts = [\n",
        "            encoded_text + [pad_token_id] * (self.max_length - len(encoded_text))\n",
        "            for encoded_text in self.encoded_texts\n",
        "        ]\n",
        "\n",
        "    def __getitem__(self, index):\n",
        "        encoded = self.encoded_texts[index]\n",
        "        label = self.data.iloc[index][\"Label\"]\n",
        "        return (\n",
        "            torch.tensor(encoded, dtype=torch.long),\n",
        "            torch.tensor(label, dtype=torch.long)\n",
        "        )\n",
        "\n",
        "    def __len__(self):\n",
        "        return len(self.data)\n",
        "\n",
        "    def _longest_encoded_length(self):\n",
        "        max_length = 0\n",
        "        for encoded_text in self.encoded_texts:\n",
        "            encoded_length = len(encoded_text)\n",
        "            if encoded_length > max_length:\n",
        "                max_length = encoded_length\n",
        "        return max_length"
      ],
      "metadata": {
        "id": "t_j9FFjX7C9J"
      },
      "execution_count": 203,
      "outputs": []
    },
    {
      "cell_type": "markdown",
      "source": [
        "Step 1: Pre-tokenize texts\n",
        "\n",
        "Step 2: Truncate sequences if they are longer than max_length\n",
        "\n",
        "Step 3: Pad sequences to the longest sequence\n",
        "\n",
        "The SpamDataset class loads data from the CSV files we created earlier, tokenizes the text using the GPT-2 tokenizer from tiktoken and allows us to pad or truncate the sequences to a uniform length determined by either the longest sequence or a predefined maximum length.\n",
        "\n",
        "This ensures each input tensor is of the same size, which is necessary to create the batches in the training data loader we implement next:"
      ],
      "metadata": {
        "id": "qu5Y4YK17JuB"
      }
    },
    {
      "cell_type": "code",
      "source": [
        "train_dataset = SpamDataset(\n",
        "    csv_file=\"train.csv\",\n",
        "    max_length=None,\n",
        "    tokenizer=tokenizer\n",
        ")\n",
        "\n",
        "print(train_dataset.max_length)"
      ],
      "metadata": {
        "colab": {
          "base_uri": "https://localhost:8080/"
        },
        "id": "PMYvjCaH7Lz4",
        "outputId": "167b6b5a-bbcb-4942-882f-5c1bca5abdca"
      },
      "execution_count": 204,
      "outputs": [
        {
          "output_type": "stream",
          "name": "stdout",
          "text": [
            "120\n"
          ]
        }
      ]
    },
    {
      "cell_type": "markdown",
      "source": [
        "The code outputs 120, showing that the longest sequence contains no more than 120 tokens, a common length for text messages.\n",
        "\n",
        "It's worth noting that the model can handle sequences of up to 1,024 tokens, given its context length limit.\n",
        "\n",
        "If your dataset includes longer texts, you can pass max_length=1024 when creating the training dataset in the preceding code to ensure that the data does not exceed the model's supported input (context) length.\n",
        "\n",
        "Next, we pad the validation and test sets to match the length of the longest training sequence.\n",
        "\n",
        "It's important to note that any validation and test set samples exceeding the length of the longest training example are truncated using encoded_text[:self.max_length] in the SpamDataset code we defined earlier.\n",
        "\n",
        "This truncation is optional; you could also set max_length=None for both validation and test sets, provided there are no sequences exceeding 1,024 tokens in these sets"
      ],
      "metadata": {
        "id": "eN1162TJ7Qdz"
      }
    },
    {
      "cell_type": "code",
      "source": [
        "val_dataset = SpamDataset(\n",
        "    csv_file=\"validation.csv\",\n",
        "    max_length=train_dataset.max_length,\n",
        "    tokenizer=tokenizer\n",
        ")\n",
        "test_dataset = SpamDataset(\n",
        "    csv_file=\"test.csv\",\n",
        "    max_length=train_dataset.max_length,\n",
        "    tokenizer=tokenizer\n",
        ")"
      ],
      "metadata": {
        "id": "i6E_PGlB7RE5"
      },
      "execution_count": 205,
      "outputs": []
    },
    {
      "cell_type": "markdown",
      "source": [
        "Using the datasets as inputs, we can instantiate the data loaders similarly to what we did earlier.\n",
        "\n",
        "However, in this case, the targets represent class labels rather than the next tokens in the text.\n",
        "\n",
        "For instance, choosing a batch size of 8, each batch will consist of 8 training examples of length 120 and the corresponding class label of each example."
      ],
      "metadata": {
        "id": "8lSdFrMk7VWM"
      }
    },
    {
      "cell_type": "code",
      "source": [
        "from torch.utils.data import DataLoader\n",
        "\n",
        "num_workers = 0\n",
        "batch_size = 8\n",
        "\n",
        "torch.manual_seed(123)\n",
        "\n",
        "train_loader = DataLoader(\n",
        "    dataset=train_dataset,\n",
        "    batch_size=batch_size,\n",
        "    shuffle=True,\n",
        "    num_workers=num_workers,\n",
        "    drop_last=True,\n",
        ")\n",
        "\n",
        "val_loader = DataLoader(\n",
        "    dataset=val_dataset,\n",
        "    batch_size=batch_size,\n",
        "    num_workers=num_workers,\n",
        "    drop_last=False,\n",
        ")\n",
        "\n",
        "test_loader = DataLoader(\n",
        "    dataset=test_dataset,\n",
        "    batch_size=batch_size,\n",
        "    num_workers=num_workers,\n",
        "    drop_last=False,\n",
        ")"
      ],
      "metadata": {
        "id": "J-7qn2Io7V8D"
      },
      "execution_count": 206,
      "outputs": []
    },
    {
      "cell_type": "markdown",
      "source": [
        "To ensure that the data loaders are working and are indeed returning batches of the expected size, we iterate over the training loader and then print the tensor dimensions of the last batch:"
      ],
      "metadata": {
        "id": "2JbqFtOY7aBe"
      }
    },
    {
      "cell_type": "code",
      "source": [
        "print(\"Train loader:\")\n",
        "for input_batch, target_batch in train_loader:\n",
        "    pass\n",
        "\n",
        "print(\"Input batch dimensions:\", input_batch.shape)\n",
        "print(\"Label batch dimensions\", target_batch.shape)"
      ],
      "metadata": {
        "colab": {
          "base_uri": "https://localhost:8080/"
        },
        "id": "qXzwh__-7anf",
        "outputId": "75bd1588-db12-4bd3-8c7e-360a5db5c127"
      },
      "execution_count": 207,
      "outputs": [
        {
          "output_type": "stream",
          "name": "stdout",
          "text": [
            "Train loader:\n",
            "Input batch dimensions: torch.Size([8, 120])\n",
            "Label batch dimensions torch.Size([8])\n"
          ]
        }
      ]
    },
    {
      "cell_type": "markdown",
      "source": [
        "As we can see, the input batches consist of 8 training examples with 120 tokens each, as expected.\n",
        "\n",
        "The label tensor stores the class labels corresponding to the 8 training examples.\n",
        "\n",
        "Lastly, to get an idea of the dataset size, let's print the total number of batches in each dataset:"
      ],
      "metadata": {
        "id": "VE7EsUbB7e9M"
      }
    },
    {
      "cell_type": "code",
      "source": [
        "print(f\"{len(train_loader)} training batches\")\n",
        "print(f\"{len(val_loader)} validation batches\")\n",
        "print(f\"{len(test_loader)} test batches\")"
      ],
      "metadata": {
        "colab": {
          "base_uri": "https://localhost:8080/"
        },
        "id": "Rlu0gymA7fln",
        "outputId": "f39ff918-f14d-42d1-ac43-d241f8cc352a"
      },
      "execution_count": 208,
      "outputs": [
        {
          "output_type": "stream",
          "name": "stdout",
          "text": [
            "130 training batches\n",
            "19 validation batches\n",
            "38 test batches\n"
          ]
        }
      ]
    },
    {
      "cell_type": "markdown",
      "source": [
        "This concludes the data preparation. Next, we will prepare the model for finetuning."
      ],
      "metadata": {
        "id": "IUS1LCz_7jeP"
      }
    },
    {
      "cell_type": "markdown",
      "source": [
        "# INITIALIZING A MODEL WITH PRETRAINED WEIGHTS"
      ],
      "metadata": {
        "id": "mMzLuSxs8cq1"
      }
    },
    {
      "cell_type": "markdown",
      "source": [
        "In this section, we prepare the model we will use for the classification-finetuning to identify spam messages.\n",
        "\n",
        "We start with initializing the pretrained model we worked with in the previous chapter"
      ],
      "metadata": {
        "id": "F27lFWyU8onp"
      }
    },
    {
      "cell_type": "code",
      "source": [
        "CHOOSE_MODEL = \"gpt2-small (124M)\"\n",
        "INPUT_PROMPT = \"Every effort moves\"\n",
        "\n",
        "BASE_CONFIG = {\n",
        "    \"vocab_size\": 50257,     # Vocabulary size\n",
        "    \"context_length\": 1024,  # Context length\n",
        "    \"drop_rate\": 0.0,        # Dropout rate\n",
        "    \"qkv_bias\": True         # Query-key-value bias\n",
        "}\n",
        "\n",
        "model_configs = {\n",
        "    \"gpt2-small (124M)\": {\"emb_dim\": 768, \"n_layers\": 12, \"n_heads\": 12},\n",
        "    \"gpt2-medium (355M)\": {\"emb_dim\": 1024, \"n_layers\": 24, \"n_heads\": 16},\n",
        "    \"gpt2-large (774M)\": {\"emb_dim\": 1280, \"n_layers\": 36, \"n_heads\": 20},\n",
        "    \"gpt2-xl (1558M)\": {\"emb_dim\": 1600, \"n_layers\": 48, \"n_heads\": 25},\n",
        "}\n",
        "\n",
        "BASE_CONFIG.update(model_configs[CHOOSE_MODEL])\n",
        "\n",
        "assert train_dataset.max_length <= BASE_CONFIG[\"context_length\"], (\n",
        "    f\"Dataset length {train_dataset.max_length} exceeds model's context \"\n",
        "    f\"length {BASE_CONFIG['context_length']}. Reinitialize data sets with \"\n",
        "    f\"`max_length={BASE_CONFIG['context_length']}`\"\n",
        ")"
      ],
      "metadata": {
        "id": "USN8AYVK8pSP"
      },
      "execution_count": 209,
      "outputs": []
    },
    {
      "cell_type": "markdown",
      "source": [
        "Next, we import the download_and_load_gpt function from the gpt_download3.py file we downloaded earlier.\n",
        "\n",
        "Furthermore, we also reuse the GPTModel class and load_weights_into_gpt function from chapter 5 to load the downloaded weights into the GPT model:"
      ],
      "metadata": {
        "id": "X3SVwhqy8tyH"
      }
    },
    {
      "cell_type": "code",
      "source": [
        "model_size = CHOOSE_MODEL.split(\" \")[-1].lstrip(\"(\").rstrip(\")\")\n",
        "\n",
        "from gpt_download3 import download_and_load_gpt2\n",
        "\n",
        "settings, params = download_and_load_gpt2(model_size=model_size, models_dir=\"gpt2\")\n",
        "\n",
        "model = GPTModel(BASE_CONFIG)\n",
        "load_weights_into_gpt(model, params)\n",
        "model.eval();"
      ],
      "metadata": {
        "colab": {
          "base_uri": "https://localhost:8080/"
        },
        "id": "Ks1VlaOc8vx7",
        "outputId": "6dca1c46-e2a4-4a93-cd4d-0110cbe10583"
      },
      "execution_count": 210,
      "outputs": [
        {
          "output_type": "stream",
          "name": "stderr",
          "text": [
            "/usr/local/lib/python3.11/dist-packages/urllib3/connectionpool.py:1097: InsecureRequestWarning: Unverified HTTPS request is being made to host 'openaipublic.blob.core.windows.net'. Adding certificate verification is strongly advised. See: https://urllib3.readthedocs.io/en/latest/advanced-usage.html#tls-warnings\n",
            "  warnings.warn(\n"
          ]
        },
        {
          "output_type": "stream",
          "name": "stdout",
          "text": [
            "File already exists and is up-to-date: gpt2/124M/checkpoint\n"
          ]
        },
        {
          "output_type": "stream",
          "name": "stderr",
          "text": [
            "/usr/local/lib/python3.11/dist-packages/urllib3/connectionpool.py:1097: InsecureRequestWarning: Unverified HTTPS request is being made to host 'openaipublic.blob.core.windows.net'. Adding certificate verification is strongly advised. See: https://urllib3.readthedocs.io/en/latest/advanced-usage.html#tls-warnings\n",
            "  warnings.warn(\n"
          ]
        },
        {
          "output_type": "stream",
          "name": "stdout",
          "text": [
            "File already exists and is up-to-date: gpt2/124M/encoder.json\n"
          ]
        },
        {
          "output_type": "stream",
          "name": "stderr",
          "text": [
            "/usr/local/lib/python3.11/dist-packages/urllib3/connectionpool.py:1097: InsecureRequestWarning: Unverified HTTPS request is being made to host 'openaipublic.blob.core.windows.net'. Adding certificate verification is strongly advised. See: https://urllib3.readthedocs.io/en/latest/advanced-usage.html#tls-warnings\n",
            "  warnings.warn(\n"
          ]
        },
        {
          "output_type": "stream",
          "name": "stdout",
          "text": [
            "File already exists and is up-to-date: gpt2/124M/hparams.json\n"
          ]
        },
        {
          "output_type": "stream",
          "name": "stderr",
          "text": [
            "/usr/local/lib/python3.11/dist-packages/urllib3/connectionpool.py:1097: InsecureRequestWarning: Unverified HTTPS request is being made to host 'openaipublic.blob.core.windows.net'. Adding certificate verification is strongly advised. See: https://urllib3.readthedocs.io/en/latest/advanced-usage.html#tls-warnings\n",
            "  warnings.warn(\n"
          ]
        },
        {
          "output_type": "stream",
          "name": "stdout",
          "text": [
            "File already exists and is up-to-date: gpt2/124M/model.ckpt.data-00000-of-00001\n"
          ]
        },
        {
          "output_type": "stream",
          "name": "stderr",
          "text": [
            "/usr/local/lib/python3.11/dist-packages/urllib3/connectionpool.py:1097: InsecureRequestWarning: Unverified HTTPS request is being made to host 'openaipublic.blob.core.windows.net'. Adding certificate verification is strongly advised. See: https://urllib3.readthedocs.io/en/latest/advanced-usage.html#tls-warnings\n",
            "  warnings.warn(\n"
          ]
        },
        {
          "output_type": "stream",
          "name": "stdout",
          "text": [
            "File already exists and is up-to-date: gpt2/124M/model.ckpt.index\n"
          ]
        },
        {
          "output_type": "stream",
          "name": "stderr",
          "text": [
            "/usr/local/lib/python3.11/dist-packages/urllib3/connectionpool.py:1097: InsecureRequestWarning: Unverified HTTPS request is being made to host 'openaipublic.blob.core.windows.net'. Adding certificate verification is strongly advised. See: https://urllib3.readthedocs.io/en/latest/advanced-usage.html#tls-warnings\n",
            "  warnings.warn(\n"
          ]
        },
        {
          "output_type": "stream",
          "name": "stdout",
          "text": [
            "File already exists and is up-to-date: gpt2/124M/model.ckpt.meta\n"
          ]
        },
        {
          "output_type": "stream",
          "name": "stderr",
          "text": [
            "/usr/local/lib/python3.11/dist-packages/urllib3/connectionpool.py:1097: InsecureRequestWarning: Unverified HTTPS request is being made to host 'openaipublic.blob.core.windows.net'. Adding certificate verification is strongly advised. See: https://urllib3.readthedocs.io/en/latest/advanced-usage.html#tls-warnings\n",
            "  warnings.warn(\n"
          ]
        },
        {
          "output_type": "stream",
          "name": "stdout",
          "text": [
            "File already exists and is up-to-date: gpt2/124M/vocab.bpe\n"
          ]
        }
      ]
    },
    {
      "cell_type": "markdown",
      "source": [
        "To ensure that the model was loaded correctly, let's double-check that it generates coherent text"
      ],
      "metadata": {
        "id": "E4POjrsy8z71"
      }
    },
    {
      "cell_type": "code",
      "source": [
        "text_1 = \"Every effort moves you\"\n",
        "\n",
        "token_ids = generate_text_simple(\n",
        "    model=model,\n",
        "    idx=text_to_token_ids(text_1, tokenizer),\n",
        "    max_new_tokens=15,\n",
        "    context_size=BASE_CONFIG[\"context_length\"]\n",
        ")\n",
        "\n",
        "print(token_ids_to_text(token_ids, tokenizer))"
      ],
      "metadata": {
        "id": "wpUiOKci81cb"
      },
      "execution_count": null,
      "outputs": []
    },
    {
      "cell_type": "markdown",
      "source": [
        "Now, before we start finetuning the model as a spam classifier, let's see if the model can perhaps already classify spam messages by by prompting it with instructions:"
      ],
      "metadata": {
        "id": "E0EL58CZ85kr"
      }
    },
    {
      "cell_type": "code",
      "source": [
        "text_2 = (\n",
        "    \"Is the following text 'spam'? Answer with 'yes' or 'no':\"\n",
        "    \" 'You are a winner you have been specially\"\n",
        "    \" selected to receive $1000 cash or a $2000 award.'\"\n",
        ")\n",
        "\n",
        "token_ids = generate_text_simple(\n",
        "    model=model,\n",
        "    idx=text_to_token_ids(text_2, tokenizer),\n",
        "    max_new_tokens=23,\n",
        "    context_size=BASE_CONFIG[\"context_length\"]\n",
        ")\n",
        "\n",
        "print(token_ids_to_text(token_ids, tokenizer))"
      ],
      "metadata": {
        "id": "2OmEbyya86Si"
      },
      "execution_count": null,
      "outputs": []
    },
    {
      "cell_type": "markdown",
      "source": [
        "Based on the output, it's apparent that the model struggles with following instructions.\n",
        "\n",
        "This is anticipated, as it has undergone only pretraining and lacks instruction-finetuning, which we will explore in the upcoming chapter\n",
        "\n",
        "The next section prepares the model for classification-finetuning"
      ],
      "metadata": {
        "id": "SU27SqnY8-3-"
      }
    },
    {
      "cell_type": "markdown",
      "source": [
        "# ADDING A CLASSIFICATION HEAD"
      ],
      "metadata": {
        "id": "zig93YCF9BkJ"
      }
    },
    {
      "cell_type": "markdown",
      "source": [
        "In this section, we modify the pretrained large language model to prepare it for classification-finetuning.\n",
        "\n",
        "To do this, we replace the original output layer, which maps the hidden representation to a vocabulary of 50,257, with a smaller output layer that maps to two classes: 0 (\"not spam\") and 1 (\"spam\"),\n",
        "\n",
        "We could technically use a single output node since we are dealing with a binary classification task.\n",
        "\n",
        "However, this would require modifying the loss function.\n",
        "\n",
        "Therefore, we choose a more general approach where the number of output nodes matches the number of classes.\n",
        "\n",
        "For example, for a 3-class problem, such as classifying news articles as \"Technology\", \"Sports\", or \"Politics\", we would use three output nodes, and so forth.\n",
        "\n",
        "Before we attempt to construct the modified architecture, let's print the model architecture via print(model), which prints the following:"
      ],
      "metadata": {
        "id": "YWn7siRh9FaK"
      }
    },
    {
      "cell_type": "code",
      "source": [
        "print(model)"
      ],
      "metadata": {
        "id": "77hfHb079IMT"
      },
      "execution_count": null,
      "outputs": []
    },
    {
      "cell_type": "markdown",
      "source": [
        "Above, we can see the GPT architecture neatly laid out.\n",
        "\n",
        "As discussed earlier, the GPTModel consists of embedding layers followed by 12 identical transformer blocks (only the last block is shown for brevity), followed by a final LayerNorm and the output layer, out_head.\n",
        "\n",
        "Next, we replace the out_head with a new output layer, as illustrated in figure 6.9, that we will finetune.\n",
        "\n",
        "To get the model ready for classification-finetuning, we first freeze the model, meaning that we make all layers non-trainable:"
      ],
      "metadata": {
        "id": "lVD3m5iH9Ncg"
      }
    },
    {
      "cell_type": "code",
      "source": [
        "for param in model.parameters():\n",
        "    param.requires_grad = False"
      ],
      "metadata": {
        "id": "7Md8UH6E9OBU"
      },
      "execution_count": 214,
      "outputs": []
    },
    {
      "cell_type": "markdown",
      "source": [
        "Then, we replace the output layer (model.out_head), which originally maps the layer inputs to 50,257 dimensions (the size of the vocabulary):"
      ],
      "metadata": {
        "id": "1IF7lDV29QWH"
      }
    },
    {
      "cell_type": "code",
      "source": [
        "torch.manual_seed(123)\n",
        "\n",
        "num_classes = 2\n",
        "model.out_head = torch.nn.Linear(in_features=BASE_CONFIG[\"emb_dim\"], out_features=num_classes)"
      ],
      "metadata": {
        "id": "_4MF-erT9R7-"
      },
      "execution_count": null,
      "outputs": []
    },
    {
      "cell_type": "markdown",
      "source": [
        "Note that in the preceding code, we use BASE_CONFIG[\"emb_dim\"], which is equal to 768 in the \"gpt2-small (124M)\" model, to keep the code below more general.\n",
        "\n",
        "This means we can also use the same code to work with the larger GPT-2 model variants.\n",
        "\n",
        "This new model.out_head output layer has its requires_grad attribute set to True by default, which means that it's the only layer in the model that will be updated during training.\n",
        "\n",
        "This new model.out_head output layer has its requires_grad attribute set to True by default, which means that it's the only layer in the model that will be updated during training.\n",
        "\n",
        "Additionally, we configure the last transformer block and the final LayerNorm module, which connects this block to the output layer, to be trainable"
      ],
      "metadata": {
        "id": "nQu5pRxD9XAs"
      }
    },
    {
      "cell_type": "code",
      "source": [
        "for param in model.trf_blocks[-1].parameters():\n",
        "    param.requires_grad = True\n",
        "\n",
        "for param in model.final_norm.parameters():\n",
        "    param.requires_grad = True"
      ],
      "metadata": {
        "id": "vgGnECDu9XuM"
      },
      "execution_count": null,
      "outputs": []
    },
    {
      "cell_type": "markdown",
      "source": [
        "Even though we added a new output layer and marked certain layers as trainable or nontrainable, we can still use this model in a similar way to previous chapters.\n",
        "\n",
        "For instance, we can feed it an example text identical to how we have done it in earlier chapters. For example, consider the following example text:"
      ],
      "metadata": {
        "id": "Lp1k6kbN9aMV"
      }
    },
    {
      "cell_type": "code",
      "source": [
        "inputs = tokenizer.encode(\"Do you have time\")\n",
        "inputs = torch.tensor(inputs).unsqueeze(0)\n",
        "print(\"Inputs:\", inputs)\n",
        "print(\"Inputs dimensions:\", inputs.shape) # shape: (batch_size, num_tokens)"
      ],
      "metadata": {
        "id": "Ff7dL49-9b07"
      },
      "execution_count": null,
      "outputs": []
    },
    {
      "cell_type": "markdown",
      "source": [
        "Then, we can pass the encoded token IDs to the model as usual:"
      ],
      "metadata": {
        "id": "a3cbGk8e9eyX"
      }
    },
    {
      "cell_type": "code",
      "source": [
        "with torch.no_grad():\n",
        "    outputs = model(inputs)\n",
        "\n",
        "print(\"Outputs:\\n\", outputs)\n",
        "print(\"Outputs dimensions:\", outputs.shape) # shape: (batch_size, num_tokens, num_classes)"
      ],
      "metadata": {
        "id": "3czd8grw9gpj"
      },
      "execution_count": null,
      "outputs": []
    },
    {
      "cell_type": "markdown",
      "source": [
        "In earlier chapters, a similar input would have produced an output tensor of [1, 4, 50257], where 50,257 represents the vocabulary size.\n",
        "\n",
        "As in previous chapters, the number of output rows corresponds to the number of input tokens (in this case, 4).\n",
        "\n",
        "However, each output's embedding dimension (the number of columns) is now reduced to 2 instead of 50,257 since we replaced the output layer of the model.\n",
        "\n",
        "Remember that we are interested in finetuning this model so that it returns a class label that indicates whether a model input is spam or not spam.\n",
        "\n",
        "To achieve this, we don't need to finetune all 4 output rows but can focus on a single output token.\n",
        "\n",
        "In particular, we will focus on the last row corresponding to the last output token\n",
        "\n",
        "To extract the last output token, illustrated in figure 6.11, from the output tensor, we use the following code:"
      ],
      "metadata": {
        "id": "-2WQn-1C9jsG"
      }
    },
    {
      "cell_type": "code",
      "source": [
        "print(\"Last output token:\", outputs[:, -1, :])"
      ],
      "metadata": {
        "colab": {
          "base_uri": "https://localhost:8080/"
        },
        "id": "luhyLpsj9nUW",
        "outputId": "4e214416-4c47-4ebb-be28-9a51880a9869"
      },
      "execution_count": 219,
      "outputs": [
        {
          "output_type": "stream",
          "name": "stdout",
          "text": [
            "Last output token: tensor([[-3.5983,  3.9902]])\n"
          ]
        }
      ]
    },
    {
      "cell_type": "markdown",
      "source": [
        "Having modified the model, the next section will detail the process of transforming the last token into class label predictions and calculate the model's initial prediction accuracy.\n",
        "\n",
        "Following this, we will finetune the model for the spam classification task in the subsequent section."
      ],
      "metadata": {
        "id": "r-0zIQJ89qfX"
      }
    },
    {
      "cell_type": "markdown",
      "source": [
        "# CALCULATING THE CLASSIFICATION LOSS AND ACCURACY"
      ],
      "metadata": {
        "id": "dpSwBCjG9s6P"
      }
    },
    {
      "cell_type": "markdown",
      "source": [
        "So far in this chapter, we have prepared the dataset, loaded a pretrained model, and modified it for classification-finetuning.\n",
        "\n",
        "Before we proceed with the finetuning itself, only one small part remains: implementing the model evaluation functions used during finetuning,\n",
        "\n",
        "Before implementing the evaluation utilities, let's briefly discuss how we convert the model outputs into class label predictions.\n",
        "\n",
        "In the previous chapter, we computed the token ID of the next token generated by the LLM by converting the 50,257 outputs into probabilities via the softmax function and then returning the position of the highest probability via the argmax function.\n",
        "\n",
        "In this chapter, we take the same approach to calculate whether the model outputs a \"spam\" or \"not spam\" prediction for a given input, with the only difference being that we work with 2-dimensional instead of 50,257-dimensional outputs.\n",
        "\n",
        "Let's consider the last token output from the previous section:"
      ],
      "metadata": {
        "id": "erv5PxsG9zI_"
      }
    },
    {
      "cell_type": "code",
      "source": [
        "print(\"Last output token:\", outputs[:, -1, :])"
      ],
      "metadata": {
        "colab": {
          "base_uri": "https://localhost:8080/"
        },
        "id": "tjBAFWD09zyP",
        "outputId": "4ff3dd22-8d38-4f08-e3c6-93d9267571dd"
      },
      "execution_count": 220,
      "outputs": [
        {
          "metadata": {
            "tags": null
          },
          "name": "stdout",
          "output_type": "stream",
          "text": [
            "Last output token: tensor([[-3.5983,  3.9902]])\n"
          ]
        }
      ]
    },
    {
      "cell_type": "markdown",
      "source": [
        "We can obtain the class label via the following code:"
      ],
      "metadata": {
        "id": "FHSOPG0p923p"
      }
    },
    {
      "cell_type": "code",
      "source": [
        "probas = torch.softmax(outputs[:, -1, :], dim=-1)\n",
        "label = torch.argmax(probas)\n",
        "print(\"Class label:\", label.item())"
      ],
      "metadata": {
        "colab": {
          "base_uri": "https://localhost:8080/"
        },
        "id": "0KQoahNp94aH",
        "outputId": "54e498e5-5009-43aa-bca2-5256d43665d4"
      },
      "execution_count": 221,
      "outputs": [
        {
          "metadata": {
            "tags": null
          },
          "name": "stdout",
          "output_type": "stream",
          "text": [
            "Class label: 1\n"
          ]
        }
      ]
    },
    {
      "cell_type": "markdown",
      "source": [
        "In this case, the code returns 1, meaning the model predicts that the input text is \"spam.\"\n",
        "\n",
        "Using the softmax function here is optional because the largest outputs directly correspond to the highest probability scores.\n",
        "\n",
        "Hence, we can simplify the code as follows, without using softmax:"
      ],
      "metadata": {
        "id": "T7u0oR6S99aL"
      }
    },
    {
      "cell_type": "code",
      "source": [
        "logits = outputs[:, -1, :]\n",
        "label = torch.argmax(logits)\n",
        "print(\"Class label:\", label.item())"
      ],
      "metadata": {
        "colab": {
          "base_uri": "https://localhost:8080/"
        },
        "id": "rDwwNgA8-AMF",
        "outputId": "8e83376e-159d-47a2-e689-6786e54b16fa"
      },
      "execution_count": 222,
      "outputs": [
        {
          "metadata": {
            "tags": null
          },
          "name": "stdout",
          "output_type": "stream",
          "text": [
            "Class label: 1\n"
          ]
        }
      ]
    },
    {
      "cell_type": "markdown",
      "source": [
        "This concept can be used to compute the so-called classification accuracy, which measures the percentage of correct predictions across a dataset.\n",
        "To determine the classification accuracy, we apply the argmax-based prediction code to all examples in the dataset and calculate the proportion of correct predictions by defining a calc_accuracy_loader function:"
      ],
      "metadata": {
        "id": "IvDaTxnw-DN2"
      }
    },
    {
      "cell_type": "code",
      "source": [
        "def calc_accuracy_loader(data_loader, model, device, num_batches=None):\n",
        "    model.eval()\n",
        "    correct_predictions, num_examples = 0, 0\n",
        "\n",
        "    if num_batches is None:\n",
        "        num_batches = len(data_loader)\n",
        "    else:\n",
        "        num_batches = min(num_batches, len(data_loader))\n",
        "    for i, (input_batch, target_batch) in enumerate(data_loader):\n",
        "        if i < num_batches:\n",
        "            input_batch, target_batch = input_batch.to(device), target_batch.to(device)\n",
        "\n",
        "            with torch.no_grad():\n",
        "                logits = model(input_batch)[:, -1, :]  # Logits of last output token\n",
        "            predicted_labels = torch.argmax(logits, dim=-1)\n",
        "\n",
        "            num_examples += predicted_labels.shape[0]\n",
        "            correct_predictions += (predicted_labels == target_batch).sum().item()\n",
        "        else:\n",
        "            break\n",
        "    return correct_predictions / num_examples"
      ],
      "metadata": {
        "id": "HjQD05Ee-DzJ"
      },
      "execution_count": 223,
      "outputs": []
    },
    {
      "cell_type": "markdown",
      "source": [
        "Let's use the function to determine the classification accuracies across various datasets estimated from 10 batches for efficiency:"
      ],
      "metadata": {
        "id": "l5OrKBsl-HcV"
      }
    },
    {
      "cell_type": "code",
      "source": [
        "device = torch.device(\"cuda\" if torch.cuda.is_available() else \"cpu\")\n",
        "\n",
        "# Note:\n",
        "# Uncommenting the following lines will allow the code to run on Apple Silicon chips, if applicable,\n",
        "# which is approximately 2x faster than on an Apple CPU (as measured on an M3 MacBook Air).\n",
        "# As of this writing, in PyTorch 2.4, the results obtained via CPU and MPS were identical.\n",
        "# However, in earlier versions of PyTorch, you may observe different results when using MPS.\n",
        "\n",
        "#if torch.cuda.is_available():\n",
        "#    device = torch.device(\"cuda\")\n",
        "#elif torch.backends.mps.is_available():\n",
        "#    device = torch.device(\"mps\")\n",
        "#else:\n",
        "#    device = torch.device(\"cpu\")\n",
        "#print(f\"Running on {device} device.\")\n",
        "\n",
        "model.to(device) # no assignment model = model.to(device) necessary for nn.Module classes\n",
        "\n",
        "torch.manual_seed(123) # For reproducibility due to the shuffling in the training data loader\n",
        "\n",
        "train_accuracy = calc_accuracy_loader(train_loader, model, device, num_batches=10)\n",
        "val_accuracy = calc_accuracy_loader(val_loader, model, device, num_batches=10)\n",
        "test_accuracy = calc_accuracy_loader(test_loader, model, device, num_batches=10)\n",
        "\n",
        "print(f\"Training accuracy: {train_accuracy*100:.2f}%\")\n",
        "print(f\"Validation accuracy: {val_accuracy*100:.2f}%\")\n",
        "print(f\"Test accuracy: {test_accuracy*100:.2f}%\")"
      ],
      "metadata": {
        "id": "lm5mojx5-ICr"
      },
      "execution_count": null,
      "outputs": []
    },
    {
      "cell_type": "markdown",
      "source": [
        "As we can see, the prediction accuracies are near a random prediction, which would be 50% in this case.\n",
        "\n",
        "To improve the prediction accuracies, we need to finetune the model.\n",
        "\n",
        "Classification accuracy is not a differentiable function, so we use cross entropy loss as a proxy to maximize accuracy.\n",
        "\n",
        "This is the same cross entropy loss discussed earlier.\n",
        "\n",
        "Accordingly, the calc_loss_batch function remains the same as in earlier, with one adjustment: we focus on optimizing only the last token, model(input_batch)[:, -1, :], rather than all tokens, model(input_batch):"
      ],
      "metadata": {
        "id": "HqVeqJy7-Lyd"
      }
    },
    {
      "cell_type": "code",
      "source": [
        "def calc_loss_batch(input_batch, target_batch, model, device):\n",
        "    input_batch, target_batch = input_batch.to(device), target_batch.to(device)\n",
        "    logits = model(input_batch)[:, -1, :]  # Logits of last output token\n",
        "    loss = torch.nn.functional.cross_entropy(logits, target_batch)\n",
        "    return loss"
      ],
      "metadata": {
        "id": "c73LK6WU-MXR"
      },
      "execution_count": null,
      "outputs": []
    },
    {
      "cell_type": "markdown",
      "source": [
        "We use the calc_loss_batch function to compute the loss for a single batch obtained from the previously defined data loaders. To calculate the loss for all batches in a data loader, we define the calc_loss_loader function"
      ],
      "metadata": {
        "id": "LtwB5n63-Pm7"
      }
    },
    {
      "cell_type": "code",
      "source": [
        "# Same as in chapter 5\n",
        "def calc_loss_loader(data_loader, model, device, num_batches=None):\n",
        "    total_loss = 0.\n",
        "    if len(data_loader) == 0:\n",
        "        return float(\"nan\")\n",
        "    elif num_batches is None:\n",
        "        num_batches = len(data_loader)\n",
        "    else:\n",
        "        # Reduce the number of batches to match the total number of batches in the data loader\n",
        "        # if num_batches exceeds the number of batches in the data loader\n",
        "        num_batches = min(num_batches, len(data_loader))\n",
        "    for i, (input_batch, target_batch) in enumerate(data_loader):\n",
        "        if i < num_batches:\n",
        "            loss = calc_loss_batch(input_batch, target_batch, model, device)\n",
        "            total_loss += loss.item()\n",
        "        else:\n",
        "            break\n",
        "    return total_loss / num_batches"
      ],
      "metadata": {
        "id": "UdHuYCV2-SMS"
      },
      "execution_count": null,
      "outputs": []
    },
    {
      "cell_type": "markdown",
      "source": [
        "Similar to calculating the training accuracy, we now compute the initial loss for each data set:"
      ],
      "metadata": {
        "id": "U-FjYKbQ-WVV"
      }
    },
    {
      "cell_type": "code",
      "source": [
        "with torch.no_grad(): # Disable gradient tracking for efficiency because we are not training, yet\n",
        "    train_loss = calc_loss_loader(train_loader, model, device, num_batches=5)\n",
        "    val_loss = calc_loss_loader(val_loader, model, device, num_batches=5)\n",
        "    test_loss = calc_loss_loader(test_loader, model, device, num_batches=5)\n",
        "\n",
        "print(f\"Training loss: {train_loss:.3f}\")\n",
        "print(f\"Validation loss: {val_loss:.3f}\")\n",
        "print(f\"Test loss: {test_loss:.3f}\")"
      ],
      "metadata": {
        "id": "C40xmIwM-YWS"
      },
      "execution_count": null,
      "outputs": []
    },
    {
      "cell_type": "markdown",
      "source": [
        "In the next section, we will implement a training function to finetune the model, which means adjusting the model to minimize the training set loss.\n",
        "\n",
        "Minimizing the training set loss will help increase the classification accuracy, our overall goal"
      ],
      "metadata": {
        "id": "gPzLC2kF-13k"
      }
    },
    {
      "cell_type": "markdown",
      "source": [
        "# FINETUNING THE MODEL ON SUPERVISED DATA"
      ],
      "metadata": {
        "id": "Qd_QerBH-43Z"
      }
    },
    {
      "cell_type": "markdown",
      "source": [
        "In this section, we define and use the training function to finetune the pretrained LLM and improve its spam classification accuracy.\n",
        "\n",
        "The training loop is the same overall training loop we used earlier, with the only difference being that we calculate the classification accuracy instead of generating a sample text for evaluating the model.\n",
        "\n",
        "The training function also closely mirrors the train_model_simple function used for pretraining the model earlier.\n",
        "\n",
        "The only two distinctions are that we now track the number of training examples seen (examples_seen) instead of the number of tokens, and we calculate the accuracy after each epoch instead of printing a sample text:"
      ],
      "metadata": {
        "id": "xJGsXs8G--x1"
      }
    },
    {
      "cell_type": "markdown",
      "source": [
        "Step 1: Set model to training mode\n",
        "\n",
        "Step 2: Reset loss gradients from previous batch iteration\n",
        "\n",
        "Step 3: Calculate loss gradients\n",
        "\n",
        "Step 4: Update model weights using loss gradients\n",
        "\n",
        "Step 5: New: track examples instead of tokens\n",
        "\n",
        "Step 6: Optional evaluation step\n",
        "\n",
        "Step 7: Calculate accuracy after each epoch"
      ],
      "metadata": {
        "id": "CClQw26b_Bjm"
      }
    },
    {
      "cell_type": "code",
      "source": [
        "# Overall the same as `train_model_simple` in chapter 5\n",
        "def train_classifier_simple(model, train_loader, val_loader, optimizer, device, num_epochs,\n",
        "                            eval_freq, eval_iter):\n",
        "    # Initialize lists to track losses and examples seen\n",
        "    train_losses, val_losses, train_accs, val_accs = [], [], [], []\n",
        "    examples_seen, global_step = 0, -1\n",
        "\n",
        "    # Main training loop\n",
        "    for epoch in range(num_epochs):\n",
        "        model.train()  # Set model to training mode\n",
        "\n",
        "        for input_batch, target_batch in train_loader:\n",
        "            optimizer.zero_grad() # Reset loss gradients from previous batch iteration\n",
        "            loss = calc_loss_batch(input_batch, target_batch, model, device)\n",
        "            loss.backward() # Calculate loss gradients\n",
        "            optimizer.step() # Update model weights using loss gradients\n",
        "            examples_seen += input_batch.shape[0] # New: track examples instead of tokens\n",
        "            global_step += 1\n",
        "\n",
        "            # Optional evaluation step\n",
        "            if global_step % eval_freq == 0:\n",
        "                train_loss, val_loss = evaluate_model(\n",
        "                    model, train_loader, val_loader, device, eval_iter)\n",
        "                train_losses.append(train_loss)\n",
        "                val_losses.append(val_loss)\n",
        "                print(f\"Ep {epoch+1} (Step {global_step:06d}): \"\n",
        "                      f\"Train loss {train_loss:.3f}, Val loss {val_loss:.3f}\")\n",
        "\n",
        "        # Calculate accuracy after each epoch\n",
        "        train_accuracy = calc_accuracy_loader(train_loader, model, device, num_batches=eval_iter)\n",
        "        val_accuracy = calc_accuracy_loader(val_loader, model, device, num_batches=eval_iter)\n",
        "        print(f\"Training accuracy: {train_accuracy*100:.2f}% | \", end=\"\")\n",
        "        print(f\"Validation accuracy: {val_accuracy*100:.2f}%\")\n",
        "        train_accs.append(train_accuracy)\n",
        "        val_accs.append(val_accuracy)\n",
        "\n",
        "    return train_losses, val_losses, train_accs, val_accs, examples_seen"
      ],
      "metadata": {
        "id": "vb1MV7eY-_i5"
      },
      "execution_count": null,
      "outputs": []
    },
    {
      "cell_type": "markdown",
      "source": [
        "The evaluate_model function used in the train_classifier_simple is the same as the one we used earlier."
      ],
      "metadata": {
        "id": "wFAhg7W7_HY1"
      }
    },
    {
      "cell_type": "code",
      "source": [
        "# Same as chapter 5\n",
        "def evaluate_model(model, train_loader, val_loader, device, eval_iter):\n",
        "    model.eval()\n",
        "    with torch.no_grad():\n",
        "        train_loss = calc_loss_loader(train_loader, model, device, num_batches=eval_iter)\n",
        "        val_loss = calc_loss_loader(val_loader, model, device, num_batches=eval_iter)\n",
        "    model.train()\n",
        "    return train_loss, val_loss"
      ],
      "metadata": {
        "id": "LeqMn91o_JMP"
      },
      "execution_count": null,
      "outputs": []
    },
    {
      "cell_type": "markdown",
      "source": [
        "Next, we initialize the optimizer, set the number of training epochs, and initiate the training using the train_classifier_simple function.\n",
        "\n",
        "We will discuss the choice of the the number of training epochs after we evaluated the results.\n",
        "\n",
        "The training takes about 6 minutes on an M3 MacBook Air laptop computer and less than half a minute on a V100 or A100 GPU:"
      ],
      "metadata": {
        "id": "9Huz-nnR_RBd"
      }
    },
    {
      "cell_type": "code",
      "source": [
        "import time\n",
        "\n",
        "start_time = time.time()\n",
        "\n",
        "torch.manual_seed(123)\n",
        "\n",
        "optimizer = torch.optim.AdamW(model.parameters(), lr=5e-5, weight_decay=0.1)\n",
        "\n",
        "num_epochs = 5\n",
        "train_losses, val_losses, train_accs, val_accs, examples_seen = train_classifier_simple(\n",
        "    model, train_loader, val_loader, optimizer, device,\n",
        "    num_epochs=num_epochs, eval_freq=50, eval_iter=5,\n",
        ")\n",
        "\n",
        "end_time = time.time()\n",
        "execution_time_minutes = (end_time - start_time) / 60\n",
        "print(f\"Training completed in {execution_time_minutes:.2f} minutes.\")"
      ],
      "metadata": {
        "id": "lZN3_wha_MRV"
      },
      "execution_count": null,
      "outputs": []
    },
    {
      "cell_type": "markdown",
      "source": [
        "We then use matplotlib to plot the loss function for the training and validation set:"
      ],
      "metadata": {
        "id": "gCCC-pCf_WRP"
      }
    },
    {
      "cell_type": "code",
      "source": [
        "import matplotlib.pyplot as plt\n",
        "\n",
        "def plot_values(epochs_seen, examples_seen, train_values, val_values, label=\"loss\"):\n",
        "    fig, ax1 = plt.subplots(figsize=(5, 3))\n",
        "\n",
        "    # Plot training and validation loss against epochs\n",
        "    ax1.plot(epochs_seen, train_values, label=f\"Training {label}\")\n",
        "    ax1.plot(epochs_seen, val_values, linestyle=\"-.\", label=f\"Validation {label}\")\n",
        "    ax1.set_xlabel(\"Epochs\")\n",
        "    ax1.set_ylabel(label.capitalize())\n",
        "    ax1.legend()\n",
        "\n",
        "    # Create a second x-axis for examples seen\n",
        "    ax2 = ax1.twiny()  # Create a second x-axis that shares the same y-axis\n",
        "    ax2.plot(examples_seen, train_values, alpha=0)  # Invisible plot for aligning ticks\n",
        "    ax2.set_xlabel(\"Examples seen\")\n",
        "\n",
        "    fig.tight_layout()  # Adjust layout to make room\n",
        "    plt.savefig(f\"{label}-plot.pdf\")\n",
        "    plt.show()"
      ],
      "metadata": {
        "id": "VWfOeKfN_YRo"
      },
      "execution_count": null,
      "outputs": []
    },
    {
      "cell_type": "code",
      "source": [
        "epochs_tensor = torch.linspace(0, num_epochs, len(train_losses))\n",
        "examples_seen_tensor = torch.linspace(0, examples_seen, len(train_losses))\n",
        "\n",
        "plot_values(epochs_tensor, examples_seen_tensor, train_losses, val_losses)"
      ],
      "metadata": {
        "id": "8AP5AGVx_f-U"
      },
      "execution_count": null,
      "outputs": []
    },
    {
      "cell_type": "markdown",
      "source": [
        "As we can see based on the sharp downward slope, the model is learning well from the training data, and there is little to no indication of overfitting; that is, there is no noticeable gap between the training and validation set losses).\n",
        "\n",
        "Using the same plot_values function, let's now also plot the classification accuracies:"
      ],
      "metadata": {
        "id": "2yxf0WuO_mK1"
      }
    },
    {
      "cell_type": "code",
      "source": [
        "epochs_tensor = torch.linspace(0, num_epochs, len(train_accs))\n",
        "examples_seen_tensor = torch.linspace(0, examples_seen, len(train_accs))\n",
        "\n",
        "plot_values(epochs_tensor, examples_seen_tensor, train_accs, val_accs, label=\"accuracy\")"
      ],
      "metadata": {
        "id": "j1lBV4CZ_oLR"
      },
      "execution_count": null,
      "outputs": []
    },
    {
      "cell_type": "markdown",
      "source": [
        "Based on the accuracy plot in figure 6.17, the model achieves a relatively high training and validation accuracy after epochs 4 and 5.\n",
        "\n",
        "However, it's important to note that we previously set eval_iter=5 when using the train_classifier_simple function, which means our estimations of training and validation performance were based on only 5 batches for efficiency during training.\n",
        "\n",
        "Now, we will calculate the performance metrics for the training, validation, and test sets across the entire dataset by running the following code, this time without defining the eval_iter value:"
      ],
      "metadata": {
        "id": "yBvnBQ1K_sOo"
      }
    },
    {
      "cell_type": "code",
      "source": [
        "train_accuracy = calc_accuracy_loader(train_loader, model, device)\n",
        "val_accuracy = calc_accuracy_loader(val_loader, model, device)\n",
        "test_accuracy = calc_accuracy_loader(test_loader, model, device)\n",
        "\n",
        "print(f\"Training accuracy: {train_accuracy*100:.2f}%\")\n",
        "print(f\"Validation accuracy: {val_accuracy*100:.2f}%\")\n",
        "print(f\"Test accuracy: {test_accuracy*100:.2f}%\")"
      ],
      "metadata": {
        "id": "8zYO5mc1_s2H"
      },
      "execution_count": null,
      "outputs": []
    },
    {
      "cell_type": "markdown",
      "source": [
        "The training and test set performances are almost identical.\n",
        "\n",
        "A slight discrepancy between the training and test set accuracies suggests minimal overfitting of the training data.\n",
        "\n",
        "Typically, the validation set accuracy is somewhat higher than the test set accuracy because the model development often involves tuning hyperparameters to perform well on the validation set, which might not generalize as effectively to the test set.\n",
        "\n",
        "This situation is common, but the gap could potentially be minimized by adjusting the model's settings, such as increasing the dropout rate (drop_rate) or the weight_decay parameter in the optimizer configuration."
      ],
      "metadata": {
        "id": "PwEAXVwO_wre"
      }
    },
    {
      "cell_type": "markdown",
      "source": [
        "# USING THE LLM AS A SPAM CLASSIFIER"
      ],
      "metadata": {
        "id": "vBDvaE0x_zmD"
      }
    },
    {
      "cell_type": "markdown",
      "source": [
        "After finetuning and evaluating the model in the previous sections, we are now in the final stage of this chapter: using the model to classify spam messages.\n",
        "\n",
        "Finally, let's use the finetuned GPT-based spam classification model.\n",
        "\n",
        "The following classify_review function follows data preprocessing steps similar to those we used in the SpamDataset implemented earlier in this chapter.\n",
        "\n",
        "And then, after processing text into token IDs, the function uses the model to predict an integer class label, similar to what we have implemented earlier, and then returns the corresponding class name:\n",
        "\n",
        "Step 1: Prepare inputs to the model\n",
        "\n",
        "Step 2: Truncate sequences if they too long\n",
        "\n",
        "Step 3: Pad sequences to the longest sequence\n",
        "\n",
        "Step 4: Add batch dimension\n",
        "\n",
        "Step 5: Model inference without gradient tracking\n",
        "\n",
        "Step 6: Logits of the last output token\n",
        "\n",
        "Step 7: Return the classified result"
      ],
      "metadata": {
        "id": "e0tBBWtA_8IU"
      }
    },
    {
      "cell_type": "code",
      "source": [
        "def classify_review(text, model, tokenizer, device, max_length=None, pad_token_id=50256):\n",
        "    model.eval()\n",
        "\n",
        "    # Prepare inputs to the model\n",
        "    input_ids = tokenizer.encode(text)\n",
        "    supported_context_length = model.pos_emb.weight.shape[0]\n",
        "    # Note: In the book, this was originally written as pos_emb.weight.shape[1] by mistake\n",
        "    # It didn't break the code but would have caused unnecessary truncation (to 768 instead of 1024)\n",
        "\n",
        "    # Truncate sequences if they too long\n",
        "    input_ids = input_ids[:min(max_length, supported_context_length)]\n",
        "\n",
        "    # Pad sequences to the longest sequence\n",
        "    input_ids += [pad_token_id] * (max_length - len(input_ids))\n",
        "    input_tensor = torch.tensor(input_ids, device=device).unsqueeze(0) # add batch dimension\n",
        "\n",
        "    # Model inference\n",
        "    with torch.no_grad():\n",
        "        logits = model(input_tensor)[:, -1, :]  # Logits of the last output token\n",
        "    predicted_label = torch.argmax(logits, dim=-1).item()\n",
        "\n",
        "    # Return the classified result\n",
        "    return \"spam\" if predicted_label == 1 else \"not spam\""
      ],
      "metadata": {
        "id": "ZHvzhy3L_13z"
      },
      "execution_count": null,
      "outputs": []
    },
    {
      "cell_type": "markdown",
      "source": [
        "Let's try this classify_review function on an example text:"
      ],
      "metadata": {
        "id": "SbUkSEIoAEDu"
      }
    },
    {
      "cell_type": "code",
      "source": [
        "text_1 = (\n",
        "    \"You are a winner you have been specially\"\n",
        "    \" selected to receive $1000 cash or a $2000 award.\"\n",
        ")\n",
        "\n",
        "print(classify_review(\n",
        "    text_1, model, tokenizer, device, max_length=train_dataset.max_length\n",
        "))"
      ],
      "metadata": {
        "id": "2ak9mkqCAF3k"
      },
      "execution_count": null,
      "outputs": []
    },
    {
      "cell_type": "markdown",
      "source": [
        "The resulting model correctly predicts \"spam\"."
      ],
      "metadata": {
        "id": "zr30vLGJAJmT"
      }
    },
    {
      "cell_type": "code",
      "source": [
        "text_2 = (\n",
        "    \"Hey, just wanted to check if we're still on\"\n",
        "    \" for dinner tonight? Let me know!\"\n",
        ")\n",
        "\n",
        "print(classify_review(\n",
        "    text_2, model, tokenizer, device, max_length=train_dataset.max_length\n",
        "))"
      ],
      "metadata": {
        "id": "x6FITjN3ALcy"
      },
      "execution_count": null,
      "outputs": []
    },
    {
      "cell_type": "markdown",
      "source": [
        "Also, here, the model makes a correct prediction and returns a \"not spam\" label.\n",
        "\n",
        "Finally, let's save the model in case we want to reuse the model later without having to train it again using the torch.save method\n",
        "\n",
        "\n"
      ],
      "metadata": {
        "id": "PUdGFgE9AN1Y"
      }
    },
    {
      "cell_type": "code",
      "source": [
        "torch.save(model.state_dict(), \"review_classifier.pth\")"
      ],
      "metadata": {
        "id": "ZJjONvr3AQoS"
      },
      "execution_count": null,
      "outputs": []
    },
    {
      "cell_type": "markdown",
      "source": [
        "Once saved, the model can be loaded as follows:"
      ],
      "metadata": {
        "id": "pnRQj1iVASpQ"
      }
    },
    {
      "cell_type": "code",
      "source": [
        "model_state_dict = torch.load(\"review_classifier.pth\")\n",
        "model.load_state_dict(model_state_dict)"
      ],
      "metadata": {
        "id": "qXgoZsF1AUmh"
      },
      "execution_count": null,
      "outputs": []
    },
    {
      "cell_type": "markdown",
      "metadata": {
        "id": "9gO10gzQPF7R"
      },
      "source": [
        "# INSTRUCTION FINE-TUNING"
      ]
    },
    {
      "cell_type": "markdown",
      "source": [
        "## STEP 1: PREPARING DATASET"
      ],
      "metadata": {
        "id": "nmi3a20-Phx1"
      }
    },
    {
      "cell_type": "markdown",
      "source": [
        "In this section, we download and format the instruction dataset for instruction finetuning a pretrained LLM in this chapter. The dataset consists of 1100 instruction-response pairs.\n",
        "\n",
        "The following code implements and executes a function to download this dataset, which is a relatively small file, only 204 KB in size, in JSON format. JSON, or JavaScript Object Notation, mirrors the structure of Python dictionaries, providing a simple structure for data interchange that is both human-readable and machine-friendly."
      ],
      "metadata": {
        "id": "-9SgNkb0Pk4U"
      }
    },
    {
      "cell_type": "code",
      "source": [
        "import json\n",
        "import os\n",
        "import urllib\n",
        "import ssl\n",
        "\n",
        "def download_and_load_file(file_path, url):\n",
        "    ssl_context = ssl.create_default_context()\n",
        "    ssl_context.check_hostname = False\n",
        "    ssl_context.verify_mode = ssl.CERT_NONE\n",
        "\n",
        "    if not os.path.exists(file_path):\n",
        "        with urllib.request.urlopen(url, context=ssl_context) as response:\n",
        "            text_data = response.read().decode(\"utf-8\")\n",
        "        with open(file_path, \"w\", encoding=\"utf-8\") as file:\n",
        "            file.write(text_data)\n",
        "    else:\n",
        "        with open(file_path, \"r\", encoding=\"utf-8\") as file:\n",
        "            text_data = file.read()\n",
        "\n",
        "    with open(file_path, \"r\", encoding=\"utf-8\") as file:\n",
        "        data = json.load(file)\n",
        "\n",
        "    return data\n",
        "\n",
        "\n",
        "file_path = \"instruction-data.json\"\n",
        "url = (\n",
        "    \"https://raw.githubusercontent.com/rasbt/LLMs-from-scratch\"\n",
        "    \"/main/ch07/01_main-chapter-code/instruction-data.json\"\n",
        ")\n",
        "\n",
        "data = download_and_load_file(file_path, url)\n",
        "print(\"Number of entries:\", len(data))\n"
      ],
      "metadata": {
        "id": "Uauw_eSLPfnE"
      },
      "execution_count": null,
      "outputs": []
    },
    {
      "cell_type": "markdown",
      "source": [
        "The data list , which we loaded from the JSON file contains the 1100 entries of the instruction dataset.\n",
        "\n",
        "Let's print one of the entries to see how each entry is structured:"
      ],
      "metadata": {
        "id": "xUdhgfaiQBon"
      }
    },
    {
      "cell_type": "code",
      "source": [
        "print(\"Example entry:\\n\", data[50])"
      ],
      "metadata": {
        "id": "VubL3_5bQDRI"
      },
      "execution_count": null,
      "outputs": []
    },
    {
      "cell_type": "code",
      "source": [
        "print(\"Another example entry:\\n\", data[999])"
      ],
      "metadata": {
        "id": "Ghf8XSiKQGfx"
      },
      "execution_count": null,
      "outputs": []
    },
    {
      "cell_type": "markdown",
      "source": [
        "# CONVERTING INSTRUCTIONS INTO ALPACA FORMAT"
      ],
      "metadata": {
        "id": "yw0TPAF8QI9x"
      }
    },
    {
      "cell_type": "code",
      "source": [
        "def format_input(entry):\n",
        "    instruction_text = (\n",
        "        f\"Below is an instruction that describes a task. \"\n",
        "        f\"Write a response that appropriately completes the request.\"\n",
        "        f\"\\n\\n### Instruction:\\n{entry['instruction']}\"\n",
        "    )\n",
        "\n",
        "    input_text = f\"\\n\\n### Input:\\n{entry['input']}\" if entry[\"input\"] else \"\"\n",
        "\n",
        "    return instruction_text + input_text"
      ],
      "metadata": {
        "id": "St0lFr5JQLKl"
      },
      "execution_count": null,
      "outputs": []
    },
    {
      "cell_type": "markdown",
      "source": [
        "This format_input function takes a dictionary entry as input and constructs a formatted string.\n",
        "\n",
        "Let's test it to dataset entry data[50], which to looked at earlier:"
      ],
      "metadata": {
        "id": "PU_loXsDQO05"
      }
    },
    {
      "cell_type": "code",
      "source": [
        "model_input = format_input(data[50])\n",
        "desired_response = f\"\\n\\n### Response:\\n{data[50]['output']}\"\n",
        "\n",
        "print(model_input + desired_response)"
      ],
      "metadata": {
        "id": "gIyIodwVQQVA"
      },
      "execution_count": null,
      "outputs": []
    },
    {
      "cell_type": "markdown",
      "source": [
        "Note that the format_input skips the optional ### Input: section if the 'input' field is empty, which we can test out by applying the format_input function to entry data[999] that we inspected earlier:"
      ],
      "metadata": {
        "id": "nJxLPi0UQWGZ"
      }
    },
    {
      "cell_type": "code",
      "source": [
        "model_input = format_input(data[999])\n",
        "desired_response = f\"\\n\\n### Response:\\n{data[999]['output']}\"\n",
        "\n",
        "print(model_input + desired_response)"
      ],
      "metadata": {
        "id": "_uGiJU9HQWol"
      },
      "execution_count": null,
      "outputs": []
    },
    {
      "cell_type": "markdown",
      "source": [
        "# SPLITTING DATASET INTO TRAIN-TEST-VALIDATION"
      ],
      "metadata": {
        "id": "Oimn77rAQb3k"
      }
    },
    {
      "cell_type": "code",
      "source": [
        "train_portion = int(len(data) * 0.85)  # 85% for training\n",
        "test_portion = int(len(data) * 0.1)    # 10% for testing\n",
        "val_portion = len(data) - train_portion - test_portion  # Remaining 5% for validation\n",
        "\n",
        "train_data = data[:train_portion]\n",
        "test_data = data[train_portion:train_portion + test_portion]\n",
        "val_data = data[train_portion + test_portion:]"
      ],
      "metadata": {
        "id": "3M9VPyM9QYvj"
      },
      "execution_count": null,
      "outputs": []
    },
    {
      "cell_type": "code",
      "source": [
        "print(\"Training set length:\", len(train_data))\n",
        "print(\"Validation set length:\", len(val_data))\n",
        "print(\"Test set length:\", len(test_data))"
      ],
      "metadata": {
        "id": "1AHcuq8KQhNG"
      },
      "execution_count": null,
      "outputs": []
    },
    {
      "cell_type": "markdown",
      "source": [
        "Having successfully downloaded and partitioned the dataset, and gained a clear understanding of the dataset prompt formatting, we are now ready for the core implementation of the instruction finetuning process."
      ],
      "metadata": {
        "id": "AOcZCSoNQj6k"
      }
    },
    {
      "cell_type": "markdown",
      "source": [
        "# STEP 2: ORGANIZING DATA INTO TRAINING BATCHES"
      ],
      "metadata": {
        "id": "AowE4PVMQmNc"
      }
    },
    {
      "cell_type": "markdown",
      "source": [
        "In the previous chapter, the training batches were created automatically by the PyTorch DataLoader class, which employs a default collate function to combine lists of samples into batches.\n",
        "\n",
        "A collate function is responsible for taking a list of individual data samples and merging them into a single batch that can be processed efficiently by the model during training.\n",
        "\n",
        "However, the batching process for instruction finetuning in this chapter is a bit more involved and requires us to create our own custom collate function that we will later plug into the DataLoader.\n",
        "\n",
        "We implement this custom collate function to handle the specific requirements and formatting of our instruction finetuning dataset.\n",
        "\n",
        "First, we code an InstructionDataset class that applies format_input from the previous section and pretokenizes all inputs in the dataset, similar to the SpamDataset in chapter 6.\n",
        "\n",
        "\n"
      ],
      "metadata": {
        "id": "5gVK8Cf0Qpq1"
      }
    },
    {
      "cell_type": "code",
      "source": [
        "import torch\n",
        "from torch.utils.data import Dataset\n",
        "\n",
        "\n",
        "class InstructionDataset(Dataset):\n",
        "    def __init__(self, data, tokenizer):\n",
        "        self.data = data\n",
        "\n",
        "        # Pre-tokenize texts\n",
        "        self.encoded_texts = []\n",
        "        for entry in data:\n",
        "            instruction_plus_input = format_input(entry)\n",
        "            response_text = f\"\\n\\n### Response:\\n{entry['output']}\"\n",
        "            full_text = instruction_plus_input + response_text\n",
        "            self.encoded_texts.append(\n",
        "                tokenizer.encode(full_text)\n",
        "            )\n",
        "\n",
        "    def __getitem__(self, index):\n",
        "        return self.encoded_texts[index]\n",
        "\n",
        "    def __len__(self):\n",
        "        return len(self.data)"
      ],
      "metadata": {
        "id": "WbLeak09QsTi"
      },
      "execution_count": null,
      "outputs": []
    },
    {
      "cell_type": "markdown",
      "source": [
        "Similar to the approach in chapter 6, we aim to accelerate training by collecting multiple training examples in a batch, which necessitates padding all inputs to a similar length.\n",
        "\n",
        "As with the previous chapter, we use the <|endoftext|> token as a padding token.\n",
        "\n",
        "Instead of appending the <|endoftext|> tokens to the text inputs, we can append its token ID to the pre-tokenized inputs directly.\n",
        "\n",
        "To remind us which token ID we should use, we can use the tokenizer's .encode method on an <|endoftext|> token:"
      ],
      "metadata": {
        "id": "HTyFI0FtQzXw"
      }
    },
    {
      "cell_type": "code",
      "source": [
        "import tiktoken\n",
        "tokenizer = tiktoken.get_encoding(\"gpt2\")\n",
        "\n",
        "print(tokenizer.encode(\"<|endoftext|>\", allowed_special={\"<|endoftext|>\"}))"
      ],
      "metadata": {
        "id": "WKzhm-g5Qz5v"
      },
      "execution_count": null,
      "outputs": []
    },
    {
      "cell_type": "markdown",
      "source": [
        "In chapter 6, we padded all examples in a dataset to the same length.\n",
        "\n",
        "Moving on, here, we adopt a more sophisticated approach by developing a custom collate function that we can pass to the data loader.\n",
        "\n",
        "This custom collate function pads the training examples in each batch to have the same length, while allowing different batches to have different lengths.\n",
        "\n",
        "This approach minimizes unnecessary padding by only extending sequences to match the longest one in each batch, not the whole dataset.\n",
        "\n",
        "We can implement the padding process with a custom collate function as follows:\n",
        "\n",
        "Step 1: Find the longest sequence in the batch\n",
        "\n",
        "Step 2: Pad and prepare inputs\n",
        "\n",
        "Step 3: Remove extra padded token added earlier\n",
        "\n",
        "Step 4: Convert list of inputs to tensor and transfer to target device"
      ],
      "metadata": {
        "id": "69f6oT_7Q8gP"
      }
    },
    {
      "cell_type": "code",
      "source": [
        "def custom_collate_draft_1(\n",
        "    batch,\n",
        "    pad_token_id=50256,\n",
        "    device=\"cpu\"\n",
        "):\n",
        "    # Find the longest sequence in the batch\n",
        "    # and increase the max length by +1, which will add one extra\n",
        "    # padding token below\n",
        "    batch_max_length = max(len(item)+1 for item in batch)\n",
        "\n",
        "    # Pad and prepare inputs\n",
        "    inputs_lst = []\n",
        "\n",
        "    for item in batch:\n",
        "        new_item = item.copy()\n",
        "        # Add an <|endoftext|> token\n",
        "        new_item += [pad_token_id]\n",
        "        # Pad sequences to batch_max_length\n",
        "        padded = (\n",
        "            new_item + [pad_token_id] *\n",
        "            (batch_max_length - len(new_item))\n",
        "        )\n",
        "        # Via padded[:-1], we remove the extra padded token\n",
        "        # that has been added via the +1 setting in batch_max_length\n",
        "        # (the extra padding token will be relevant in later codes)\n",
        "        inputs = torch.tensor(padded[:-1])\n",
        "        inputs_lst.append(inputs)\n",
        "\n",
        "    # Convert list of inputs to tensor and transfer to target device\n",
        "    inputs_tensor = torch.stack(inputs_lst).to(device)\n",
        "    return inputs_tensor"
      ],
      "metadata": {
        "id": "wQFQeAbBQ_OB"
      },
      "execution_count": null,
      "outputs": []
    },
    {
      "cell_type": "markdown",
      "source": [
        "The custom_collate_draft_1 we implemented is designed to be integrated into a PyTorch DataLoader, but it can also function as a standalone tool.\n",
        "\n",
        "Here, we use it independently to test and verify that it operates as intended.\n",
        "\n",
        "Let's try it on three different inputs that we want to assemble into a batch, where each example gets padded to the same length:"
      ],
      "metadata": {
        "id": "cPJQzD76RD9Q"
      }
    },
    {
      "cell_type": "code",
      "source": [
        "inputs_1 = [0, 1, 2, 3, 4]\n",
        "inputs_2 = [5, 6]\n",
        "inputs_3 = [7, 8, 9]\n",
        "\n",
        "batch = (\n",
        "    inputs_1,\n",
        "    inputs_2,\n",
        "    inputs_3\n",
        ")\n",
        "\n",
        "print(custom_collate_draft_1(batch))"
      ],
      "metadata": {
        "id": "g4304AU5RF8f"
      },
      "execution_count": null,
      "outputs": []
    },
    {
      "cell_type": "markdown",
      "source": [
        "As we can see based on the preceding output, all inputs have been padded to the length of the longest input list, inputs_1 containing 5 token IDs.\n",
        "\n",
        "So far, we have just implemented our first custom collate function to create batches from lists of inputs.\n",
        "\n",
        "However, as you learned in previous lessons, we also need to create batches with the target token IDs, corresponding to the batch of input IDs.\n",
        "\n",
        "These target IDs are crucial because they represent what we want the model to generate and what we need during training to calculate the loss for the weight updates, similar to previous chapters."
      ],
      "metadata": {
        "id": "EKClXbF5RLlN"
      }
    },
    {
      "cell_type": "markdown",
      "source": [],
      "metadata": {
        "id": "5jdb3qf-TRqt"
      }
    },
    {
      "cell_type": "markdown",
      "metadata": {
        "id": "qUxZT5eiPF7T"
      },
      "source": [
        "# CREATING TARGET TOKEN IDS FOR TRAINING"
      ]
    },
    {
      "cell_type": "markdown",
      "source": [
        "Similar to the process described for pretraining an LLM, the target token IDs match the input token IDs but are shifted one position to the right.\n",
        "\n",
        "This setup allows the LLM to learn how to predict the next token in a sequence.\n",
        "\n",
        "The following updated collate function generates the target token IDs from the input token IDs:"
      ],
      "metadata": {
        "id": "X9lA4BcYRSgi"
      }
    },
    {
      "cell_type": "code",
      "source": [
        "def custom_collate_draft_2(\n",
        "    batch,\n",
        "    pad_token_id=50256,\n",
        "    device=\"cpu\"\n",
        "):\n",
        "    # Find the longest sequence in the batch\n",
        "    batch_max_length = max(len(item)+1 for item in batch)\n",
        "\n",
        "    # Pad and prepare inputs\n",
        "    inputs_lst, targets_lst = [], []\n",
        "\n",
        "    for item in batch:\n",
        "        new_item = item.copy()\n",
        "        # Add an <|endoftext|> token\n",
        "        new_item += [pad_token_id]\n",
        "        # Pad sequences to max_length\n",
        "        padded = (\n",
        "            new_item + [pad_token_id] *\n",
        "            (batch_max_length - len(new_item))\n",
        "        )\n",
        "        inputs = torch.tensor(padded[:-1])  # Truncate the last token for inputs\n",
        "        targets = torch.tensor(padded[1:])  # Shift +1 to the right for targets\n",
        "        inputs_lst.append(inputs)\n",
        "        targets_lst.append(targets)\n",
        "\n",
        "    # Convert list of inputs to tensor and transfer to target device\n",
        "    inputs_tensor = torch.stack(inputs_lst).to(device)\n",
        "    targets_tensor = torch.stack(targets_lst).to(device)\n",
        "    return inputs_tensor, targets_tensor"
      ],
      "metadata": {
        "id": "suifQjRJRUbO"
      },
      "execution_count": null,
      "outputs": []
    },
    {
      "cell_type": "markdown",
      "source": [
        "Step 1: Truncate the last token for inputs\n",
        "\n",
        "Step 2: Shift +1 to the right for targets"
      ],
      "metadata": {
        "id": "ZBV-OSm1RbtE"
      }
    },
    {
      "cell_type": "code",
      "source": [
        "inputs_1 = [0, 1, 2, 3, 4]\n",
        "inputs_2 = [5, 6]\n",
        "inputs_3 = [7, 8, 9]\n",
        "\n",
        "batch = (\n",
        "    inputs_1,\n",
        "    inputs_2,\n",
        "    inputs_3\n",
        ")\n",
        "\n",
        "inputs, targets = custom_collate_draft_2(batch)\n",
        "print(inputs)\n",
        "print(targets)\n"
      ],
      "metadata": {
        "id": "6IM7bTfNRd6Z"
      },
      "execution_count": null,
      "outputs": []
    },
    {
      "cell_type": "markdown",
      "source": [
        "The 1st tensor represents inputs.\n",
        "\n",
        "The 2nd tensor represents the targets\n",
        "\n",
        "In the next step, we assign a -100 placeholder value to all padding tokens.\n",
        "\n",
        "This special value allows us to exclude these padding tokens from contributing to the training loss calculation, ensuring that only meaningful data influences model learning.\n",
        "\n",
        "In classification fine-tuning, we did not have to worry about this since we only trained the model based on the last output token.)\n",
        "\n",
        "Note that we retain one end-of-text token, ID 50256, in the target list.\n",
        "\n",
        "This allows the LLM to learn when to generate an end-of-text token in response to instructions, which we use as an indicator that the generated response is complete.\n",
        "\n",
        "In the following code, we modify our custom collate function to replace tokens with ID 50256 with -100 in the target lists.\n",
        "\n",
        "Additionally, we introduce an allowed_max_length parameter to optionally limit the length of the samples.\n",
        "\n",
        "This adjustment will be useful if you plan to work with your own datasets that exceed the 1024- token context size supported by the GPT-2 model.\n",
        "\n",
        "The code for this updated collate function is as follows:"
      ],
      "metadata": {
        "id": "y3CS8uFGRgsU"
      }
    },
    {
      "cell_type": "code",
      "source": [
        "def custom_collate_fn(\n",
        "    batch,\n",
        "    pad_token_id=50256,\n",
        "    ignore_index=-100,\n",
        "    allowed_max_length=None,\n",
        "    device=\"cpu\"\n",
        "):\n",
        "    # Find the longest sequence in the batch\n",
        "    batch_max_length = max(len(item)+1 for item in batch)\n",
        "\n",
        "    # Pad and prepare inputs and targets\n",
        "    inputs_lst, targets_lst = [], []\n",
        "\n",
        "    for item in batch:\n",
        "        new_item = item.copy()\n",
        "        # Add an <|endoftext|> token\n",
        "        new_item += [pad_token_id]\n",
        "        # Pad sequences to max_length\n",
        "        padded = (\n",
        "            new_item + [pad_token_id] *\n",
        "            (batch_max_length - len(new_item))\n",
        "        )\n",
        "        inputs = torch.tensor(padded[:-1])  # Truncate the last token for inputs\n",
        "        targets = torch.tensor(padded[1:])  # Shift +1 to the right for targets\n",
        "\n",
        "        # New: Replace all but the first padding tokens in targets by ignore_index\n",
        "        mask = targets == pad_token_id\n",
        "        indices = torch.nonzero(mask).squeeze()\n",
        "        if indices.numel() > 1:\n",
        "            targets[indices[1:]] = ignore_index\n",
        "\n",
        "        # New: Optionally truncate to maximum sequence length\n",
        "        if allowed_max_length is not None:\n",
        "            inputs = inputs[:allowed_max_length]\n",
        "            targets = targets[:allowed_max_length]\n",
        "\n",
        "        inputs_lst.append(inputs)\n",
        "        targets_lst.append(targets)\n",
        "\n",
        "    # Convert list of inputs and targets to tensors and transfer to target device\n",
        "    inputs_tensor = torch.stack(inputs_lst).to(device)\n",
        "    targets_tensor = torch.stack(targets_lst).to(device)\n",
        "\n",
        "    return inputs_tensor, targets_tensor"
      ],
      "metadata": {
        "id": "KbHb4bQERkFc"
      },
      "execution_count": null,
      "outputs": []
    },
    {
      "cell_type": "markdown",
      "source": [
        "Step 1: Replace all but the first padding tokens in targets by ignore_index\n",
        "\n",
        "Step 2: Optionally truncate to maximum sequence length\n",
        "\n",
        "Again, let's try the collate function on the sample batch that we created earlier to check that it works as intended:"
      ],
      "metadata": {
        "id": "DyBYekomRpoE"
      }
    },
    {
      "cell_type": "code",
      "source": [
        "inputs_1 = [0, 1, 2, 3, 4]\n",
        "inputs_2 = [5, 6]\n",
        "inputs_3 = [7, 8, 9]\n",
        "\n",
        "batch = (\n",
        "    inputs_1,\n",
        "    inputs_2,\n",
        "    inputs_3\n",
        ")\n",
        "\n",
        "inputs, targets = custom_collate_fn(batch)\n",
        "print(inputs)\n",
        "print(targets)"
      ],
      "metadata": {
        "id": "spzmg0jxRr5Y"
      },
      "execution_count": null,
      "outputs": []
    },
    {
      "cell_type": "markdown",
      "source": [
        "The modified collate function works as expected, altering the target list by inserting the token ID -100.\n",
        "\n",
        "What is the logic behind this adjustment? Let's explore the underlying purpose of this modification.\n",
        "\n",
        "For demonstration purposes, consider the following simple and self-contained example where each output logit can correspond to a potential token from the model's vocabulary.\n",
        "\n",
        "Here's how we might calculate the cross entropy loss (introduced in chapter 5) during training when the model predicts a sequence of tokens, similar to what we have done in chapter 5 when pretraining the model, or in chapter 6 when finetuning the model for classification:"
      ],
      "metadata": {
        "id": "1lCMTRJWRvoH"
      }
    },
    {
      "cell_type": "code",
      "source": [
        "logits_1 = torch.tensor(\n",
        "    [[-1.0, 1.0],  # 1st training example\n",
        "     [-0.5, 1.5]]  # 2nd training example\n",
        ")\n",
        "targets_1 = torch.tensor([0, 1])\n",
        "\n",
        "\n",
        "loss_1 = torch.nn.functional.cross_entropy(logits_1, targets_1)\n",
        "print(loss_1)"
      ],
      "metadata": {
        "id": "CskcCvQ5Rxzm"
      },
      "execution_count": null,
      "outputs": []
    },
    {
      "cell_type": "markdown",
      "source": [
        "Adding an additional token ID will, as we would expect, affect the loss calculation."
      ],
      "metadata": {
        "id": "naiv4UpbR17u"
      }
    },
    {
      "cell_type": "code",
      "source": [
        "logits_2 = torch.tensor(\n",
        "    [[-1.0, 1.0],\n",
        "     [-0.5, 1.5],\n",
        "     [-0.5, 1.5]]  # New 3rd training example\n",
        ")\n",
        "targets_2 = torch.tensor([0, 1, 1])\n",
        "\n",
        "loss_2 = torch.nn.functional.cross_entropy(logits_2, targets_2)\n",
        "print(loss_2)"
      ],
      "metadata": {
        "id": "AnZGkNhKR4y6"
      },
      "execution_count": null,
      "outputs": []
    },
    {
      "cell_type": "markdown",
      "source": [
        "Now, let's get to the interesting part and see what happens if we replace the third target token ID with -100:"
      ],
      "metadata": {
        "id": "zQWeu1ZKR7wP"
      }
    },
    {
      "cell_type": "code",
      "source": [
        "\n",
        "targets_3 = torch.tensor([0, 1, -100])\n",
        "\n",
        "loss_3 = torch.nn.functional.cross_entropy(logits_2, targets_3)\n",
        "print(loss_3)\n",
        "print(\"loss_1 == loss_3:\", loss_1 == loss_3)"
      ],
      "metadata": {
        "id": "JOcNy4dVR9SF"
      },
      "execution_count": null,
      "outputs": []
    },
    {
      "cell_type": "markdown",
      "source": [
        "Based on this result, we can see that the resulting loss on these 3 training examples is identical to the loss we calculated from the 2 training examples earlier.\n",
        "\n",
        "In other words, the cross entropy loss function ignored the third entry in the targets_3 vector, the token ID corresponding to -100.\n",
        "\n",
        "(Interested readers can try to replace the -100 value with another token IDs that is not 0 or 1, and will see that this results in an error.)\n",
        "\n",
        "So, what's so special about -100 that it's ignored by the cross entropy loss? The default setting of the cross entropy function in PyTorch is cross_entropy(..., ignore_index=-100).\n",
        "\n",
        "This means that it ignores targets labeled with -100.\n",
        "\n",
        "In this chapter, we take advantage of this ignore_index to ignore the additional end-oftext (padding) tokens that we used to pad the training examples to have the same length in each batch.\n",
        "\n",
        "However, we want to keep one 50256 (end-of-text) token ID in the targets because it helps the LLM to learn to generate end-of-text tokens, which we can use as an indicator that a response is complete."
      ],
      "metadata": {
        "id": "syPbH432SAZI"
      }
    },
    {
      "cell_type": "markdown",
      "source": [
        "# MASKING TARGET TOKEN IDS"
      ],
      "metadata": {
        "id": "YMhdlvq4SFYR"
      }
    },
    {
      "cell_type": "markdown",
      "source": [
        "In addition to masking out padding tokens, it is also common to mask out the target token IDs that correspond to the instruction\n",
        "\n",
        "By masking out the target token IDs that correspond to the instruction, the LLM cross entropy loss is only computed for the generated response target IDs.\n",
        "\n",
        "By masking out the instruction tokens, the model is trained to focus on generating accurate responses rather than additionally also memorizing instructions, which can help with reducing overfitting.\n",
        "\n",
        "Currently, researchers are divided on whether masking the instructions is universally beneficial during instruction finetuning.\n",
        "\n",
        "For instance, a recent paper titled \"Instruction Tuning With Loss Over Instructions\" demonstrated that not masking the instructions benefits the LLM performance.\n",
        "\n",
        "In this chapter, we do not apply masking and leave it as an optional exercise for the reader."
      ],
      "metadata": {
        "id": "zxJKAeU8SH2Y"
      }
    },
    {
      "cell_type": "markdown",
      "source": [
        "# STEP 3: CREATING DATALOADERS FROM AN INSTRUCTION DATASET"
      ],
      "metadata": {
        "id": "ejAm9MpzSMDf"
      }
    },
    {
      "cell_type": "code",
      "source": [],
      "metadata": {
        "id": "ejx31IatSOSm"
      },
      "execution_count": null,
      "outputs": []
    },
    {
      "cell_type": "markdown",
      "source": [
        "The custom_collate_fn includes code to move the input and target tensors (for example, torch.stack(inputs_lst).to(device)) to a specified device, which can be either \"cpu\" or \"cuda\" (for GPUs), or optionally \"mps\" for Macs with Apple Silicon chips.\n",
        "\n",
        "In previous chapters, we moved the data onto the target device (for example, the GPU memory when device=\"cuda\") in the main training loop. Having this as part of the collate function offers the advantage of performing this device transfer process as a background process outside the training loop, preventing it from blocking the GPU during model training.\n",
        "\n",
        "The following code initializes the device variable:"
      ],
      "metadata": {
        "id": "Z8FTAz2yTUMz"
      }
    },
    {
      "cell_type": "code",
      "source": [
        "device = torch.device(\"cuda\" if torch.cuda.is_available() else \"cpu\")\n",
        "\n",
        "# Note:\n",
        "# Uncommenting the following lines will allow the code to run on Apple Silicon chips, if applicable,\n",
        "# which is much faster than on an Apple CPU (as measured on an M3 MacBook Air).\n",
        "# However, the resulting loss values may be slightly different.\n",
        "\n",
        "#if torch.cuda.is_available():\n",
        "#    device = torch.device(\"cuda\")\n",
        "#elif torch.backends.mps.is_available():\n",
        "#    device = torch.device(\"mps\")\n",
        "#else:\n",
        "#    device = torch.device(\"cpu\")\n",
        "\n",
        "print(\"Device:\", device)"
      ],
      "metadata": {
        "id": "SZjBzb9cTU1P"
      },
      "execution_count": null,
      "outputs": []
    },
    {
      "cell_type": "markdown",
      "source": [
        "Next, to reuse the chosen device setting in custom_collate_fn when we plug it into the PyTorch DataLoader class later in this section, we use the partial function from Python's functools standard library to create a new version of the function with the device argument pre-filled.\n",
        "\n",
        "Additionally, we set the allowed_max_length to 1024, which truncates the data to the maximum context length supported by the GPT-2 model we finetune later in this chapter:"
      ],
      "metadata": {
        "id": "MLNd8JjzTXlJ"
      }
    },
    {
      "cell_type": "code",
      "source": [
        "from functools import partial\n",
        "customized_collate_fn = partial(custom_collate_fn, device=device, allowed_max_length=1024)"
      ],
      "metadata": {
        "id": "VG51nvEhTZay"
      },
      "execution_count": null,
      "outputs": []
    },
    {
      "cell_type": "code",
      "source": [],
      "metadata": {
        "id": "nuDR6pV-TbIh"
      },
      "execution_count": null,
      "outputs": []
    },
    {
      "cell_type": "markdown",
      "source": [
        "Next, we can set up the data loaders as we did in previous chapters, but this time we will use our custom collate function for the batching process:"
      ],
      "metadata": {
        "id": "mGT_DJ-1TdqD"
      }
    },
    {
      "cell_type": "code",
      "source": [
        "from torch.utils.data import DataLoader\n",
        "\n",
        "\n",
        "num_workers = 0\n",
        "batch_size = 8\n",
        "\n",
        "torch.manual_seed(123)\n",
        "\n",
        "train_dataset = InstructionDataset(train_data, tokenizer)\n",
        "train_loader = DataLoader(\n",
        "    train_dataset,\n",
        "    batch_size=batch_size,\n",
        "    collate_fn=customized_collate_fn,\n",
        "    shuffle=True,\n",
        "    drop_last=True,\n",
        "    num_workers=num_workers\n",
        ")\n",
        "\n",
        "val_dataset = InstructionDataset(val_data, tokenizer)\n",
        "val_loader = DataLoader(\n",
        "    val_dataset,\n",
        "    batch_size=batch_size,\n",
        "    collate_fn=customized_collate_fn,\n",
        "    shuffle=False,\n",
        "    drop_last=False,\n",
        "    num_workers=num_workers\n",
        ")\n",
        "\n",
        "test_dataset = InstructionDataset(test_data, tokenizer)\n",
        "test_loader = DataLoader(\n",
        "    test_dataset,\n",
        "    batch_size=batch_size,\n",
        "    collate_fn=customized_collate_fn,\n",
        "    shuffle=False,\n",
        "    drop_last=False,\n",
        "    num_workers=num_workers\n",
        ")"
      ],
      "metadata": {
        "id": "bzvBRi7STeNz"
      },
      "execution_count": null,
      "outputs": []
    },
    {
      "cell_type": "code",
      "source": [],
      "metadata": {
        "id": "idJJTq8jTgTn"
      },
      "execution_count": null,
      "outputs": []
    },
    {
      "cell_type": "markdown",
      "source": [
        "Let's examine the dimensions of the input and target batches generated by the training loader:"
      ],
      "metadata": {
        "id": "w2rYQR-XTiBc"
      }
    },
    {
      "cell_type": "code",
      "source": [
        "print(\"Train loader:\")\n",
        "for inputs, targets in train_loader:\n",
        "    print(inputs.shape, targets.shape)"
      ],
      "metadata": {
        "id": "rBGKQz16TilL"
      },
      "execution_count": null,
      "outputs": []
    },
    {
      "cell_type": "code",
      "source": [],
      "metadata": {
        "id": "RiSnANPvTkTi"
      },
      "execution_count": null,
      "outputs": []
    },
    {
      "cell_type": "markdown",
      "source": [
        "In the preceding output, we can see that the first input and target batch have dimensions 8×61, where 8 represents the batch size, and 61 is the number of tokens in each training example in this batch.\n",
        "\n",
        "The second input and target batch have a different number of tokens, for instance, 76.\n",
        "\n",
        "As we saw in the preceding code output, thanks to our custom collate function, the data loader is able to create batches of different lengths.\n",
        "\n",
        "In the next section, we load a pretrained LLM that we can then finetune with this data loader."
      ],
      "metadata": {
        "id": "y_HxDWkrTnTV"
      }
    },
    {
      "cell_type": "code",
      "source": [],
      "metadata": {
        "id": "OE5jdznYTpSC"
      },
      "execution_count": null,
      "outputs": []
    },
    {
      "cell_type": "markdown",
      "source": [
        "# STEP 4: LOADING A PRETRAINED LLM"
      ],
      "metadata": {
        "id": "1iXEEw9vTsFM"
      }
    },
    {
      "cell_type": "code",
      "source": [],
      "metadata": {
        "id": "iZAgMDT1TuPT"
      },
      "execution_count": null,
      "outputs": []
    },
    {
      "cell_type": "markdown",
      "source": [
        "Before beginning instruction finetuning, we first load a pretrained GPT model,\n",
        "\n",
        "Instead of using the smallest 124 million parameter model as before, we load the medium-sized model with 355 million parameters.\n",
        "\n",
        "The reason for this choice is that the 124 million parameter model is too limited in capacity to achieve qualitatively satisfactory results via instruction finetuning.\n",
        "\n",
        "This is done using the same code as in section 5.5 of chapter 5 and section 6.4 of the previous chapter, except that we now specify \"gpt2-medium (355M)\" instead of \"gpt2-small (124M)\".\n",
        "\n",
        "Please note that executing the code provided below will initiate the download of the medium-sized GPT model, which has a storage requirement of approximately 1.42 gigabytes.\n",
        "\n",
        "This is roughly three times larger than the storage space needed for the small model:\n",
        "\n",
        "\n",
        "\n"
      ],
      "metadata": {
        "id": "0Dx3pRQBTu5X"
      }
    },
    {
      "cell_type": "code",
      "source": [
        "from gpt_download3 import download_and_load_gpt2\n",
        "\n",
        "BASE_CONFIG = {\n",
        "    \"vocab_size\": 50257,     # Vocabulary size\n",
        "    \"context_length\": 1024,  # Context length\n",
        "    \"drop_rate\": 0.0,        # Dropout rate\n",
        "    \"qkv_bias\": True         # Query-key-value bias\n",
        "}\n",
        "\n",
        "model_configs = {\n",
        "    \"gpt2-small (124M)\": {\"emb_dim\": 768, \"n_layers\": 12, \"n_heads\": 12},\n",
        "    \"gpt2-medium (355M)\": {\"emb_dim\": 1024, \"n_layers\": 24, \"n_heads\": 16},\n",
        "    \"gpt2-large (774M)\": {\"emb_dim\": 1280, \"n_layers\": 36, \"n_heads\": 20},\n",
        "    \"gpt2-xl (1558M)\": {\"emb_dim\": 1600, \"n_layers\": 48, \"n_heads\": 25},\n",
        "}\n",
        "\n",
        "CHOOSE_MODEL = \"gpt2-medium (355M)\"\n",
        "\n",
        "BASE_CONFIG.update(model_configs[CHOOSE_MODEL])\n",
        "\n",
        "model_size = CHOOSE_MODEL.split(\" \")[-1].lstrip(\"(\").rstrip(\")\")\n",
        "settings, params = download_and_load_gpt2(\n",
        "    model_size=model_size,\n",
        "    models_dir=\"gpt2\"\n",
        ")\n",
        "\n",
        "model = GPTModel(BASE_CONFIG)\n",
        "load_weights_into_gpt(model, params)\n",
        "model.eval();"
      ],
      "metadata": {
        "id": "3mupErNxTyKc"
      },
      "execution_count": null,
      "outputs": []
    },
    {
      "cell_type": "markdown",
      "source": [
        "Before diving into finetuning the model in the next section, let's take a moment to assess the pretrained LLM's performance on one of the validation tasks by comparing its output to the expected response.\n",
        "\n",
        "This will give us a baseline understanding of how well the model performs on an instruction-following task right out of the box, prior to finetuning, and will help us appreciate the impact of finetuning later on.\n",
        "\n",
        "We use the first example from the validation set for this assessment:"
      ],
      "metadata": {
        "id": "yCi9kK5IT9uT"
      }
    },
    {
      "cell_type": "markdown",
      "source": [],
      "metadata": {
        "id": "rZwTiNmWUH4S"
      }
    },
    {
      "cell_type": "code",
      "source": [
        "torch.manual_seed(123)\n",
        "input_text = format_input(val_data[0])\n",
        "print(input_text)"
      ],
      "metadata": {
        "id": "1hG9x0VRT-VO"
      },
      "execution_count": null,
      "outputs": []
    },
    {
      "cell_type": "code",
      "source": [
        "token_ids = generate(\n",
        "    model=model,\n",
        "    idx=text_to_token_ids(input_text, tokenizer),\n",
        "    max_new_tokens=35,\n",
        "    context_size=BASE_CONFIG[\"context_length\"],\n",
        "    eos_id=50256,\n",
        ")\n",
        "generated_text = token_ids_to_text(token_ids, tokenizer)"
      ],
      "metadata": {
        "id": "3wH1fUe8UCDS"
      },
      "execution_count": null,
      "outputs": []
    },
    {
      "cell_type": "markdown",
      "source": [
        "It's important to note that the generate function returns the combined input and output text.\n",
        "\n",
        "This behavior was convenient in previous chapters since pretrained LLMs are primarily designed as text-completion models, where the input and output are concatenated to create a coherent and legible text.\n",
        "\n",
        "However, when evaluating the model's performance on a specific task, we often want to focus solely on the model's generated response.\n",
        "\n",
        "To isolate the model's response text, we need to subtract the length of the input instruction from the start of the generated_text:"
      ],
      "metadata": {
        "id": "D6FwI4WFUItT"
      }
    },
    {
      "cell_type": "code",
      "source": [
        "response_text = generated_text[len(input_text):].strip()\n",
        "print(response_text)"
      ],
      "metadata": {
        "id": "qpH98JgbULJC"
      },
      "execution_count": null,
      "outputs": []
    },
    {
      "cell_type": "markdown",
      "source": [
        "This code snippet removes the input text from the beginning of the generated_text, leaving us with only the model's generated response. The strip() function is then applied to remove any leading or trailing whitespace characters. The output is as follows:\n",
        "\n",
        "As we can see from the output, the pretrained model is not yet capable of correctly following the given instruction.\n",
        "\n",
        "While it does create a \"Response\" section, it simply repeats the original input sentence and part of the instruction, failing to convert the active sentence to passive voice as requested.\n",
        "\n",
        "In the upcoming section, we implement the finetuning process to improve the model's ability to comprehend and appropriately respond to such requests."
      ],
      "metadata": {
        "id": "u1pmiZDkUNjC"
      }
    },
    {
      "cell_type": "markdown",
      "source": [
        "# STEP 5: FINETUNING THE LLM ON INSTRUCTION DATA"
      ],
      "metadata": {
        "id": "hAIqEtdOUSqv"
      }
    },
    {
      "cell_type": "markdown",
      "source": [
        "We already did all the hard work when we implemented the instruction dataset processing at the beginning of this chapter.\n",
        "\n",
        "For the finetuning process itself, we can reuse the loss calculation and training functions implemented in chapter 5 during the pretraining:\n",
        "\n",
        "Before we begin training, let's calculate the initial loss for the training and validation sets:"
      ],
      "metadata": {
        "id": "Feh1nR59UVfw"
      }
    },
    {
      "cell_type": "markdown",
      "source": [
        "# PREVIOUSLY DEFINED FUNCTIONS WHICH WE WILL REQUIRE"
      ],
      "metadata": {
        "id": "pH-BVBdDUZmQ"
      }
    },
    {
      "cell_type": "code",
      "source": [
        "def calc_loss_batch(input_batch, target_batch, model, device):\n",
        "    input_batch, target_batch = input_batch.to(device), target_batch.to(device)\n",
        "    logits = model(input_batch)\n",
        "    loss = torch.nn.functional.cross_entropy(logits.flatten(0, 1), target_batch.flatten())\n",
        "    return loss\n",
        "\n",
        "\n",
        "def calc_loss_loader(data_loader, model, device, num_batches=None):\n",
        "    total_loss = 0.\n",
        "    if len(data_loader) == 0:\n",
        "        return float(\"nan\")\n",
        "    elif num_batches is None:\n",
        "        num_batches = len(data_loader)\n",
        "    else:\n",
        "        # Reduce the number of batches to match the total number of batches in the data loader\n",
        "        # if num_batches exceeds the number of batches in the data loader\n",
        "        num_batches = min(num_batches, len(data_loader))\n",
        "    for i, (input_batch, target_batch) in enumerate(data_loader):\n",
        "        if i < num_batches:\n",
        "            loss = calc_loss_batch(input_batch, target_batch, model, device)\n",
        "            total_loss += loss.item()\n",
        "        else:\n",
        "            break\n",
        "    return total_loss / num_batches\n",
        "\n",
        "def train_model_simple(model, train_loader, val_loader, optimizer, device, num_epochs,\n",
        "                       eval_freq, eval_iter, start_context, tokenizer):\n",
        "    # Initialize lists to track losses and tokens seen\n",
        "    train_losses, val_losses, track_tokens_seen = [], [], []\n",
        "    tokens_seen, global_step = 0, -1\n",
        "\n",
        "    # Main training loop\n",
        "    for epoch in range(num_epochs):\n",
        "        model.train()  # Set model to training mode\n",
        "\n",
        "        for input_batch, target_batch in train_loader:\n",
        "            optimizer.zero_grad() # Reset loss gradients from previous batch iteration\n",
        "            loss = calc_loss_batch(input_batch, target_batch, model, device)\n",
        "            loss.backward() # Calculate loss gradients\n",
        "            optimizer.step() # Update model weights using loss gradients\n",
        "            tokens_seen += input_batch.numel() # Returns the total number of elements (or tokens) in the input_batch.\n",
        "            global_step += 1\n",
        "\n",
        "            # Optional evaluation step\n",
        "            if global_step % eval_freq == 0:\n",
        "                train_loss, val_loss = evaluate_model(\n",
        "                    model, train_loader, val_loader, device, eval_iter)\n",
        "                train_losses.append(train_loss)\n",
        "                val_losses.append(val_loss)\n",
        "                track_tokens_seen.append(tokens_seen)\n",
        "                print(f\"Ep {epoch+1} (Step {global_step:06d}): \"\n",
        "                      f\"Train loss {train_loss:.3f}, Val loss {val_loss:.3f}\")\n",
        "\n",
        "        # Print a sample text after each epoch\n",
        "        generate_and_print_sample(\n",
        "            model, tokenizer, device, start_context\n",
        "        )\n",
        "\n",
        "    return train_losses, val_losses, track_tokens_seen\n"
      ],
      "metadata": {
        "id": "dO6BX88iUck6"
      },
      "execution_count": null,
      "outputs": []
    },
    {
      "cell_type": "code",
      "source": [
        "model.to(device)\n",
        "\n",
        "torch.manual_seed(123)\n",
        "\n",
        "with torch.no_grad():\n",
        "    train_loss = calc_loss_loader(train_loader, model, device, num_batches=5)\n",
        "    val_loss = calc_loss_loader(val_loader, model, device, num_batches=5)\n",
        "\n",
        "print(\"Training loss:\", train_loss)\n",
        "print(\"Validation loss:\", val_loss)"
      ],
      "metadata": {
        "id": "SKmpFcfiUfjR"
      },
      "execution_count": null,
      "outputs": []
    },
    {
      "cell_type": "markdown",
      "source": [
        "With the model and data loaders prepared, we can now proceed to train the model.\n",
        "The following code sets up the training process, including initializing the optimizer, setting the number of epochs, and defining the evaluation frequency and starting context to evaluate generated LLM responses during training based on the first validation set instruction (val_data[0]) we looked at earlier:"
      ],
      "metadata": {
        "id": "ZMycwpusUpJU"
      }
    },
    {
      "cell_type": "code",
      "source": [
        "import time\n",
        "\n",
        "start_time = time.time()\n",
        "\n",
        "torch.manual_seed(123)\n",
        "\n",
        "optimizer = torch.optim.AdamW(model.parameters(), lr=0.00005, weight_decay=0.1)\n",
        "\n",
        "num_epochs = 1\n",
        "\n",
        "train_losses, val_losses, tokens_seen = train_model_simple(\n",
        "    model, train_loader, val_loader, optimizer, device,\n",
        "    num_epochs=num_epochs, eval_freq=5, eval_iter=5,\n",
        "    start_context=format_input(val_data[0]), tokenizer=tokenizer\n",
        ")\n",
        "\n",
        "end_time = time.time()\n",
        "execution_time_minutes = (end_time - start_time) / 60\n",
        "print(f\"Training completed in {execution_time_minutes:.2f} minutes.\")"
      ],
      "metadata": {
        "id": "yYqogR6tUqsM"
      },
      "execution_count": null,
      "outputs": []
    },
    {
      "cell_type": "markdown",
      "source": [
        "As we can see based on the outputs above, the model trains well, as we can tell based on the decreasing training loss and validation loss values.\n",
        "\n",
        "Furthermore, based on the response text printed after each epoch, we can see that the model almost correctly follows the instruction to convert the input sentence 'The chef cooks the meal every day.' into passive voice 'The meal is prepared every day by the chef.' (We will properly format and evaluate the responses in a later section.\n",
        "\n",
        "To get better results, we need to finetune the model for more epochs.\n",
        "\n",
        "Finally, let's take a look at the training and validation loss curves"
      ],
      "metadata": {
        "id": "0_ewMBTwUuYJ"
      }
    },
    {
      "cell_type": "code",
      "source": [
        "import matplotlib.pyplot as plt\n",
        "from matplotlib.ticker import MaxNLocator\n",
        "\n",
        "\n",
        "def plot_losses(epochs_seen, tokens_seen, train_losses, val_losses):\n",
        "    fig, ax1 = plt.subplots(figsize=(5, 3))\n",
        "\n",
        "    # Plot training and validation loss against epochs\n",
        "    ax1.plot(epochs_seen, train_losses, label=\"Training loss\")\n",
        "    ax1.plot(epochs_seen, val_losses, linestyle=\"-.\", label=\"Validation loss\")\n",
        "    ax1.set_xlabel(\"Epochs\")\n",
        "    ax1.set_ylabel(\"Loss\")\n",
        "    ax1.legend(loc=\"upper right\")\n",
        "    ax1.xaxis.set_major_locator(MaxNLocator(integer=True))  # only show integer labels on x-axis\n",
        "\n",
        "    # Create a second x-axis for tokens seen\n",
        "    ax2 = ax1.twiny()  # Create a second x-axis that shares the same y-axis\n",
        "    ax2.plot(tokens_seen, train_losses, alpha=0)  # Invisible plot for aligning ticks\n",
        "    ax2.set_xlabel(\"Tokens seen\")\n",
        "\n",
        "    fig.tight_layout()  # Adjust layout to make room\n",
        "    plt.savefig(\"loss-plot.pdf\")\n",
        "    plt.show()"
      ],
      "metadata": {
        "id": "ekUUxEYIUwH6"
      },
      "execution_count": null,
      "outputs": []
    },
    {
      "cell_type": "code",
      "source": [
        "epochs_tensor = torch.linspace(0, num_epochs, len(train_losses))\n",
        "plot_losses(epochs_tensor, tokens_seen, train_losses, val_losses)"
      ],
      "metadata": {
        "id": "iw-6kaA0UzT3"
      },
      "execution_count": null,
      "outputs": []
    },
    {
      "cell_type": "markdown",
      "source": [
        "As we can see in the loss plot shown above, the model's performance on both the training and validation sets improves substantially over the course of training.\n",
        "\n",
        "The rapid decrease in losses during the initial phase indicates that the model is quickly learning meaningful patterns and representations from the data. Then, as training progresses to the second epoch, the losses continue to decrease but at a slower rate, suggesting that the model is finetuning its learned representations and converging to a stable solution.\n",
        "\n",
        "While the loss plot in figure 7.17 indicates that the model is training effectively, the most crucial aspect is its performance in terms of response quality and correctness. In the remaining sections of this chapter, we will extract the responses and store them in a format that allows us to evaluate and quantify the response quality."
      ],
      "metadata": {
        "id": "GX2_XvZFU2Fa"
      }
    },
    {
      "cell_type": "markdown",
      "source": [
        "# STEP 6: EXTRACTING AND SAVING RESPONSES"
      ],
      "metadata": {
        "id": "452JCwS_U537"
      }
    },
    {
      "cell_type": "markdown",
      "source": [
        "After finetuning the LLM on the training portion of the instruction dataset as described in the previous section, we now proceed to evaluate its performance on the held-out test set.\n",
        "\n",
        "To accomplish this, we first extract the model-generated responses for each input in the test dataset and collect them for manual analysis\n",
        "\n",
        "Step 1: Iterate over the first 3 test set samples\n",
        "\n",
        "Step 2: Use the generate function defined earlier\n",
        "\n",
        "As mentioned earlier, the generate function returns the combined input and output text, so we use slicing and the .replace() method on the generated_text contents to extract the model's response.\n",
        "\n",
        "The instructions, followed by the given test set response and model response are shown below:"
      ],
      "metadata": {
        "id": "k4iitWkQU_Dk"
      }
    },
    {
      "cell_type": "code",
      "source": [
        "torch.manual_seed(123)\n",
        "\n",
        "\n",
        "for entry in test_data[:3]:\n",
        "\n",
        "    input_text = format_input(entry)\n",
        "\n",
        "    token_ids = generate(\n",
        "        model=model,\n",
        "        idx=text_to_token_ids(input_text, tokenizer).to(device),\n",
        "        max_new_tokens=256,\n",
        "        context_size=BASE_CONFIG[\"context_length\"],\n",
        "        eos_id=50256\n",
        "    )\n",
        "    generated_text = token_ids_to_text(token_ids, tokenizer)\n",
        "    response_text = (\n",
        "        generated_text[len(input_text):]\n",
        "        .replace(\"### Response:\", \"\")\n",
        "        .strip()\n",
        ")\n",
        "\n",
        "    print(input_text)\n",
        "    print(f\"\\nCorrect response:\\n>> {entry['output']}\")\n",
        "    print(f\"\\nModel response:\\n>> {response_text.strip()}\")\n",
        "    print(\"-------------------------------------\")"
      ],
      "metadata": {
        "id": "7zzgg-vsVBBN"
      },
      "execution_count": null,
      "outputs": []
    },
    {
      "cell_type": "markdown",
      "source": [
        "As we can see based on the test set instructions, given responses, and the model's responses, the model performs relatively well.\n",
        "\n",
        "The answers to the first instruction is clearly correct, while the second answer and the third answers are not correct.\n",
        "\n",
        "This is because we have done the fine-tuning for only 1 epoch due to hardware limitations. To get better results, we need to increase the epochs to at least 2.\n",
        "\n",
        "Most importantly, we can see that model evaluation is not as straightforward as in the previous chapter, where we simply calculated the percentage of correct spam/non-spam class labels to obtain the classification accuracy.\n",
        "\n",
        "In practice, instruction-finetuned LLMs such as chatbots are evaluated via multiple approaches:\n",
        "\n",
        "Short-answer and multiple choice benchmarks such as MMLU (\"Measuring Massive Multitask Language Understanding,\" https://arxiv.org/abs/2009. 03300), which test the general knowledge of a model.\n",
        "\n",
        "Human preference comparison to other LLMs, such as LMSYS chatbot arena (https://arena.lmsys.org).\n",
        "\n",
        "Automated conversational benchmarks, where another LLM like GPT-4 is used to evaluate the responses, such as AlpacaEval (https://tatsulab.github.io/alpaca_eval/). completes the request."
      ],
      "metadata": {
        "id": "l96jJsCWVEXG"
      }
    },
    {
      "cell_type": "markdown",
      "source": [
        "Considering the scale of the task at hand, we will implement an approach similar to method 3, which involves evaluating the responses automatically using another LLM.\n",
        "\n",
        "This will allow us to efficiently assess the quality of the generated responses without the need for extensive human involvement, thereby saving time and resources while still obtaining meaningful performance indicators.\n",
        "\n",
        "To prepare the responses for this evaluation process, we append the generated model responses to the test_set dictionary and save the updated data as an \"instructiondata-with-response.json\" file for record keeping.\n",
        "\n",
        "Additionally, by saving this file, we can easily load and analyze the responses in separate Python sessions later on if needed.\n",
        "\n",
        "The following code uses the generate method in the same manner as before; however, we now iterate over the entire test_set.\n",
        "\n",
        "Also, instead of printing the model responses, we add them to the test_set dictionary:"
      ],
      "metadata": {
        "id": "N9WpG5KFVIl5"
      }
    },
    {
      "cell_type": "code",
      "source": [
        "from tqdm import tqdm\n",
        "\n",
        "for i, entry in tqdm(enumerate(test_data), total=len(test_data)):\n",
        "\n",
        "    input_text = format_input(entry)\n",
        "\n",
        "    token_ids = generate(\n",
        "        model=model,\n",
        "        idx=text_to_token_ids(input_text, tokenizer).to(device),\n",
        "        max_new_tokens=256,\n",
        "        context_size=BASE_CONFIG[\"context_length\"],\n",
        "        eos_id=50256\n",
        "    )\n",
        "    generated_text = token_ids_to_text(token_ids, tokenizer)\n",
        "    response_text = generated_text[len(input_text):].replace(\"### Response:\", \"\").strip()\n",
        "\n",
        "    test_data[i][\"model_response\"] = response_text\n",
        "\n",
        "\n",
        "with open(\"instruction-data-with-response.json\", \"w\") as file:\n",
        "    json.dump(test_data, file, indent=4)  # \"indent\" for pretty-printing"
      ],
      "metadata": {
        "id": "S8f_3RztVMr7"
      },
      "execution_count": null,
      "outputs": []
    },
    {
      "cell_type": "markdown",
      "source": [
        "Let's verify that the responses have been correctly added to the test_set dictionary by examining one of the entries:"
      ],
      "metadata": {
        "id": "JBz_NlFpVQkH"
      }
    },
    {
      "cell_type": "code",
      "source": [
        "print(test_data[0])"
      ],
      "metadata": {
        "id": "DrJ3437VVSOJ"
      },
      "execution_count": null,
      "outputs": []
    },
    {
      "cell_type": "markdown",
      "source": [
        "Based on the output, we can see that the model_response has been added correctly.\n",
        "\n",
        "Finally, we save the model as gpt2-medium355M-sft.pth file to be able to reuse it in future projects:"
      ],
      "metadata": {
        "id": "bYqbsnYzVZL-"
      }
    },
    {
      "cell_type": "code",
      "source": [
        "import re\n",
        "\n",
        "\n",
        "file_name = f\"{re.sub(r'[ ()]', '', CHOOSE_MODEL) }-sft.pth\"\n",
        "torch.save(model.state_dict(), file_name)\n",
        "print(f\"Model saved as {file_name}\")\n",
        "\n",
        "# Load model via\n",
        "# model.load_state_dict(torch.load(\"gpt2-medium355M-sft.pth\"))"
      ],
      "metadata": {
        "id": "-DG7HbNPVZyL"
      },
      "execution_count": null,
      "outputs": []
    },
    {
      "cell_type": "markdown",
      "source": [
        "# STEP 7: EVALUATING THE FINE-TUNED LLM"
      ],
      "metadata": {
        "id": "N_Abe4vXVeGG"
      }
    },
    {
      "cell_type": "code",
      "source": [],
      "metadata": {
        "id": "zXBGpHPLVgTn"
      },
      "execution_count": null,
      "outputs": []
    },
    {
      "cell_type": "markdown",
      "source": [
        "Previously, we judged the performance of an instruction finetuned model by looking at its responses on 3 examples of the test set.\n",
        "\n",
        "While this gives us a rough idea of how well the model performs, this method does not really scale well to larger amounts of responses.\n",
        "\n",
        "So, in this section, we implement a method to automate the response evaluation of the finetuned LLM using another, larger LLM.\n",
        "\n",
        "To implement the evaluation step which involves evaluating test set responses in an automated fashion, we utilize an existing instruction-finetuned 8 billion parameter Llama 3 model developed by Meta AI.\n",
        "\n",
        "This model can be run locally using the open-source Ollama application (https://ollama.com).\n",
        "\n",
        "Ollama is an efficient application for running LLMs on a laptop.\n",
        "\n",
        "It serves as a wrapper around the open-source llama.cpp library (https://github.com/ggerganov/llama.cpp), which implements LLMs in pure C/C++ to maximize efficiency.\n",
        "\n",
        "However, note that Ollama is only a tool for generating text using LLMs (inference) and does not support training or finetuning LLMs.\n",
        "\n",
        "The following code verifies that the Ollama session is running properly before we use Ollama to evaluate the test set responses generated in the previous section:"
      ],
      "metadata": {
        "id": "LEAQPE73Vguw"
      }
    },
    {
      "cell_type": "code",
      "source": [
        "import psutil\n",
        "\n",
        "def check_if_running(process_name):\n",
        "    running = False\n",
        "    for proc in psutil.process_iter([\"name\"]):\n",
        "        if process_name in proc.info[\"name\"]:\n",
        "            running = True\n",
        "            break\n",
        "    return running\n",
        "\n",
        "ollama_running = check_if_running(\"ollama\")\n",
        "\n",
        "if not ollama_running:\n",
        "    raise RuntimeError(\"Ollama not running. Launch ollama before proceeding.\")\n",
        "print(\"Ollama running:\", check_if_running(\"ollama\"))"
      ],
      "metadata": {
        "id": "W83ckgMUVj1I"
      },
      "execution_count": null,
      "outputs": []
    },
    {
      "cell_type": "markdown",
      "source": [
        "An alternative to the ollama run command for interacting with the model is through its REST API using Python.\n",
        "\n",
        "The following query_model function demonstrates how to use the API:\n",
        "\n",
        "Step 1: Create the data payload as a dictionary\n",
        "\n",
        "Step 2: Convert the dictionary to a JSON formatted string and encode it to bytes\n",
        "\n",
        "Step 3: Create a request object, setting the method to POST and adding necessary headers\n",
        "\n",
        "Step 4: Send the request and capture the response"
      ],
      "metadata": {
        "id": "ZnhGc2sjVnVj"
      }
    },
    {
      "cell_type": "code",
      "source": [
        "import urllib.request\n",
        "\n",
        "def query_model(\n",
        "    prompt,\n",
        "    model=\"llama3\",\n",
        "    url=\"http://localhost:11434/api/chat\"\n",
        "):\n",
        "    # Create the data payload as a dictionary\n",
        "    data = {\n",
        "        \"model\": model,\n",
        "        \"messages\": [\n",
        "            {\"role\": \"user\", \"content\": prompt}\n",
        "        ],\n",
        "        \"options\": {     # Settings below are required for deterministic responses\n",
        "            \"seed\": 123,\n",
        "            \"temperature\": 0,\n",
        "            \"num_ctx\": 2048\n",
        "        }\n",
        "    }\n",
        "\n",
        "\n",
        "    # Convert the dictionary to a JSON formatted string and encode it to bytes\n",
        "    payload = json.dumps(data).encode(\"utf-8\")\n",
        "\n",
        "    # Create a request object, setting the method to POST and adding necessary headers\n",
        "    request = urllib.request.Request(\n",
        "        url,\n",
        "        data=payload,\n",
        "        method=\"POST\"\n",
        "    )\n",
        "    request.add_header(\"Content-Type\", \"application/json\")\n",
        "\n",
        "    # Send the request and capture the response\n",
        "    response_data = \"\"\n",
        "    with urllib.request.urlopen(request) as response:\n",
        "        # Read and decode the response\n",
        "        while True:\n",
        "            line = response.readline().decode(\"utf-8\")\n",
        "            if not line:\n",
        "                break\n",
        "            response_json = json.loads(line)\n",
        "            response_data += response_json[\"message\"][\"content\"]\n",
        "\n",
        "    return response_data"
      ],
      "metadata": {
        "id": "OUaHWMU1VpXI"
      },
      "execution_count": null,
      "outputs": []
    },
    {
      "cell_type": "code",
      "source": [],
      "metadata": {
        "id": "02GW3yBoVrXN"
      },
      "execution_count": null,
      "outputs": []
    },
    {
      "cell_type": "markdown",
      "source": [
        "Before running the subsequent code cells in this notebook, ensure that Ollama is still running. The previous code cells should print \"Ollama running: True\" to confirm that the model is active and ready to receive requests.\n",
        "\n",
        "Here's an example of how to use the query_llama function we just implemented:"
      ],
      "metadata": {
        "id": "Yj_70Mz3Vsfn"
      }
    },
    {
      "cell_type": "code",
      "source": [
        "model = \"llama3\"\n",
        "result = query_model(\"What do Llamas eat?\", model)\n",
        "print(result)"
      ],
      "metadata": {
        "id": "BdQuZkJxVuUx"
      },
      "execution_count": null,
      "outputs": []
    },
    {
      "cell_type": "markdown",
      "source": [
        "Using the query_model function defined earlier, we can evaluate the responses generated by our finetuned model with a prompt that prompts the Llama 3 model to rate our finetuned model's responses on a scale from 0 to 100 based on the given test set response as reference.\n",
        "\n",
        "First, we apply this approach to the first three examples from the test set that we examined in a previous section:"
      ],
      "metadata": {
        "id": "pNbiYMhfVxq_"
      }
    },
    {
      "cell_type": "code",
      "source": [
        "for entry in test_data[:3]:\n",
        "    prompt = (\n",
        "        f\"Given the input `{format_input(entry)}` \"\n",
        "        f\"and correct output `{entry['output']}`, \"\n",
        "        f\"score the model response `{entry['model_response']}`\"\n",
        "        f\" on a scale from 0 to 100, where 100 is the best score. \"\n",
        "    )\n",
        "    print(\"\\nDataset response:\")\n",
        "    print(\">>\", entry['output'])\n",
        "    print(\"\\nModel response:\")\n",
        "    print(\">>\", entry[\"model_response\"])\n",
        "    print(\"\\nScore:\")\n",
        "    print(\">>\", query_model(prompt))\n",
        "    print(\"\\n-------------------------\")"
      ],
      "metadata": {
        "id": "B7TgznOGVzop"
      },
      "execution_count": null,
      "outputs": []
    },
    {
      "cell_type": "code",
      "source": [],
      "metadata": {
        "id": "ks1smXdLV1Wy"
      },
      "execution_count": null,
      "outputs": []
    },
    {
      "cell_type": "markdown",
      "source": [
        "Based on the generated responses, we can observe that the Llama 3 model provides reasonable evaluations and is capable of assigning partial points when a model's answer is not entirely correct.\n",
        "\n",
        "The previous prompt returns highly detailed evaluations in addition to the score.\n",
        "\n",
        "We can modify the prompt to just generate integer scores ranging from 0 to 100, where 100 represents the best possible score.\n",
        "\n",
        "This modification allows us to calculate an average score for our model, which serves as a more concise and quantitative assessment of its performance.\n",
        "\n",
        "The following generate_model_scores function uses a modified the prompt telling the model to \"Respond with the integer number only.\":"
      ],
      "metadata": {
        "id": "M4rJG0k_V4AG"
      }
    },
    {
      "cell_type": "code",
      "source": [
        "for entry in test_data[:2]:\n",
        "    prompt = (\n",
        "            f\"Given the input `{format_input(entry)}` \"\n",
        "            f\"and correct output `{entry['output']}`, \"\n",
        "            f\"score the model response `{entry['model_response']}`\"\n",
        "            f\" on a scale from 0 to 100, where 100 is the best score. \"\n",
        "            f\"Respond with the integer number only.\"\n",
        "        )\n",
        "    score = query_model(prompt, model)\n",
        "    print(\"\\nDataset response:\")\n",
        "    print(\">>\", entry['output'])\n",
        "    print(\"\\nModel response:\")\n",
        "    print(\">>\", entry[\"model_response\"])\n",
        "    print(\"\\nScore:\")\n",
        "    print(\">>\", query_model(prompt, model))\n",
        "    print(\"\\n-------------------------\")"
      ],
      "metadata": {
        "id": "fkcSiOQdV55J"
      },
      "execution_count": null,
      "outputs": []
    },
    {
      "cell_type": "code",
      "source": [
        "def generate_model_scores(json_data, json_key, model=\"llama3\"):\n",
        "    scores = []\n",
        "    for entry in tqdm(json_data, desc=\"Scoring entries\"):\n",
        "        prompt = (\n",
        "            f\"Given the input `{format_input(entry)}` \"\n",
        "            f\"and correct output `{entry['output']}`, \"\n",
        "            f\"score the model response `{entry[json_key]}`\"\n",
        "            f\" on a scale from 0 to 100, where 100 is the best score. \"\n",
        "            f\"Respond with the integer number only.\"\n",
        "        )\n",
        "        score = query_model(prompt, model)\n",
        "        try:\n",
        "            scores.append(int(score))\n",
        "        except ValueError:\n",
        "            print(f\"Could not convert score: {score}\")\n",
        "            continue\n",
        "\n",
        "    return scores"
      ],
      "metadata": {
        "id": "HwWYlP9LWB74"
      },
      "execution_count": null,
      "outputs": []
    },
    {
      "cell_type": "markdown",
      "source": [
        "I am not running the above function because of hardware limitations. I am using a Macbook Air 2020.\n",
        "\n",
        "It takes about 1 min on a M3 Macbook Air.\n",
        "\n",
        "When you run the above code, you will see that the evaluation output shows that our finetuned model achieves an average score above 50, which provides a useful benchmark for comparison against other models or for experimenting with different training configurations to improve the model's performance.\n",
        "\n",
        "It's worth noting that Ollama is not entirely deterministic at the time of this writing, which means that the scores you obtain might slightly vary from the ones presented above.\n",
        "\n",
        "To obtain more robust results, you can repeat the evaluation multiple times and average the resulting scores.\n",
        "\n",
        "To further improve our model's performance, we can explore various strategies, such as:\n",
        "\n",
        "(1) Adjusting the hyperparameters during finetuning, such as the learning rate, batch size, or number of epochs.\n",
        "\n",
        "(2) Increasing the size of the training dataset or diversifying the examples to cover a broader range of topics and styles.\n",
        "\n",
        "(3) Experimenting with different prompts or instruction formats to guide the model's responses more effectively.\n",
        "\n",
        "(4) Considering the use of a larger pretrained model, which may have greater capacity to capture complex patterns and generate more accurate responses.\n",
        "\n",
        "(5) We can also use parameter efficient fine-tuning techniques like LoRA."
      ],
      "metadata": {
        "id": "e6teKj15WEcB"
      }
    },
    {
      "cell_type": "code",
      "source": [],
      "metadata": {
        "id": "zn-8m8HuWHY8"
      },
      "execution_count": null,
      "outputs": []
    }
  ],
  "metadata": {
    "kernelspec": {
      "display_name": "Python 3 (ipykernel)",
      "language": "python",
      "name": "python3"
    },
    "language_info": {
      "codemirror_mode": {
        "name": "ipython",
        "version": 3
      },
      "file_extension": ".py",
      "mimetype": "text/x-python",
      "name": "python",
      "nbconvert_exporter": "python",
      "pygments_lexer": "ipython3",
      "version": "3.12.2"
    },
    "colab": {
      "provenance": []
    }
  },
  "nbformat": 4,
  "nbformat_minor": 0
}